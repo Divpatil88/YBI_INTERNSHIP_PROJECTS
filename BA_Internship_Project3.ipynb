{
  "nbformat": 4,
  "nbformat_minor": 0,
  "metadata": {
    "colab": {
      "provenance": [],
      "include_colab_link": true
    },
    "kernelspec": {
      "name": "python3",
      "display_name": "Python 3"
    },
    "language_info": {
      "name": "python"
    }
  },
  "cells": [
    {
      "cell_type": "markdown",
      "metadata": {
        "id": "view-in-github",
        "colab_type": "text"
      },
      "source": [
        "<a href=\"https://colab.research.google.com/github/Divpatil88/YBI_INTERNSHIP_PROJECTS/blob/main/BA_Internship_Project3.ipynb\" target=\"_parent\"><img src=\"https://colab.research.google.com/assets/colab-badge.svg\" alt=\"Open In Colab\"/></a>"
      ]
    },
    {
      "cell_type": "markdown",
      "source": [
        "**Movie Recommendation**"
      ],
      "metadata": {
        "id": "O972Cr4cusuv"
      }
    },
    {
      "cell_type": "markdown",
      "source": [
        "Recommender System is a system that seeks to predict or filter preferences according to the user's choices. Recommender systems are utilized in a variety of areas including movies, music, news, books, research articles, search queries, social tags, and products in general.\n",
        "\n",
        "Recommender systems produce a list of recommendations in any of the two ways -\n",
        "\n",
        "Collaborative filtering: Collaborative filtering approaches build a model from the user's past behavior (i.e. items purchased or searched by the user) as well as similar decisions made by other users. This model is then used to predict items (or ratings for items) that users may have an interest in\n",
        "\n",
        "Content-based filtering: Content-based filtering approaches uses a series of discrete characteristics of an item in order to recommend additional items with similar properties. Content-based filtering methods are totally based on a description of the item and a profile of the user's preferences. It recommends items based on the user's past preferences. Let's develop a basic recommendation system using Python and Pandas."
      ],
      "metadata": {
        "id": "hBG8gAYR6e_H"
      }
    },
    {
      "cell_type": "markdown",
      "source": [
        "**Import Library**"
      ],
      "metadata": {
        "id": "sRXzahqfuwII"
      }
    },
    {
      "cell_type": "code",
      "execution_count": 1,
      "metadata": {
        "id": "Eu6uHd26uqhf"
      },
      "outputs": [],
      "source": [
        "import pandas as pd"
      ]
    },
    {
      "cell_type": "code",
      "source": [
        "import numpy as np"
      ],
      "metadata": {
        "id": "-9BeXuR0u0bR"
      },
      "execution_count": 2,
      "outputs": []
    },
    {
      "cell_type": "code",
      "source": [
        "df=pd.read_csv ('https://raw.githubusercontent.com/YBI-Foundation/Dataset/main/Movies%20Recommendation.csv')"
      ],
      "metadata": {
        "id": "s2vpzXH9u0ej"
      },
      "execution_count": 3,
      "outputs": []
    },
    {
      "cell_type": "code",
      "source": [
        "df.head()"
      ],
      "metadata": {
        "colab": {
          "base_uri": "https://localhost:8080/",
          "height": 716
        },
        "id": "I99J-1aYu0io",
        "outputId": "0af6fdb7-96b8-4373-b4e7-d18210ed4849"
      },
      "execution_count": 6,
      "outputs": [
        {
          "output_type": "execute_result",
          "data": {
            "text/plain": [
              "   Movie_ID      Movie_Title                       Movie_Genre Movie_Language  \\\n",
              "0         1       Four Rooms                      Crime Comedy             en   \n",
              "1         2        Star Wars  Adventure Action Science Fiction             en   \n",
              "2         3     Finding Nemo                  Animation Family             en   \n",
              "3         4     Forrest Gump              Comedy Drama Romance             en   \n",
              "4         5  American Beauty                             Drama             en   \n",
              "\n",
              "   Movie_Budget  Movie_Popularity Movie_Release_Date  Movie_Revenue  \\\n",
              "0       4000000         22.876230         09-12-1995        4300000   \n",
              "1      11000000        126.393695         25-05-1977      775398007   \n",
              "2      94000000         85.688789         30-05-2003      940335536   \n",
              "3      55000000        138.133331         06-07-1994      677945399   \n",
              "4      15000000         80.878605         15-09-1999      356296601   \n",
              "\n",
              "   Movie_Runtime  Movie_Vote  ...  \\\n",
              "0           98.0         6.5  ...   \n",
              "1          121.0         8.1  ...   \n",
              "2          100.0         7.6  ...   \n",
              "3          142.0         8.2  ...   \n",
              "4          122.0         7.9  ...   \n",
              "\n",
              "                                      Movie_Homepage  \\\n",
              "0                                                NaN   \n",
              "1  http://www.starwars.com/films/star-wars-episod...   \n",
              "2              http://movies.disney.com/finding-nemo   \n",
              "3                                                NaN   \n",
              "4                      http://www.dreamworks.com/ab/   \n",
              "\n",
              "                                      Movie_Keywords  \\\n",
              "0          hotel new year's eve witch bet hotel room   \n",
              "1        android galaxy hermit death star lightsaber   \n",
              "2  father son relationship harbor underwater fish...   \n",
              "3  vietnam veteran hippie mentally disabled runni...   \n",
              "4  male nudity female nudity adultery midlife cri...   \n",
              "\n",
              "                                      Movie_Overview  \\\n",
              "0  It's Ted the Bellhop's first night on the job....   \n",
              "1  Princess Leia is captured and held hostage by ...   \n",
              "2  Nemo, an adventurous young clownfish, is unexp...   \n",
              "3  A man with a low IQ has accomplished great thi...   \n",
              "4  Lester Burnham, a depressed suburban father in...   \n",
              "\n",
              "                              Movie_Production_House  \\\n",
              "0  [{\"name\": \"Miramax Films\", \"id\": 14}, {\"name\":...   \n",
              "1  [{\"name\": \"Lucasfilm\", \"id\": 1}, {\"name\": \"Twe...   \n",
              "2     [{\"name\": \"Pixar Animation Studios\", \"id\": 3}]   \n",
              "3          [{\"name\": \"Paramount Pictures\", \"id\": 4}]   \n",
              "4  [{\"name\": \"DreamWorks SKG\", \"id\": 27}, {\"name\"...   \n",
              "\n",
              "                            Movie_Production_Country  \\\n",
              "0  [{\"iso_3166_1\": \"US\", \"name\": \"United States o...   \n",
              "1  [{\"iso_3166_1\": \"US\", \"name\": \"United States o...   \n",
              "2  [{\"iso_3166_1\": \"US\", \"name\": \"United States o...   \n",
              "3  [{\"iso_3166_1\": \"US\", \"name\": \"United States o...   \n",
              "4  [{\"iso_3166_1\": \"US\", \"name\": \"United States o...   \n",
              "\n",
              "                      Movie_Spoken_Language  \\\n",
              "0  [{\"iso_639_1\": \"en\", \"name\": \"English\"}]   \n",
              "1  [{\"iso_639_1\": \"en\", \"name\": \"English\"}]   \n",
              "2  [{\"iso_639_1\": \"en\", \"name\": \"English\"}]   \n",
              "3  [{\"iso_639_1\": \"en\", \"name\": \"English\"}]   \n",
              "4  [{\"iso_639_1\": \"en\", \"name\": \"English\"}]   \n",
              "\n",
              "                                       Movie_Tagline  \\\n",
              "0  Twelve outrageous guests. Four scandalous requ...   \n",
              "1       A long time ago in a galaxy far, far away...   \n",
              "2  There are 3.7 trillion fish in the ocean, they...   \n",
              "3  The world will never be the same, once you've ...   \n",
              "4                                       Look closer.   \n",
              "\n",
              "                                          Movie_Cast  \\\n",
              "0  Tim Roth Antonio Banderas Jennifer Beals Madon...   \n",
              "1  Mark Hamill Harrison Ford Carrie Fisher Peter ...   \n",
              "2  Albert Brooks Ellen DeGeneres Alexander Gould ...   \n",
              "3  Tom Hanks Robin Wright Gary Sinise Mykelti Wil...   \n",
              "4  Kevin Spacey Annette Bening Thora Birch Wes Be...   \n",
              "\n",
              "                                          Movie_Crew   Movie_Director  \n",
              "0  [{'name': 'Allison Anders', 'gender': 1, 'depa...   Allison Anders  \n",
              "1  [{'name': 'George Lucas', 'gender': 2, 'depart...     George Lucas  \n",
              "2  [{'name': 'Andrew Stanton', 'gender': 2, 'depa...   Andrew Stanton  \n",
              "3  [{'name': 'Alan Silvestri', 'gender': 2, 'depa...  Robert Zemeckis  \n",
              "4  [{'name': 'Thomas Newman', 'gender': 2, 'depar...       Sam Mendes  \n",
              "\n",
              "[5 rows x 21 columns]"
            ],
            "text/html": [
              "\n",
              "  <div id=\"df-54dc8195-5a13-4d71-b87c-98cbe306390f\">\n",
              "    <div class=\"colab-df-container\">\n",
              "      <div>\n",
              "<style scoped>\n",
              "    .dataframe tbody tr th:only-of-type {\n",
              "        vertical-align: middle;\n",
              "    }\n",
              "\n",
              "    .dataframe tbody tr th {\n",
              "        vertical-align: top;\n",
              "    }\n",
              "\n",
              "    .dataframe thead th {\n",
              "        text-align: right;\n",
              "    }\n",
              "</style>\n",
              "<table border=\"1\" class=\"dataframe\">\n",
              "  <thead>\n",
              "    <tr style=\"text-align: right;\">\n",
              "      <th></th>\n",
              "      <th>Movie_ID</th>\n",
              "      <th>Movie_Title</th>\n",
              "      <th>Movie_Genre</th>\n",
              "      <th>Movie_Language</th>\n",
              "      <th>Movie_Budget</th>\n",
              "      <th>Movie_Popularity</th>\n",
              "      <th>Movie_Release_Date</th>\n",
              "      <th>Movie_Revenue</th>\n",
              "      <th>Movie_Runtime</th>\n",
              "      <th>Movie_Vote</th>\n",
              "      <th>...</th>\n",
              "      <th>Movie_Homepage</th>\n",
              "      <th>Movie_Keywords</th>\n",
              "      <th>Movie_Overview</th>\n",
              "      <th>Movie_Production_House</th>\n",
              "      <th>Movie_Production_Country</th>\n",
              "      <th>Movie_Spoken_Language</th>\n",
              "      <th>Movie_Tagline</th>\n",
              "      <th>Movie_Cast</th>\n",
              "      <th>Movie_Crew</th>\n",
              "      <th>Movie_Director</th>\n",
              "    </tr>\n",
              "  </thead>\n",
              "  <tbody>\n",
              "    <tr>\n",
              "      <th>0</th>\n",
              "      <td>1</td>\n",
              "      <td>Four Rooms</td>\n",
              "      <td>Crime Comedy</td>\n",
              "      <td>en</td>\n",
              "      <td>4000000</td>\n",
              "      <td>22.876230</td>\n",
              "      <td>09-12-1995</td>\n",
              "      <td>4300000</td>\n",
              "      <td>98.0</td>\n",
              "      <td>6.5</td>\n",
              "      <td>...</td>\n",
              "      <td>NaN</td>\n",
              "      <td>hotel new year's eve witch bet hotel room</td>\n",
              "      <td>It's Ted the Bellhop's first night on the job....</td>\n",
              "      <td>[{\"name\": \"Miramax Films\", \"id\": 14}, {\"name\":...</td>\n",
              "      <td>[{\"iso_3166_1\": \"US\", \"name\": \"United States o...</td>\n",
              "      <td>[{\"iso_639_1\": \"en\", \"name\": \"English\"}]</td>\n",
              "      <td>Twelve outrageous guests. Four scandalous requ...</td>\n",
              "      <td>Tim Roth Antonio Banderas Jennifer Beals Madon...</td>\n",
              "      <td>[{'name': 'Allison Anders', 'gender': 1, 'depa...</td>\n",
              "      <td>Allison Anders</td>\n",
              "    </tr>\n",
              "    <tr>\n",
              "      <th>1</th>\n",
              "      <td>2</td>\n",
              "      <td>Star Wars</td>\n",
              "      <td>Adventure Action Science Fiction</td>\n",
              "      <td>en</td>\n",
              "      <td>11000000</td>\n",
              "      <td>126.393695</td>\n",
              "      <td>25-05-1977</td>\n",
              "      <td>775398007</td>\n",
              "      <td>121.0</td>\n",
              "      <td>8.1</td>\n",
              "      <td>...</td>\n",
              "      <td>http://www.starwars.com/films/star-wars-episod...</td>\n",
              "      <td>android galaxy hermit death star lightsaber</td>\n",
              "      <td>Princess Leia is captured and held hostage by ...</td>\n",
              "      <td>[{\"name\": \"Lucasfilm\", \"id\": 1}, {\"name\": \"Twe...</td>\n",
              "      <td>[{\"iso_3166_1\": \"US\", \"name\": \"United States o...</td>\n",
              "      <td>[{\"iso_639_1\": \"en\", \"name\": \"English\"}]</td>\n",
              "      <td>A long time ago in a galaxy far, far away...</td>\n",
              "      <td>Mark Hamill Harrison Ford Carrie Fisher Peter ...</td>\n",
              "      <td>[{'name': 'George Lucas', 'gender': 2, 'depart...</td>\n",
              "      <td>George Lucas</td>\n",
              "    </tr>\n",
              "    <tr>\n",
              "      <th>2</th>\n",
              "      <td>3</td>\n",
              "      <td>Finding Nemo</td>\n",
              "      <td>Animation Family</td>\n",
              "      <td>en</td>\n",
              "      <td>94000000</td>\n",
              "      <td>85.688789</td>\n",
              "      <td>30-05-2003</td>\n",
              "      <td>940335536</td>\n",
              "      <td>100.0</td>\n",
              "      <td>7.6</td>\n",
              "      <td>...</td>\n",
              "      <td>http://movies.disney.com/finding-nemo</td>\n",
              "      <td>father son relationship harbor underwater fish...</td>\n",
              "      <td>Nemo, an adventurous young clownfish, is unexp...</td>\n",
              "      <td>[{\"name\": \"Pixar Animation Studios\", \"id\": 3}]</td>\n",
              "      <td>[{\"iso_3166_1\": \"US\", \"name\": \"United States o...</td>\n",
              "      <td>[{\"iso_639_1\": \"en\", \"name\": \"English\"}]</td>\n",
              "      <td>There are 3.7 trillion fish in the ocean, they...</td>\n",
              "      <td>Albert Brooks Ellen DeGeneres Alexander Gould ...</td>\n",
              "      <td>[{'name': 'Andrew Stanton', 'gender': 2, 'depa...</td>\n",
              "      <td>Andrew Stanton</td>\n",
              "    </tr>\n",
              "    <tr>\n",
              "      <th>3</th>\n",
              "      <td>4</td>\n",
              "      <td>Forrest Gump</td>\n",
              "      <td>Comedy Drama Romance</td>\n",
              "      <td>en</td>\n",
              "      <td>55000000</td>\n",
              "      <td>138.133331</td>\n",
              "      <td>06-07-1994</td>\n",
              "      <td>677945399</td>\n",
              "      <td>142.0</td>\n",
              "      <td>8.2</td>\n",
              "      <td>...</td>\n",
              "      <td>NaN</td>\n",
              "      <td>vietnam veteran hippie mentally disabled runni...</td>\n",
              "      <td>A man with a low IQ has accomplished great thi...</td>\n",
              "      <td>[{\"name\": \"Paramount Pictures\", \"id\": 4}]</td>\n",
              "      <td>[{\"iso_3166_1\": \"US\", \"name\": \"United States o...</td>\n",
              "      <td>[{\"iso_639_1\": \"en\", \"name\": \"English\"}]</td>\n",
              "      <td>The world will never be the same, once you've ...</td>\n",
              "      <td>Tom Hanks Robin Wright Gary Sinise Mykelti Wil...</td>\n",
              "      <td>[{'name': 'Alan Silvestri', 'gender': 2, 'depa...</td>\n",
              "      <td>Robert Zemeckis</td>\n",
              "    </tr>\n",
              "    <tr>\n",
              "      <th>4</th>\n",
              "      <td>5</td>\n",
              "      <td>American Beauty</td>\n",
              "      <td>Drama</td>\n",
              "      <td>en</td>\n",
              "      <td>15000000</td>\n",
              "      <td>80.878605</td>\n",
              "      <td>15-09-1999</td>\n",
              "      <td>356296601</td>\n",
              "      <td>122.0</td>\n",
              "      <td>7.9</td>\n",
              "      <td>...</td>\n",
              "      <td>http://www.dreamworks.com/ab/</td>\n",
              "      <td>male nudity female nudity adultery midlife cri...</td>\n",
              "      <td>Lester Burnham, a depressed suburban father in...</td>\n",
              "      <td>[{\"name\": \"DreamWorks SKG\", \"id\": 27}, {\"name\"...</td>\n",
              "      <td>[{\"iso_3166_1\": \"US\", \"name\": \"United States o...</td>\n",
              "      <td>[{\"iso_639_1\": \"en\", \"name\": \"English\"}]</td>\n",
              "      <td>Look closer.</td>\n",
              "      <td>Kevin Spacey Annette Bening Thora Birch Wes Be...</td>\n",
              "      <td>[{'name': 'Thomas Newman', 'gender': 2, 'depar...</td>\n",
              "      <td>Sam Mendes</td>\n",
              "    </tr>\n",
              "  </tbody>\n",
              "</table>\n",
              "<p>5 rows × 21 columns</p>\n",
              "</div>\n",
              "      <button class=\"colab-df-convert\" onclick=\"convertToInteractive('df-54dc8195-5a13-4d71-b87c-98cbe306390f')\"\n",
              "              title=\"Convert this dataframe to an interactive table.\"\n",
              "              style=\"display:none;\">\n",
              "        \n",
              "  <svg xmlns=\"http://www.w3.org/2000/svg\" height=\"24px\"viewBox=\"0 0 24 24\"\n",
              "       width=\"24px\">\n",
              "    <path d=\"M0 0h24v24H0V0z\" fill=\"none\"/>\n",
              "    <path d=\"M18.56 5.44l.94 2.06.94-2.06 2.06-.94-2.06-.94-.94-2.06-.94 2.06-2.06.94zm-11 1L8.5 8.5l.94-2.06 2.06-.94-2.06-.94L8.5 2.5l-.94 2.06-2.06.94zm10 10l.94 2.06.94-2.06 2.06-.94-2.06-.94-.94-2.06-.94 2.06-2.06.94z\"/><path d=\"M17.41 7.96l-1.37-1.37c-.4-.4-.92-.59-1.43-.59-.52 0-1.04.2-1.43.59L10.3 9.45l-7.72 7.72c-.78.78-.78 2.05 0 2.83L4 21.41c.39.39.9.59 1.41.59.51 0 1.02-.2 1.41-.59l7.78-7.78 2.81-2.81c.8-.78.8-2.07 0-2.86zM5.41 20L4 18.59l7.72-7.72 1.47 1.35L5.41 20z\"/>\n",
              "  </svg>\n",
              "      </button>\n",
              "      \n",
              "  <style>\n",
              "    .colab-df-container {\n",
              "      display:flex;\n",
              "      flex-wrap:wrap;\n",
              "      gap: 12px;\n",
              "    }\n",
              "\n",
              "    .colab-df-convert {\n",
              "      background-color: #E8F0FE;\n",
              "      border: none;\n",
              "      border-radius: 50%;\n",
              "      cursor: pointer;\n",
              "      display: none;\n",
              "      fill: #1967D2;\n",
              "      height: 32px;\n",
              "      padding: 0 0 0 0;\n",
              "      width: 32px;\n",
              "    }\n",
              "\n",
              "    .colab-df-convert:hover {\n",
              "      background-color: #E2EBFA;\n",
              "      box-shadow: 0px 1px 2px rgba(60, 64, 67, 0.3), 0px 1px 3px 1px rgba(60, 64, 67, 0.15);\n",
              "      fill: #174EA6;\n",
              "    }\n",
              "\n",
              "    [theme=dark] .colab-df-convert {\n",
              "      background-color: #3B4455;\n",
              "      fill: #D2E3FC;\n",
              "    }\n",
              "\n",
              "    [theme=dark] .colab-df-convert:hover {\n",
              "      background-color: #434B5C;\n",
              "      box-shadow: 0px 1px 3px 1px rgba(0, 0, 0, 0.15);\n",
              "      filter: drop-shadow(0px 1px 2px rgba(0, 0, 0, 0.3));\n",
              "      fill: #FFFFFF;\n",
              "    }\n",
              "  </style>\n",
              "\n",
              "      <script>\n",
              "        const buttonEl =\n",
              "          document.querySelector('#df-54dc8195-5a13-4d71-b87c-98cbe306390f button.colab-df-convert');\n",
              "        buttonEl.style.display =\n",
              "          google.colab.kernel.accessAllowed ? 'block' : 'none';\n",
              "\n",
              "        async function convertToInteractive(key) {\n",
              "          const element = document.querySelector('#df-54dc8195-5a13-4d71-b87c-98cbe306390f');\n",
              "          const dataTable =\n",
              "            await google.colab.kernel.invokeFunction('convertToInteractive',\n",
              "                                                     [key], {});\n",
              "          if (!dataTable) return;\n",
              "\n",
              "          const docLinkHtml = 'Like what you see? Visit the ' +\n",
              "            '<a target=\"_blank\" href=https://colab.research.google.com/notebooks/data_table.ipynb>data table notebook</a>'\n",
              "            + ' to learn more about interactive tables.';\n",
              "          element.innerHTML = '';\n",
              "          dataTable['output_type'] = 'display_data';\n",
              "          await google.colab.output.renderOutput(dataTable, element);\n",
              "          const docLink = document.createElement('div');\n",
              "          docLink.innerHTML = docLinkHtml;\n",
              "          element.appendChild(docLink);\n",
              "        }\n",
              "      </script>\n",
              "    </div>\n",
              "  </div>\n",
              "  "
            ]
          },
          "metadata": {},
          "execution_count": 6
        }
      ]
    },
    {
      "cell_type": "code",
      "source": [
        "df.info()"
      ],
      "metadata": {
        "colab": {
          "base_uri": "https://localhost:8080/"
        },
        "id": "zmePRyCWu0nF",
        "outputId": "69ae38da-d141-4894-ae12-2978c6fc65d3"
      },
      "execution_count": 7,
      "outputs": [
        {
          "output_type": "stream",
          "name": "stdout",
          "text": [
            "<class 'pandas.core.frame.DataFrame'>\n",
            "RangeIndex: 4760 entries, 0 to 4759\n",
            "Data columns (total 21 columns):\n",
            " #   Column                    Non-Null Count  Dtype  \n",
            "---  ------                    --------------  -----  \n",
            " 0   Movie_ID                  4760 non-null   int64  \n",
            " 1   Movie_Title               4760 non-null   object \n",
            " 2   Movie_Genre               4760 non-null   object \n",
            " 3   Movie_Language            4760 non-null   object \n",
            " 4   Movie_Budget              4760 non-null   int64  \n",
            " 5   Movie_Popularity          4760 non-null   float64\n",
            " 6   Movie_Release_Date        4760 non-null   object \n",
            " 7   Movie_Revenue             4760 non-null   int64  \n",
            " 8   Movie_Runtime             4758 non-null   float64\n",
            " 9   Movie_Vote                4760 non-null   float64\n",
            " 10  Movie_Vote_Count          4760 non-null   int64  \n",
            " 11  Movie_Homepage            1699 non-null   object \n",
            " 12  Movie_Keywords            4373 non-null   object \n",
            " 13  Movie_Overview            4757 non-null   object \n",
            " 14  Movie_Production_House    4760 non-null   object \n",
            " 15  Movie_Production_Country  4760 non-null   object \n",
            " 16  Movie_Spoken_Language     4760 non-null   object \n",
            " 17  Movie_Tagline             3942 non-null   object \n",
            " 18  Movie_Cast                4733 non-null   object \n",
            " 19  Movie_Crew                4760 non-null   object \n",
            " 20  Movie_Director            4738 non-null   object \n",
            "dtypes: float64(3), int64(4), object(14)\n",
            "memory usage: 781.1+ KB\n"
          ]
        }
      ]
    },
    {
      "cell_type": "code",
      "source": [
        "df.shape"
      ],
      "metadata": {
        "colab": {
          "base_uri": "https://localhost:8080/"
        },
        "id": "YWqLN193u0qU",
        "outputId": "ba406722-9fb8-4d6d-dca5-f7dd65a00aac"
      },
      "execution_count": 8,
      "outputs": [
        {
          "output_type": "execute_result",
          "data": {
            "text/plain": [
              "(4760, 21)"
            ]
          },
          "metadata": {},
          "execution_count": 8
        }
      ]
    },
    {
      "cell_type": "code",
      "source": [
        "df.columns"
      ],
      "metadata": {
        "colab": {
          "base_uri": "https://localhost:8080/"
        },
        "id": "G8f-izVju0te",
        "outputId": "599ae560-9462-46e9-aded-ed8984bdb404"
      },
      "execution_count": 9,
      "outputs": [
        {
          "output_type": "execute_result",
          "data": {
            "text/plain": [
              "Index(['Movie_ID', 'Movie_Title', 'Movie_Genre', 'Movie_Language',\n",
              "       'Movie_Budget', 'Movie_Popularity', 'Movie_Release_Date',\n",
              "       'Movie_Revenue', 'Movie_Runtime', 'Movie_Vote', 'Movie_Vote_Count',\n",
              "       'Movie_Homepage', 'Movie_Keywords', 'Movie_Overview',\n",
              "       'Movie_Production_House', 'Movie_Production_Country',\n",
              "       'Movie_Spoken_Language', 'Movie_Tagline', 'Movie_Cast', 'Movie_Crew',\n",
              "       'Movie_Director'],\n",
              "      dtype='object')"
            ]
          },
          "metadata": {},
          "execution_count": 9
        }
      ]
    },
    {
      "cell_type": "markdown",
      "source": [
        "Get Feature selection"
      ],
      "metadata": {
        "id": "j4r3OIuUvbNH"
      }
    },
    {
      "cell_type": "code",
      "source": [
        "df_features=df[['Movie_Genre','Movie_Keywords','Movie_Tagline', 'Movie_Cast','Movie_Director']].fillna('df_features.shape')"
      ],
      "metadata": {
        "id": "VL_ftoB9u0wQ"
      },
      "execution_count": 10,
      "outputs": []
    },
    {
      "cell_type": "code",
      "source": [
        "df_features.shape"
      ],
      "metadata": {
        "colab": {
          "base_uri": "https://localhost:8080/"
        },
        "id": "Q6E33fWSu0ze",
        "outputId": "d6c8a508-cf06-48ab-c544-e49c7aedcf9f"
      },
      "execution_count": 12,
      "outputs": [
        {
          "output_type": "execute_result",
          "data": {
            "text/plain": [
              "(4760, 5)"
            ]
          },
          "metadata": {},
          "execution_count": 12
        }
      ]
    },
    {
      "cell_type": "code",
      "source": [
        "df_features"
      ],
      "metadata": {
        "colab": {
          "base_uri": "https://localhost:8080/",
          "height": 571
        },
        "id": "zxftAWRSu02k",
        "outputId": "6f848479-4c60-4b16-e639-a78c761821b1"
      },
      "execution_count": 13,
      "outputs": [
        {
          "output_type": "execute_result",
          "data": {
            "text/plain": [
              "                           Movie_Genre  \\\n",
              "0                         Crime Comedy   \n",
              "1     Adventure Action Science Fiction   \n",
              "2                     Animation Family   \n",
              "3                 Comedy Drama Romance   \n",
              "4                                Drama   \n",
              "...                                ...   \n",
              "4755                            Horror   \n",
              "4756               Comedy Family Drama   \n",
              "4757                    Thriller Drama   \n",
              "4758                            Family   \n",
              "4759                       Documentary   \n",
              "\n",
              "                                         Movie_Keywords  \\\n",
              "0             hotel new year's eve witch bet hotel room   \n",
              "1           android galaxy hermit death star lightsaber   \n",
              "2     father son relationship harbor underwater fish...   \n",
              "3     vietnam veteran hippie mentally disabled runni...   \n",
              "4     male nudity female nudity adultery midlife cri...   \n",
              "...                                                 ...   \n",
              "4755                                  df_features.shape   \n",
              "4756                                  df_features.shape   \n",
              "4757                     christian film sex trafficking   \n",
              "4758                                  df_features.shape   \n",
              "4759  music actors legendary perfomer classic hollyw...   \n",
              "\n",
              "                                          Movie_Tagline  \\\n",
              "0     Twelve outrageous guests. Four scandalous requ...   \n",
              "1          A long time ago in a galaxy far, far away...   \n",
              "2     There are 3.7 trillion fish in the ocean, they...   \n",
              "3     The world will never be the same, once you've ...   \n",
              "4                                          Look closer.   \n",
              "...                                                 ...   \n",
              "4755                The hot spot where Satan's waitin'.   \n",
              "4756           It’s better to stand out than to fit in.   \n",
              "4757           She never knew it could happen to her...   \n",
              "4758                                  df_features.shape   \n",
              "4759                                  df_features.shape   \n",
              "\n",
              "                                             Movie_Cast     Movie_Director  \n",
              "0     Tim Roth Antonio Banderas Jennifer Beals Madon...     Allison Anders  \n",
              "1     Mark Hamill Harrison Ford Carrie Fisher Peter ...       George Lucas  \n",
              "2     Albert Brooks Ellen DeGeneres Alexander Gould ...     Andrew Stanton  \n",
              "3     Tom Hanks Robin Wright Gary Sinise Mykelti Wil...    Robert Zemeckis  \n",
              "4     Kevin Spacey Annette Bening Thora Birch Wes Be...         Sam Mendes  \n",
              "...                                                 ...                ...  \n",
              "4755  Lisa Hart Carroll Michael Des Barres Paul Drak...         Pece Dingo  \n",
              "4756  Roni Akurati Brighton Sharbino Jason Lee Anjul...       Frank Lotito  \n",
              "4757  Nicole Smolen Kim Baldwin Ariana Stephens Brys...       Jaco Booyens  \n",
              "4758                                  df_features.shape  df_features.shape  \n",
              "4759                                    Tony Oppedisano  Simon Napier-Bell  \n",
              "\n",
              "[4760 rows x 5 columns]"
            ],
            "text/html": [
              "\n",
              "  <div id=\"df-6e28cd31-bd9f-4f84-858f-1d1b44b5db82\">\n",
              "    <div class=\"colab-df-container\">\n",
              "      <div>\n",
              "<style scoped>\n",
              "    .dataframe tbody tr th:only-of-type {\n",
              "        vertical-align: middle;\n",
              "    }\n",
              "\n",
              "    .dataframe tbody tr th {\n",
              "        vertical-align: top;\n",
              "    }\n",
              "\n",
              "    .dataframe thead th {\n",
              "        text-align: right;\n",
              "    }\n",
              "</style>\n",
              "<table border=\"1\" class=\"dataframe\">\n",
              "  <thead>\n",
              "    <tr style=\"text-align: right;\">\n",
              "      <th></th>\n",
              "      <th>Movie_Genre</th>\n",
              "      <th>Movie_Keywords</th>\n",
              "      <th>Movie_Tagline</th>\n",
              "      <th>Movie_Cast</th>\n",
              "      <th>Movie_Director</th>\n",
              "    </tr>\n",
              "  </thead>\n",
              "  <tbody>\n",
              "    <tr>\n",
              "      <th>0</th>\n",
              "      <td>Crime Comedy</td>\n",
              "      <td>hotel new year's eve witch bet hotel room</td>\n",
              "      <td>Twelve outrageous guests. Four scandalous requ...</td>\n",
              "      <td>Tim Roth Antonio Banderas Jennifer Beals Madon...</td>\n",
              "      <td>Allison Anders</td>\n",
              "    </tr>\n",
              "    <tr>\n",
              "      <th>1</th>\n",
              "      <td>Adventure Action Science Fiction</td>\n",
              "      <td>android galaxy hermit death star lightsaber</td>\n",
              "      <td>A long time ago in a galaxy far, far away...</td>\n",
              "      <td>Mark Hamill Harrison Ford Carrie Fisher Peter ...</td>\n",
              "      <td>George Lucas</td>\n",
              "    </tr>\n",
              "    <tr>\n",
              "      <th>2</th>\n",
              "      <td>Animation Family</td>\n",
              "      <td>father son relationship harbor underwater fish...</td>\n",
              "      <td>There are 3.7 trillion fish in the ocean, they...</td>\n",
              "      <td>Albert Brooks Ellen DeGeneres Alexander Gould ...</td>\n",
              "      <td>Andrew Stanton</td>\n",
              "    </tr>\n",
              "    <tr>\n",
              "      <th>3</th>\n",
              "      <td>Comedy Drama Romance</td>\n",
              "      <td>vietnam veteran hippie mentally disabled runni...</td>\n",
              "      <td>The world will never be the same, once you've ...</td>\n",
              "      <td>Tom Hanks Robin Wright Gary Sinise Mykelti Wil...</td>\n",
              "      <td>Robert Zemeckis</td>\n",
              "    </tr>\n",
              "    <tr>\n",
              "      <th>4</th>\n",
              "      <td>Drama</td>\n",
              "      <td>male nudity female nudity adultery midlife cri...</td>\n",
              "      <td>Look closer.</td>\n",
              "      <td>Kevin Spacey Annette Bening Thora Birch Wes Be...</td>\n",
              "      <td>Sam Mendes</td>\n",
              "    </tr>\n",
              "    <tr>\n",
              "      <th>...</th>\n",
              "      <td>...</td>\n",
              "      <td>...</td>\n",
              "      <td>...</td>\n",
              "      <td>...</td>\n",
              "      <td>...</td>\n",
              "    </tr>\n",
              "    <tr>\n",
              "      <th>4755</th>\n",
              "      <td>Horror</td>\n",
              "      <td>df_features.shape</td>\n",
              "      <td>The hot spot where Satan's waitin'.</td>\n",
              "      <td>Lisa Hart Carroll Michael Des Barres Paul Drak...</td>\n",
              "      <td>Pece Dingo</td>\n",
              "    </tr>\n",
              "    <tr>\n",
              "      <th>4756</th>\n",
              "      <td>Comedy Family Drama</td>\n",
              "      <td>df_features.shape</td>\n",
              "      <td>It’s better to stand out than to fit in.</td>\n",
              "      <td>Roni Akurati Brighton Sharbino Jason Lee Anjul...</td>\n",
              "      <td>Frank Lotito</td>\n",
              "    </tr>\n",
              "    <tr>\n",
              "      <th>4757</th>\n",
              "      <td>Thriller Drama</td>\n",
              "      <td>christian film sex trafficking</td>\n",
              "      <td>She never knew it could happen to her...</td>\n",
              "      <td>Nicole Smolen Kim Baldwin Ariana Stephens Brys...</td>\n",
              "      <td>Jaco Booyens</td>\n",
              "    </tr>\n",
              "    <tr>\n",
              "      <th>4758</th>\n",
              "      <td>Family</td>\n",
              "      <td>df_features.shape</td>\n",
              "      <td>df_features.shape</td>\n",
              "      <td>df_features.shape</td>\n",
              "      <td>df_features.shape</td>\n",
              "    </tr>\n",
              "    <tr>\n",
              "      <th>4759</th>\n",
              "      <td>Documentary</td>\n",
              "      <td>music actors legendary perfomer classic hollyw...</td>\n",
              "      <td>df_features.shape</td>\n",
              "      <td>Tony Oppedisano</td>\n",
              "      <td>Simon Napier-Bell</td>\n",
              "    </tr>\n",
              "  </tbody>\n",
              "</table>\n",
              "<p>4760 rows × 5 columns</p>\n",
              "</div>\n",
              "      <button class=\"colab-df-convert\" onclick=\"convertToInteractive('df-6e28cd31-bd9f-4f84-858f-1d1b44b5db82')\"\n",
              "              title=\"Convert this dataframe to an interactive table.\"\n",
              "              style=\"display:none;\">\n",
              "        \n",
              "  <svg xmlns=\"http://www.w3.org/2000/svg\" height=\"24px\"viewBox=\"0 0 24 24\"\n",
              "       width=\"24px\">\n",
              "    <path d=\"M0 0h24v24H0V0z\" fill=\"none\"/>\n",
              "    <path d=\"M18.56 5.44l.94 2.06.94-2.06 2.06-.94-2.06-.94-.94-2.06-.94 2.06-2.06.94zm-11 1L8.5 8.5l.94-2.06 2.06-.94-2.06-.94L8.5 2.5l-.94 2.06-2.06.94zm10 10l.94 2.06.94-2.06 2.06-.94-2.06-.94-.94-2.06-.94 2.06-2.06.94z\"/><path d=\"M17.41 7.96l-1.37-1.37c-.4-.4-.92-.59-1.43-.59-.52 0-1.04.2-1.43.59L10.3 9.45l-7.72 7.72c-.78.78-.78 2.05 0 2.83L4 21.41c.39.39.9.59 1.41.59.51 0 1.02-.2 1.41-.59l7.78-7.78 2.81-2.81c.8-.78.8-2.07 0-2.86zM5.41 20L4 18.59l7.72-7.72 1.47 1.35L5.41 20z\"/>\n",
              "  </svg>\n",
              "      </button>\n",
              "      \n",
              "  <style>\n",
              "    .colab-df-container {\n",
              "      display:flex;\n",
              "      flex-wrap:wrap;\n",
              "      gap: 12px;\n",
              "    }\n",
              "\n",
              "    .colab-df-convert {\n",
              "      background-color: #E8F0FE;\n",
              "      border: none;\n",
              "      border-radius: 50%;\n",
              "      cursor: pointer;\n",
              "      display: none;\n",
              "      fill: #1967D2;\n",
              "      height: 32px;\n",
              "      padding: 0 0 0 0;\n",
              "      width: 32px;\n",
              "    }\n",
              "\n",
              "    .colab-df-convert:hover {\n",
              "      background-color: #E2EBFA;\n",
              "      box-shadow: 0px 1px 2px rgba(60, 64, 67, 0.3), 0px 1px 3px 1px rgba(60, 64, 67, 0.15);\n",
              "      fill: #174EA6;\n",
              "    }\n",
              "\n",
              "    [theme=dark] .colab-df-convert {\n",
              "      background-color: #3B4455;\n",
              "      fill: #D2E3FC;\n",
              "    }\n",
              "\n",
              "    [theme=dark] .colab-df-convert:hover {\n",
              "      background-color: #434B5C;\n",
              "      box-shadow: 0px 1px 3px 1px rgba(0, 0, 0, 0.15);\n",
              "      filter: drop-shadow(0px 1px 2px rgba(0, 0, 0, 0.3));\n",
              "      fill: #FFFFFF;\n",
              "    }\n",
              "  </style>\n",
              "\n",
              "      <script>\n",
              "        const buttonEl =\n",
              "          document.querySelector('#df-6e28cd31-bd9f-4f84-858f-1d1b44b5db82 button.colab-df-convert');\n",
              "        buttonEl.style.display =\n",
              "          google.colab.kernel.accessAllowed ? 'block' : 'none';\n",
              "\n",
              "        async function convertToInteractive(key) {\n",
              "          const element = document.querySelector('#df-6e28cd31-bd9f-4f84-858f-1d1b44b5db82');\n",
              "          const dataTable =\n",
              "            await google.colab.kernel.invokeFunction('convertToInteractive',\n",
              "                                                     [key], {});\n",
              "          if (!dataTable) return;\n",
              "\n",
              "          const docLinkHtml = 'Like what you see? Visit the ' +\n",
              "            '<a target=\"_blank\" href=https://colab.research.google.com/notebooks/data_table.ipynb>data table notebook</a>'\n",
              "            + ' to learn more about interactive tables.';\n",
              "          element.innerHTML = '';\n",
              "          dataTable['output_type'] = 'display_data';\n",
              "          await google.colab.output.renderOutput(dataTable, element);\n",
              "          const docLink = document.createElement('div');\n",
              "          docLink.innerHTML = docLinkHtml;\n",
              "          element.appendChild(docLink);\n",
              "        }\n",
              "      </script>\n",
              "    </div>\n",
              "  </div>\n",
              "  "
            ]
          },
          "metadata": {},
          "execution_count": 13
        }
      ]
    },
    {
      "cell_type": "code",
      "source": [
        "x=df_features['Movie_Genre']+ ''+ df_features['Movie_Keywords']+''+ df_features['Movie_Tagline']+''+ df_features['Movie_Cast']+''+ df_features['Movie_Director']"
      ],
      "metadata": {
        "id": "DJ2CCn2zu05e"
      },
      "execution_count": 14,
      "outputs": []
    },
    {
      "cell_type": "code",
      "source": [
        "x"
      ],
      "metadata": {
        "colab": {
          "base_uri": "https://localhost:8080/"
        },
        "id": "C4-hCkgPu08x",
        "outputId": "77e734ed-8930-49a7-bf04-2ca00cbf30b0"
      },
      "execution_count": 15,
      "outputs": [
        {
          "output_type": "execute_result",
          "data": {
            "text/plain": [
              "0       Crime Comedyhotel new year's eve witch bet hot...\n",
              "1       Adventure Action Science Fictionandroid galaxy...\n",
              "2       Animation Familyfather son relationship harbor...\n",
              "3       Comedy Drama Romancevietnam veteran hippie men...\n",
              "4       Dramamale nudity female nudity adultery midlif...\n",
              "                              ...                        \n",
              "4755    Horrordf_features.shapeThe hot spot where Sata...\n",
              "4756    Comedy Family Dramadf_features.shapeIt’s bette...\n",
              "4757    Thriller Dramachristian film sex traffickingSh...\n",
              "4758    Familydf_features.shapedf_features.shapedf_fea...\n",
              "4759    Documentarymusic actors legendary perfomer cla...\n",
              "Length: 4760, dtype: object"
            ]
          },
          "metadata": {},
          "execution_count": 15
        }
      ]
    },
    {
      "cell_type": "code",
      "source": [
        "x.shape"
      ],
      "metadata": {
        "colab": {
          "base_uri": "https://localhost:8080/"
        },
        "id": "ae2Ithvku1AT",
        "outputId": "9dd980da-a38c-4a7f-c208-b1823af7f377"
      },
      "execution_count": 16,
      "outputs": [
        {
          "output_type": "execute_result",
          "data": {
            "text/plain": [
              "(4760,)"
            ]
          },
          "metadata": {},
          "execution_count": 16
        }
      ]
    },
    {
      "cell_type": "markdown",
      "source": [
        "**Get feature text conversion to tokens**"
      ],
      "metadata": {
        "id": "ldCYExYpwBoD"
      }
    },
    {
      "cell_type": "code",
      "source": [
        "from sklearn.feature_extraction.text import TfidfVectorizer"
      ],
      "metadata": {
        "id": "qOka7NLTu1Dx"
      },
      "execution_count": 17,
      "outputs": []
    },
    {
      "cell_type": "code",
      "source": [
        "Tfidf=TfidfVectorizer()"
      ],
      "metadata": {
        "id": "0fBKxBIzu1G6"
      },
      "execution_count": 18,
      "outputs": []
    },
    {
      "cell_type": "code",
      "source": [
        "x=Tfidf.fit_transform(x)"
      ],
      "metadata": {
        "id": "bsIW0aANu1J4"
      },
      "execution_count": 19,
      "outputs": []
    },
    {
      "cell_type": "code",
      "source": [
        "x.shape"
      ],
      "metadata": {
        "colab": {
          "base_uri": "https://localhost:8080/"
        },
        "id": "giVAhyBLu1Ns",
        "outputId": "dece6c45-a042-4547-c4b1-59e574879083"
      },
      "execution_count": 20,
      "outputs": [
        {
          "output_type": "execute_result",
          "data": {
            "text/plain": [
              "(4760, 27591)"
            ]
          },
          "metadata": {},
          "execution_count": 20
        }
      ]
    },
    {
      "cell_type": "code",
      "source": [
        "print(x)"
      ],
      "metadata": {
        "colab": {
          "base_uri": "https://localhost:8080/"
        },
        "id": "doCmp_ZKu1S3",
        "outputId": "448e62d8-aa8f-4a03-ff97-06c065eaeaea"
      },
      "execution_count": 21,
      "outputs": [
        {
          "output_type": "stream",
          "name": "stdout",
          "text": [
            "  (0, 1013)\t0.16196019146631543\n",
            "  (0, 24923)\t0.1954632929283795\n",
            "  (0, 15491)\t0.14205053053187272\n",
            "  (0, 15201)\t0.17099186675469502\n",
            "  (0, 2114)\t0.18002354204307464\n",
            "  (0, 12963)\t0.09914387783149516\n",
            "  (0, 1869)\t0.14106037409792174\n",
            "  (0, 1199)\t0.13920306109638164\n",
            "  (0, 20732)\t0.14205053053187272\n",
            "  (0, 24839)\t0.11357423942624927\n",
            "  (0, 14595)\t0.091376722056839\n",
            "  (0, 17730)\t0.06200430666985742\n",
            "  (0, 26865)\t0.175053052455033\n",
            "  (0, 9482)\t0.08712552095655665\n",
            "  (0, 26803)\t0.1116831168780693\n",
            "  (0, 13052)\t0.13748876529263096\n",
            "  (0, 24280)\t0.10726395493180996\n",
            "  (0, 17824)\t0.07278761942152372\n",
            "  (0, 6088)\t0.11970212451073885\n",
            "  (0, 9318)\t0.11757910435818826\n",
            "  (0, 11633)\t0.20134029899961134\n",
            "  (0, 12454)\t0.1530338818199682\n",
            "  (0, 2274)\t0.1954632929283795\n",
            "  (0, 14823)\t0.1537691763994982\n",
            "  (0, 17828)\t0.08579029869987485\n",
            "  :\t:\n",
            "  (4757, 21591)\t0.1646400247918531\n",
            "  (4757, 17422)\t0.18881341937258544\n",
            "  (4757, 9214)\t0.1411164779725638\n",
            "  (4757, 13828)\t0.2330831990045816\n",
            "  (4757, 11435)\t0.17321388936472645\n",
            "  (4757, 13704)\t0.1776312353410007\n",
            "  (4757, 24406)\t0.10947784435203887\n",
            "  (4757, 24884)\t0.09744940789814222\n",
            "  (4757, 12730)\t0.12400374714145113\n",
            "  (4757, 17354)\t0.1489085353667712\n",
            "  (4758, 8483)\t0.3868492093363469\n",
            "  (4758, 21816)\t0.8232611595827996\n",
            "  (4758, 21672)\t0.4154380246898779\n",
            "  (4759, 17860)\t0.31788279505334266\n",
            "  (4759, 22239)\t0.31788279505334266\n",
            "  (4759, 22622)\t0.31788279505334266\n",
            "  (4759, 18471)\t0.31788279505334266\n",
            "  (4759, 6800)\t0.31788279505334266\n",
            "  (4759, 337)\t0.3031945426368836\n",
            "  (4759, 14394)\t0.3031945426368836\n",
            "  (4759, 11810)\t0.2633965568642675\n",
            "  (4759, 4426)\t0.2676633283410286\n",
            "  (4759, 17185)\t0.2927730616971856\n",
            "  (4759, 9635)\t0.2067404672990171\n",
            "  (4759, 2267)\t0.20351828344079165\n"
          ]
        }
      ]
    },
    {
      "cell_type": "markdown",
      "source": [
        "**Get Similarity Scoreusing cosine similarity**"
      ],
      "metadata": {
        "id": "AGUpA1QSwV1O"
      }
    },
    {
      "cell_type": "code",
      "source": [
        "from sklearn.metrics.pairwise import cosine_similarity"
      ],
      "metadata": {
        "id": "CRd6RQW0wWLp"
      },
      "execution_count": 22,
      "outputs": []
    },
    {
      "cell_type": "code",
      "source": [
        "Similarity_Score=cosine_similarity(x)"
      ],
      "metadata": {
        "id": "KwIUNOZ4wZrn"
      },
      "execution_count": 23,
      "outputs": []
    },
    {
      "cell_type": "code",
      "source": [
        "Similarity_Score"
      ],
      "metadata": {
        "colab": {
          "base_uri": "https://localhost:8080/"
        },
        "id": "xqUSgydxwZu4",
        "outputId": "15973ed3-6059-4ffa-e894-d1cefa068094"
      },
      "execution_count": 24,
      "outputs": [
        {
          "output_type": "execute_result",
          "data": {
            "text/plain": [
              "array([[1.        , 0.01438634, 0.03806553, ..., 0.        , 0.        ,\n",
              "        0.        ],\n",
              "       [0.01438634, 1.        , 0.00844751, ..., 0.        , 0.        ,\n",
              "        0.        ],\n",
              "       [0.03806553, 0.00844751, 1.        , ..., 0.        , 0.        ,\n",
              "        0.        ],\n",
              "       ...,\n",
              "       [0.        , 0.        , 0.        , ..., 1.        , 0.        ,\n",
              "        0.        ],\n",
              "       [0.        , 0.        , 0.        , ..., 0.        , 1.        ,\n",
              "        0.        ],\n",
              "       [0.        , 0.        , 0.        , ..., 0.        , 0.        ,\n",
              "        1.        ]])"
            ]
          },
          "metadata": {},
          "execution_count": 24
        }
      ]
    },
    {
      "cell_type": "code",
      "source": [
        "Similarity_Score.shape"
      ],
      "metadata": {
        "colab": {
          "base_uri": "https://localhost:8080/"
        },
        "id": "TFZYxQd8wZyG",
        "outputId": "305d716e-76fe-45e6-cf1c-f5fa329d0f3e"
      },
      "execution_count": 25,
      "outputs": [
        {
          "output_type": "execute_result",
          "data": {
            "text/plain": [
              "(4760, 4760)"
            ]
          },
          "metadata": {},
          "execution_count": 25
        }
      ]
    },
    {
      "cell_type": "markdown",
      "source": [
        "\n",
        "**Get movie name**"
      ],
      "metadata": {
        "id": "mcaIDjUswlxw"
      }
    },
    {
      "cell_type": "code",
      "source": [
        "Favourite_Movie_Name=input('Enter your favourite movie name:')"
      ],
      "metadata": {
        "id": "2gqgh7EgwZ4F",
        "outputId": "41ee3579-8d6f-4314-95b2-93845ade0322",
        "colab": {
          "base_uri": "https://localhost:8080/"
        }
      },
      "execution_count": 26,
      "outputs": [
        {
          "name": "stdout",
          "output_type": "stream",
          "text": [
            "Enter your favourite movie name:krish\n"
          ]
        }
      ]
    },
    {
      "cell_type": "code",
      "source": [
        "All_Movie_Title_List=df['Movie_Title'].tolist()"
      ],
      "metadata": {
        "id": "qbbgQSi-wZ7I"
      },
      "execution_count": 27,
      "outputs": []
    },
    {
      "cell_type": "code",
      "source": [
        "import difflib"
      ],
      "metadata": {
        "id": "CivWR-YDw3ow"
      },
      "execution_count": 28,
      "outputs": []
    },
    {
      "cell_type": "code",
      "source": [
        "Movie_Recommendation=difflib.get_close_matches(Favourite_Movie_Name,All_Movie_Title_List)\n",
        "print(Movie_Recommendation)"
      ],
      "metadata": {
        "id": "5g-G5abZw3wo",
        "outputId": "b450a93a-c7f7-47a1-9eda-19c4057b3ffe",
        "colab": {
          "base_uri": "https://localhost:8080/"
        }
      },
      "execution_count": 29,
      "outputs": [
        {
          "output_type": "stream",
          "name": "stdout",
          "text": [
            "['Krrish', 'Iris', 'Trash']\n"
          ]
        }
      ]
    },
    {
      "cell_type": "code",
      "source": [
        "Close_Match=Movie_Recommendation[0]\n",
        "print(Close_Match)"
      ],
      "metadata": {
        "id": "AhSD7SxWw31k",
        "outputId": "a820e3c4-511d-4755-af36-fda1eceaa2e8",
        "colab": {
          "base_uri": "https://localhost:8080/"
        }
      },
      "execution_count": 30,
      "outputs": [
        {
          "output_type": "stream",
          "name": "stdout",
          "text": [
            "Krrish\n"
          ]
        }
      ]
    },
    {
      "cell_type": "code",
      "source": [
        "Index_of_Close_Match_Movie = df[df.Movie_Title == Close_Match]['Movie_ID'].values[0]\n",
        "print(Index_of_Close_Match_Movie)"
      ],
      "metadata": {
        "id": "0ByYx36Lw35c",
        "outputId": "41abe940-ce98-4020-b214-1e8aa1af97b9",
        "colab": {
          "base_uri": "https://localhost:8080/"
        }
      },
      "execution_count": 31,
      "outputs": [
        {
          "output_type": "stream",
          "name": "stdout",
          "text": [
            "3060\n"
          ]
        }
      ]
    },
    {
      "cell_type": "code",
      "source": [
        "Recommendation_Score = list(enumerate(Similarity_Score[Index_of_Close_Match_Movie]))\n",
        "print(Recommendation_Score)"
      ],
      "metadata": {
        "id": "wRJvHTkKw38n",
        "outputId": "2076b018-4681-4328-9c74-7b72fe1073ba",
        "colab": {
          "base_uri": "https://localhost:8080/"
        }
      },
      "execution_count": 32,
      "outputs": [
        {
          "output_type": "stream",
          "name": "stdout",
          "text": [
            "[(0, 0.010513335780440496), (1, 0.027958953520346413), (2, 0.012346651714877517), (3, 0.0), (4, 0.0), (5, 0.016800861493999224), (6, 0.0), (7, 0.0), (8, 0.0), (9, 0.01585761189293299), (10, 0.015438709402963253), (11, 0.017500954690173372), (12, 0.0), (13, 0.0), (14, 0.0), (15, 0.02147004532563259), (16, 0.0), (17, 0.0), (18, 0.0), (19, 0.0), (20, 0.0), (21, 0.0), (22, 0.0), (23, 0.0), (24, 0.0), (25, 0.014121902048911119), (26, 0.0), (27, 0.0), (28, 0.0), (29, 0.0), (30, 0.03773542925870469), (31, 0.017420308512336013), (32, 0.0), (33, 0.0), (34, 0.0), (35, 0.050739503201308794), (36, 0.01666949591198949), (37, 0.0), (38, 0.0), (39, 0.0), (40, 0.0), (41, 0.024635087185126043), (42, 0.01677023361822213), (43, 0.0), (44, 0.0), (45, 0.03759483821626558), (46, 0.0), (47, 0.0), (48, 0.0), (49, 0.016264340242108252), (50, 0.014018215072237475), (51, 0.04016364047664682), (52, 0.01594853511324989), (53, 0.0), (54, 0.017007219357282506), (55, 0.0), (56, 0.0), (57, 0.0), (58, 0.01445523608776978), (59, 0.0), (60, 0.0), (61, 0.0), (62, 0.0), (63, 0.0), (64, 0.014750819009573455), (65, 0.0), (66, 0.01750316474142759), (67, 0.0), (68, 0.0), (69, 0.01619517035810493), (70, 0.0), (71, 0.0), (72, 0.0), (73, 0.038541827072618315), (74, 0.0), (75, 0.014889192309368221), (76, 0.014377288416383574), (77, 0.0), (78, 0.0), (79, 0.0), (80, 0.029364301025434893), (81, 0.0), (82, 0.011341589202311174), (83, 0.0), (84, 0.0), (85, 0.0), (86, 0.0), (87, 0.0), (88, 0.0), (89, 0.0), (90, 0.0), (91, 0.012531165231859119), (92, 0.0), (93, 0.0), (94, 0.03034839932700338), (95, 0.0), (96, 0.01350751249200329), (97, 0.0), (98, 0.0), (99, 0.0), (100, 0.0), (101, 0.0), (102, 0.0), (103, 0.0), (104, 0.0), (105, 0.016676313035047727), (106, 0.0245927902044962), (107, 0.0), (108, 0.010193552505049077), (109, 0.0), (110, 0.014546128975620354), (111, 0.015701589514677365), (112, 0.0), (113, 0.025157604145854946), (114, 0.030004009773499672), (115, 0.03428051979778257), (116, 0.0), (117, 0.0), (118, 0.0), (119, 0.0), (120, 0.0), (121, 0.0), (122, 0.0), (123, 0.0), (124, 0.0), (125, 0.0), (126, 0.0), (127, 0.0), (128, 0.0), (129, 0.013036297657115448), (130, 0.0), (131, 0.017532900366433218), (132, 0.0), (133, 0.0), (134, 0.0), (135, 0.0), (136, 0.0), (137, 0.01724470664765363), (138, 0.0), (139, 0.03326613989087759), (140, 0.0), (141, 0.0), (142, 0.012090311241823953), (143, 0.0), (144, 0.0), (145, 0.0), (146, 0.0), (147, 0.0), (148, 0.0), (149, 0.0), (150, 0.0), (151, 0.01927601269374252), (152, 0.0), (153, 0.0), (154, 0.0), (155, 0.03783782939039341), (156, 0.0), (157, 0.0), (158, 0.0), (159, 0.0), (160, 0.0), (161, 0.015149772539904608), (162, 0.0), (163, 0.0), (164, 0.0), (165, 0.0), (166, 0.0), (167, 0.0), (168, 0.0), (169, 0.0), (170, 0.013393939624704494), (171, 0.0), (172, 0.0), (173, 0.0), (174, 0.0), (175, 0.0), (176, 0.0), (177, 0.0), (178, 0.0), (179, 0.031272199418476934), (180, 0.03674180891399066), (181, 0.0), (182, 0.0), (183, 0.0), (184, 0.0), (185, 0.0), (186, 0.0), (187, 0.025779297932092847), (188, 0.0), (189, 0.0), (190, 0.0), (191, 0.015157906996344677), (192, 0.043312113641659426), (193, 0.04039711224573254), (194, 0.04796676092256539), (195, 0.028870172472799407), (196, 0.02800242700594624), (197, 0.0), (198, 0.023257143081638832), (199, 0.0), (200, 0.0), (201, 0.0), (202, 0.03603627463753425), (203, 0.0), (204, 0.017478910028225735), (205, 0.01756428105578485), (206, 0.0), (207, 0.020735642344851674), (208, 0.025422215285821767), (209, 0.0), (210, 0.0), (211, 0.0), (212, 0.041988631973362375), (213, 0.0), (214, 0.0), (215, 0.016070003269219986), (216, 0.0), (217, 0.04473280181852121), (218, 0.0), (219, 0.0), (220, 0.0), (221, 0.0), (222, 0.0), (223, 0.0), (224, 0.0), (225, 0.0), (226, 0.0), (227, 0.01745182542475687), (228, 0.0), (229, 0.0), (230, 0.0), (231, 0.0), (232, 0.0), (233, 0.0), (234, 0.0), (235, 0.0), (236, 0.0), (237, 0.07163352461948082), (238, 0.0), (239, 0.0), (240, 0.015784330153866474), (241, 0.0), (242, 0.014814374822007871), (243, 0.011964984959042493), (244, 0.0), (245, 0.0), (246, 0.0), (247, 0.0), (248, 0.0), (249, 0.04427088128018834), (250, 0.0), (251, 0.0), (252, 0.0), (253, 0.0), (254, 0.0), (255, 0.0), (256, 0.0), (257, 0.02101893380521873), (258, 0.0), (259, 0.05534055058407339), (260, 0.03764071521461097), (261, 0.07335034182869701), (262, 0.0), (263, 0.022546984049740787), (264, 0.0), (265, 0.0), (266, 0.0), (267, 0.0), (268, 0.0), (269, 0.0), (270, 0.01700740063996244), (271, 0.0), (272, 0.0), (273, 0.03232227194442647), (274, 0.0), (275, 0.025679208331097242), (276, 0.031163230895588843), (277, 0.014600454990892688), (278, 0.034744963360186544), (279, 0.0), (280, 0.0), (281, 0.0), (282, 0.030352137546007334), (283, 0.01316311259240575), (284, 0.0), (285, 0.0), (286, 0.05193380311312833), (287, 0.0), (288, 0.04683753514755801), (289, 0.0), (290, 0.0), (291, 0.021056747971747794), (292, 0.0), (293, 0.021026727842371737), (294, 0.013309299359823982), (295, 0.0), (296, 0.0), (297, 0.0), (298, 0.0), (299, 0.0), (300, 0.0), (301, 0.0), (302, 0.030474494087494697), (303, 0.0), (304, 0.0), (305, 0.0), (306, 0.015507878774071476), (307, 0.0), (308, 0.0), (309, 0.01368678613179152), (310, 0.0), (311, 0.0), (312, 0.0), (313, 0.0), (314, 0.014361042834298957), (315, 0.016375331591941954), (316, 0.0), (317, 0.014943859929067821), (318, 0.0), (319, 0.0), (320, 0.03965307030358704), (321, 0.016565392061452036), (322, 0.016558350694755006), (323, 0.0), (324, 0.015435330739158865), (325, 0.016040048670439646), (326, 0.0), (327, 0.0), (328, 0.0), (329, 0.0), (330, 0.04195839559087583), (331, 0.0), (332, 0.0), (333, 0.0657194146366479), (334, 0.014709744156132297), (335, 0.0), (336, 0.017567913131325382), (337, 0.0), (338, 0.015543213530897599), (339, 0.0), (340, 0.0), (341, 0.0), (342, 0.0), (343, 0.0), (344, 0.0), (345, 0.0), (346, 0.0), (347, 0.014323755660705085), (348, 0.0), (349, 0.013940327561903271), (350, 0.0), (351, 0.0), (352, 0.0), (353, 0.0), (354, 0.0), (355, 0.04184923044069077), (356, 0.0), (357, 0.07832319609409674), (358, 0.0), (359, 0.013406983979806525), (360, 0.016826276278525242), (361, 0.0), (362, 0.0), (363, 0.015216671819756054), (364, 0.0), (365, 0.0), (366, 0.013878625226984432), (367, 0.0), (368, 0.0), (369, 0.025231361192403757), (370, 0.0), (371, 0.0), (372, 0.0), (373, 0.0), (374, 0.0), (375, 0.0), (376, 0.0), (377, 0.03072817394259602), (378, 0.0), (379, 0.0), (380, 0.0), (381, 0.0), (382, 0.0), (383, 0.0), (384, 0.018316017147991217), (385, 0.07954228506329035), (386, 0.0), (387, 0.0), (388, 0.0), (389, 0.0), (390, 0.0), (391, 0.0), (392, 0.0), (393, 0.0), (394, 0.029373706381756078), (395, 0.0), (396, 0.0), (397, 0.0), (398, 0.0), (399, 0.0), (400, 0.014122029182139574), (401, 0.0), (402, 0.0), (403, 0.0), (404, 0.0), (405, 0.04950460695526837), (406, 0.0), (407, 0.0), (408, 0.03933788112266886), (409, 0.0), (410, 0.03584615197851191), (411, 0.0), (412, 0.0), (413, 0.0), (414, 0.08246141234792878), (415, 0.0), (416, 0.0), (417, 0.0), (418, 0.0), (419, 0.0), (420, 0.0), (421, 0.0), (422, 0.02726403775864214), (423, 0.03071199203762366), (424, 0.043565843994763404), (425, 0.0), (426, 0.0), (427, 0.0), (428, 0.0), (429, 0.0), (430, 0.0), (431, 0.0), (432, 0.023820265339915554), (433, 0.050738840234118725), (434, 0.0), (435, 0.0), (436, 0.0), (437, 0.0), (438, 0.0), (439, 0.039203746545590785), (440, 0.01851363443121401), (441, 0.0), (442, 0.0), (443, 0.0), (444, 0.0), (445, 0.014779605787330367), (446, 0.0), (447, 0.016913648559616058), (448, 0.0), (449, 0.0), (450, 0.0), (451, 0.016453843106140197), (452, 0.0), (453, 0.0), (454, 0.0), (455, 0.0), (456, 0.017831225607964234), (457, 0.0), (458, 0.0), (459, 0.01841971956489145), (460, 0.06586614630314964), (461, 0.0), (462, 0.0), (463, 0.015150451775097292), (464, 0.01702350860766276), (465, 0.0), (466, 0.016245004980237794), (467, 0.014097594026392964), (468, 0.0), (469, 0.037668479749013), (470, 0.0), (471, 0.0), (472, 0.01776342879290085), (473, 0.0), (474, 0.0), (475, 0.0830130171362908), (476, 0.0), (477, 0.01508107076814984), (478, 0.0), (479, 0.033254197913897166), (480, 0.0), (481, 0.0), (482, 0.0), (483, 0.0), (484, 0.02327538965260146), (485, 0.018029396641377635), (486, 0.015930879177596245), (487, 0.0), (488, 0.0), (489, 0.0), (490, 0.0), (491, 0.0), (492, 0.015858618059733383), (493, 0.0), (494, 0.0), (495, 0.0), (496, 0.028363839738470686), (497, 0.0), (498, 0.0), (499, 0.0), (500, 0.0), (501, 0.015486891484678359), (502, 0.0), (503, 0.0), (504, 0.0), (505, 0.0), (506, 0.013723609540396042), (507, 0.0), (508, 0.0), (509, 0.0), (510, 0.06299839931471064), (511, 0.0770312293379625), (512, 0.0), (513, 0.0), (514, 0.0), (515, 0.0), (516, 0.0), (517, 0.017564304008172618), (518, 0.0), (519, 0.0), (520, 0.04770073023446109), (521, 0.030552118957447885), (522, 0.0), (523, 0.0), (524, 0.0), (525, 0.0), (526, 0.0), (527, 0.0), (528, 0.0169568860758259), (529, 0.0), (530, 0.0), (531, 0.026027339177934372), (532, 0.0), (533, 0.0), (534, 0.0), (535, 0.03933148989841169), (536, 0.0), (537, 0.0), (538, 0.0), (539, 0.014230093770641682), (540, 0.021842409546399367), (541, 0.0), (542, 0.012282036286880021), (543, 0.0), (544, 0.0), (545, 0.014674463330928004), (546, 0.0), (547, 0.0), (548, 0.0), (549, 0.0), (550, 0.0), (551, 0.0), (552, 0.0), (553, 0.012107053890042642), (554, 0.01807387637908355), (555, 0.0), (556, 0.016886403406095696), (557, 0.0), (558, 0.0), (559, 0.0), (560, 0.0), (561, 0.023364153894815942), (562, 0.04069409455389246), (563, 0.030864414336179497), (564, 0.0), (565, 0.025929598479193953), (566, 0.0), (567, 0.0), (568, 0.013846034700844797), (569, 0.015436574946288953), (570, 0.0), (571, 0.0), (572, 0.0), (573, 0.0), (574, 0.0), (575, 0.0), (576, 0.0), (577, 0.01536145903550498), (578, 0.04566873315382304), (579, 0.0), (580, 0.01902718197513353), (581, 0.0), (582, 0.0), (583, 0.01525247553947807), (584, 0.0), (585, 0.0), (586, 0.0), (587, 0.0), (588, 0.0), (589, 0.0), (590, 0.0), (591, 0.0), (592, 0.0), (593, 0.0), (594, 0.0), (595, 0.0), (596, 0.0), (597, 0.025660956119797188), (598, 0.03313740401519837), (599, 0.0), (600, 0.0), (601, 0.048926030307480245), (602, 0.026872239522345853), (603, 0.03229187402606837), (604, 0.020630433791694297), (605, 0.0), (606, 0.02387982529204047), (607, 0.0), (608, 0.0), (609, 0.03683590117320917), (610, 0.014331460560185335), (611, 0.0), (612, 0.033774384494735604), (613, 0.0), (614, 0.0), (615, 0.0), (616, 0.0), (617, 0.0), (618, 0.0), (619, 0.044091475683648615), (620, 0.0), (621, 0.014223731922693484), (622, 0.03474395613833552), (623, 0.0), (624, 0.0), (625, 0.0), (626, 0.0), (627, 0.0), (628, 0.01824069445591328), (629, 0.0), (630, 0.015136409579539913), (631, 0.0), (632, 0.0), (633, 0.0), (634, 0.0), (635, 0.0), (636, 0.0), (637, 0.0170020424354838), (638, 0.015367652772623792), (639, 0.012168549794722563), (640, 0.014712612613264434), (641, 0.017983919319621625), (642, 0.014677831886536222), (643, 0.0), (644, 0.0), (645, 0.014127739963120972), (646, 0.0), (647, 0.0), (648, 0.0), (649, 0.0), (650, 0.0), (651, 0.013905470874199055), (652, 0.0), (653, 0.0), (654, 0.024489072427587303), (655, 0.05168794885534795), (656, 0.017452828715239656), (657, 0.0), (658, 0.03540951853343146), (659, 0.01575477115157354), (660, 0.0), (661, 0.017412085414771183), (662, 0.016305332653275675), (663, 0.0), (664, 0.016594332771269513), (665, 0.05312148334297076), (666, 0.0), (667, 0.0), (668, 0.018204480873304625), (669, 0.0), (670, 0.0), (671, 0.0), (672, 0.0), (673, 0.0), (674, 0.0), (675, 0.0), (676, 0.013799759590449797), (677, 0.0), (678, 0.0), (679, 0.01894794885371092), (680, 0.0), (681, 0.0), (682, 0.0), (683, 0.0), (684, 0.0), (685, 0.0), (686, 0.0), (687, 0.0), (688, 0.04329581252896846), (689, 0.016309718755290567), (690, 0.016208943886815153), (691, 0.0), (692, 0.0), (693, 0.040000529751280225), (694, 0.0), (695, 0.0), (696, 0.016947926838314954), (697, 0.0), (698, 0.0), (699, 0.0), (700, 0.03302628498495525), (701, 0.0), (702, 0.01618323352548393), (703, 0.013026652445167035), (704, 0.0), (705, 0.0), (706, 0.0), (707, 0.0), (708, 0.0), (709, 0.06010882015208073), (710, 0.01578300263663208), (711, 0.0), (712, 0.014577123167760777), (713, 0.01611681616822969), (714, 0.0), (715, 0.0), (716, 0.025205815855508285), (717, 0.0), (718, 0.0), (719, 0.014035232517996658), (720, 0.0), (721, 0.0), (722, 0.0), (723, 0.0), (724, 0.018370125113696765), (725, 0.0), (726, 0.028394652399311084), (727, 0.0), (728, 0.03039717055530858), (729, 0.0), (730, 0.018547603260530076), (731, 0.0413073747778211), (732, 0.0), (733, 0.014640557800583362), (734, 0.0), (735, 0.0), (736, 0.0), (737, 0.025586482967837918), (738, 0.0509264500939), (739, 0.0), (740, 0.024356408748022577), (741, 0.0), (742, 0.05256177232281807), (743, 0.017566770723703665), (744, 0.0), (745, 0.0), (746, 0.02201431994859446), (747, 0.0), (748, 0.0), (749, 0.0), (750, 0.0), (751, 0.0), (752, 0.0), (753, 0.018202624337999504), (754, 0.0), (755, 0.0), (756, 0.0), (757, 0.0), (758, 0.0), (759, 0.0), (760, 0.0), (761, 0.0), (762, 0.0), (763, 0.04169070353218671), (764, 0.0), (765, 0.0), (766, 0.0), (767, 0.015822590443141354), (768, 0.037485120221583346), (769, 0.0), (770, 0.0), (771, 0.048870580840611806), (772, 0.0), (773, 0.0), (774, 0.0), (775, 0.0), (776, 0.0), (777, 0.0), (778, 0.0), (779, 0.0), (780, 0.0), (781, 0.035173313665855806), (782, 0.0), (783, 0.0), (784, 0.0), (785, 0.030887243683674938), (786, 0.013926998358843421), (787, 0.010567442571600314), (788, 0.0), (789, 0.0), (790, 0.03712961776332176), (791, 0.0), (792, 0.0), (793, 0.03133603489980851), (794, 0.0), (795, 0.0), (796, 0.0), (797, 0.017580045780451827), (798, 0.03252478837454272), (799, 0.018126721498362326), (800, 0.0), (801, 0.03188603228232871), (802, 0.018267496248224657), (803, 0.0), (804, 0.0), (805, 0.037629032489524025), (806, 0.0), (807, 0.013483037076885002), (808, 0.0), (809, 0.017233284211816517), (810, 0.015342831172796504), (811, 0.01445260023340863), (812, 0.0), (813, 0.0), (814, 0.01688259646836186), (815, 0.02561327261169067), (816, 0.0), (817, 0.0), (818, 0.0), (819, 0.0), (820, 0.03210154512322996), (821, 0.0), (822, 0.01656007516810245), (823, 0.0254808458106318), (824, 0.011841762760097053), (825, 0.0), (826, 0.0), (827, 0.015918256524366525), (828, 0.0), (829, 0.02893692493647606), (830, 0.0), (831, 0.0), (832, 0.0), (833, 0.0502647182603577), (834, 0.018184860868820832), (835, 0.017502908525462223), (836, 0.0), (837, 0.0), (838, 0.0), (839, 0.0), (840, 0.0), (841, 0.0), (842, 0.0), (843, 0.0), (844, 0.0), (845, 0.017248057532249242), (846, 0.016280462872165842), (847, 0.0), (848, 0.0), (849, 0.0), (850, 0.0), (851, 0.0), (852, 0.02279103396251346), (853, 0.07352011081145608), (854, 0.01629339053891342), (855, 0.0), (856, 0.025568758337689717), (857, 0.0), (858, 0.010080064654019233), (859, 0.01650889050460415), (860, 0.0), (861, 0.0), (862, 0.012153454570915762), (863, 0.0), (864, 0.0), (865, 0.017796018318290568), (866, 0.0), (867, 0.0), (868, 0.0), (869, 0.0), (870, 0.03184010993282877), (871, 0.0), (872, 0.0), (873, 0.0), (874, 0.0), (875, 0.019539482216193425), (876, 0.04780234312063044), (877, 0.0), (878, 0.021881254522695563), (879, 0.0), (880, 0.0), (881, 0.0), (882, 0.0), (883, 0.0), (884, 0.0), (885, 0.0), (886, 0.0), (887, 0.0), (888, 0.0), (889, 0.0), (890, 0.0), (891, 0.017787398584782663), (892, 0.014944419336066102), (893, 0.0), (894, 0.03934747648911284), (895, 0.03732126476079427), (896, 0.0511465245587161), (897, 0.0), (898, 0.01507215834727318), (899, 0.02105264632888987), (900, 0.0), (901, 0.019709023896492213), (902, 0.0), (903, 0.0), (904, 0.0), (905, 0.016356018479135117), (906, 0.03733929198557637), (907, 0.022288108240449744), (908, 0.017351974290102806), (909, 0.0), (910, 0.0), (911, 0.0), (912, 0.014927737524977868), (913, 0.0), (914, 0.0), (915, 0.0), (916, 0.0), (917, 0.0), (918, 0.017373430328333914), (919, 0.0), (920, 0.015520522836266612), (921, 0.0), (922, 0.0), (923, 0.050136818347700216), (924, 0.0), (925, 0.0), (926, 0.01327170687133043), (927, 0.0), (928, 0.0), (929, 0.012930537639724678), (930, 0.0), (931, 0.0), (932, 0.0), (933, 0.0), (934, 0.0), (935, 0.0), (936, 0.0), (937, 0.0), (938, 0.039572860056901984), (939, 0.037928911846325436), (940, 0.0), (941, 0.0), (942, 0.0), (943, 0.0), (944, 0.0), (945, 0.0), (946, 0.017076554824352348), (947, 0.0), (948, 0.0), (949, 0.0), (950, 0.0), (951, 0.0), (952, 0.0), (953, 0.013546963716206313), (954, 0.0), (955, 0.0), (956, 0.04217292792638182), (957, 0.021328005822353214), (958, 0.0), (959, 0.0), (960, 0.0), (961, 0.06653177672149323), (962, 0.0), (963, 0.0), (964, 0.0), (965, 0.0), (966, 0.014024585179051165), (967, 0.0), (968, 0.0), (969, 0.0), (970, 0.028778694473009396), (971, 0.017115071706295944), (972, 0.09163076283134458), (973, 0.014084388800912081), (974, 0.021807816544249382), (975, 0.013529190301869647), (976, 0.0), (977, 0.0), (978, 0.0), (979, 0.0), (980, 0.0), (981, 0.015181394161095863), (982, 0.0), (983, 0.0), (984, 0.01581817285059811), (985, 0.0), (986, 0.0), (987, 0.01759858775829054), (988, 0.0), (989, 0.0), (990, 0.02414042213824071), (991, 0.0), (992, 0.01973671353863435), (993, 0.0), (994, 0.0), (995, 0.0), (996, 0.0), (997, 0.0), (998, 0.0), (999, 0.0), (1000, 0.0), (1001, 0.0), (1002, 0.0), (1003, 0.0420893742019179), (1004, 0.0), (1005, 0.0), (1006, 0.0), (1007, 0.02006567852099453), (1008, 0.0), (1009, 0.015742941717450543), (1010, 0.026044102151767452), (1011, 0.0), (1012, 0.0), (1013, 0.0), (1014, 0.0), (1015, 0.0), (1016, 0.0), (1017, 0.0), (1018, 0.028167842646542828), (1019, 0.0), (1020, 0.0), (1021, 0.0), (1022, 0.0), (1023, 0.0), (1024, 0.0), (1025, 0.0), (1026, 0.016411516439817732), (1027, 0.0), (1028, 0.014239928646902772), (1029, 0.0), (1030, 0.0), (1031, 0.0), (1032, 0.0), (1033, 0.0), (1034, 0.01590657657369843), (1035, 0.01674280198523212), (1036, 0.0), (1037, 0.0), (1038, 0.021577609827573462), (1039, 0.026922923015488695), (1040, 0.0), (1041, 0.01573776407943317), (1042, 0.014359749604282008), (1043, 0.0), (1044, 0.016367208524730517), (1045, 0.0), (1046, 0.0), (1047, 0.0), (1048, 0.0), (1049, 0.0), (1050, 0.0), (1051, 0.0), (1052, 0.0), (1053, 0.0), (1054, 0.0), (1055, 0.0), (1056, 0.0), (1057, 0.0), (1058, 0.04546287495308389), (1059, 0.018111207880377053), (1060, 0.03173065737871586), (1061, 0.015740854093834036), (1062, 0.02898186608436767), (1063, 0.0), (1064, 0.0), (1065, 0.0), (1066, 0.0), (1067, 0.0), (1068, 0.013740608110283447), (1069, 0.0), (1070, 0.0), (1071, 0.03977697279575443), (1072, 0.0), (1073, 0.0), (1074, 0.0), (1075, 0.0), (1076, 0.01564976617233143), (1077, 0.0), (1078, 0.0), (1079, 0.031041729230403402), (1080, 0.021307684606581067), (1081, 0.0), (1082, 0.0), (1083, 0.0), (1084, 0.016082468273644027), (1085, 0.0), (1086, 0.038066516830999354), (1087, 0.0), (1088, 0.0), (1089, 0.10304354993844717), (1090, 0.014573321589468866), (1091, 0.0), (1092, 0.0), (1093, 0.0), (1094, 0.0), (1095, 0.01654462350194361), (1096, 0.02752782558221002), (1097, 0.0), (1098, 0.0), (1099, 0.0), (1100, 0.0), (1101, 0.0), (1102, 0.018446984699027096), (1103, 0.02401135369592651), (1104, 0.0), (1105, 0.0), (1106, 0.0), (1107, 0.026704583179112593), (1108, 0.0), (1109, 0.015968870495541767), (1110, 0.0), (1111, 0.0), (1112, 0.0), (1113, 0.0), (1114, 0.0), (1115, 0.0), (1116, 0.032448652458847364), (1117, 0.022058671546309815), (1118, 0.03856604352919331), (1119, 0.01856731581742078), (1120, 0.0), (1121, 0.0), (1122, 0.017318706041170907), (1123, 0.018044523424706187), (1124, 0.0), (1125, 0.0), (1126, 0.0), (1127, 0.0), (1128, 0.0), (1129, 0.0), (1130, 0.03834613651684726), (1131, 0.0), (1132, 0.0), (1133, 0.0), (1134, 0.05442656532581312), (1135, 0.0), (1136, 0.0), (1137, 0.013639182389193483), (1138, 0.0), (1139, 0.0), (1140, 0.0), (1141, 0.0), (1142, 0.0), (1143, 0.0), (1144, 0.0), (1145, 0.0), (1146, 0.0), (1147, 0.0), (1148, 0.0), (1149, 0.0), (1150, 0.0), (1151, 0.0), (1152, 0.0), (1153, 0.0), (1154, 0.036392164802247016), (1155, 0.03320951030600295), (1156, 0.0), (1157, 0.01541107798518339), (1158, 0.0), (1159, 0.03025651821917793), (1160, 0.0), (1161, 0.0), (1162, 0.0), (1163, 0.0), (1164, 0.0), (1165, 0.018919659209758927), (1166, 0.014539308525264163), (1167, 0.0), (1168, 0.0), (1169, 0.0), (1170, 0.0), (1171, 0.0), (1172, 0.0), (1173, 0.021378800276651972), (1174, 0.0), (1175, 0.014380513666360548), (1176, 0.0), (1177, 0.0), (1178, 0.04138832784671342), (1179, 0.0), (1180, 0.015397936901351102), (1181, 0.03146057778867146), (1182, 0.0), (1183, 0.0), (1184, 0.0), (1185, 0.0), (1186, 0.01497776893052675), (1187, 0.0), (1188, 0.0), (1189, 0.0), (1190, 0.0), (1191, 0.039634059494034396), (1192, 0.0), (1193, 0.0), (1194, 0.0), (1195, 0.0), (1196, 0.0), (1197, 0.02862150210990675), (1198, 0.0), (1199, 0.0), (1200, 0.0), (1201, 0.0), (1202, 0.0), (1203, 0.0), (1204, 0.060649610631393396), (1205, 0.01937205308214163), (1206, 0.0), (1207, 0.016152102900854677), (1208, 0.0), (1209, 0.0), (1210, 0.0), (1211, 0.01395285798367934), (1212, 0.0), (1213, 0.0), (1214, 0.0), (1215, 0.0), (1216, 0.0), (1217, 0.021599851170998833), (1218, 0.0), (1219, 0.015244024975946926), (1220, 0.0), (1221, 0.028384357728931213), (1222, 0.011953355273828592), (1223, 0.01718495594216335), (1224, 0.0), (1225, 0.017884234141770906), (1226, 0.0), (1227, 0.0), (1228, 0.0), (1229, 0.04155800401849895), (1230, 0.021964116470101606), (1231, 0.0), (1232, 0.014642024427645011), (1233, 0.01704366440795507), (1234, 0.032289648904822735), (1235, 0.0), (1236, 0.0), (1237, 0.0), (1238, 0.0), (1239, 0.0), (1240, 0.03369516807447204), (1241, 0.0), (1242, 0.0), (1243, 0.08452195017871234), (1244, 0.0), (1245, 0.0), (1246, 0.0), (1247, 0.0), (1248, 0.0), (1249, 0.050691397887249565), (1250, 0.0), (1251, 0.025510253490203933), (1252, 0.03309455207303453), (1253, 0.03174651577119734), (1254, 0.049409745127505414), (1255, 0.051373934299964646), (1256, 0.01678477722761676), (1257, 0.04476210279770914), (1258, 0.08793276328556188), (1259, 0.0), (1260, 0.0), (1261, 0.0), (1262, 0.018401237158024063), (1263, 0.017933674292190994), (1264, 0.0), (1265, 0.0), (1266, 0.0), (1267, 0.0), (1268, 0.02865647352316453), (1269, 0.0), (1270, 0.015459013367506939), (1271, 0.0), (1272, 0.0), (1273, 0.02083532219365312), (1274, 0.0), (1275, 0.0), (1276, 0.04318634305324853), (1277, 0.0), (1278, 0.0), (1279, 0.014100827781701283), (1280, 0.0), (1281, 0.037201238070360534), (1282, 0.025324377935618436), (1283, 0.0), (1284, 0.0163387267744808), (1285, 0.0), (1286, 0.02987026466096786), (1287, 0.0), (1288, 0.012871237624361327), (1289, 0.0), (1290, 0.0), (1291, 0.0), (1292, 0.0), (1293, 0.0), (1294, 0.019803157520535748), (1295, 0.0), (1296, 0.07233063104557039), (1297, 0.0), (1298, 0.0), (1299, 0.0), (1300, 0.014098662941316783), (1301, 0.012315378856014234), (1302, 0.0), (1303, 0.0), (1304, 0.016584709596786054), (1305, 0.03569200122583567), (1306, 0.04950170514748172), (1307, 0.0), (1308, 0.015654636611026493), (1309, 0.014474107849779315), (1310, 0.0), (1311, 0.0), (1312, 0.015007885469923559), (1313, 0.0), (1314, 0.0), (1315, 0.0), (1316, 0.0), (1317, 0.014160239717300044), (1318, 0.03547925714245241), (1319, 0.05437022363319868), (1320, 0.0), (1321, 0.0), (1322, 0.0), (1323, 0.0), (1324, 0.03217746114615662), (1325, 0.0), (1326, 0.0), (1327, 0.0), (1328, 0.0), (1329, 0.0), (1330, 0.016840180417198494), (1331, 0.0), (1332, 0.0), (1333, 0.015223410011417362), (1334, 0.0), (1335, 0.017155332447846856), (1336, 0.05138362150509625), (1337, 0.0), (1338, 0.0), (1339, 0.0), (1340, 0.0), (1341, 0.0), (1342, 0.0), (1343, 0.0), (1344, 0.056599162864371125), (1345, 0.014623261443243631), (1346, 0.0), (1347, 0.0), (1348, 0.05519286488887758), (1349, 0.0), (1350, 0.0), (1351, 0.03634443453755391), (1352, 0.0), (1353, 0.03856024889940041), (1354, 0.0307133127470215), (1355, 0.0), (1356, 0.01547008307769559), (1357, 0.015722515497991498), (1358, 0.0), (1359, 0.04028148714476356), (1360, 0.022475271158997494), (1361, 0.03339682528131766), (1362, 0.03455045666527211), (1363, 0.0), (1364, 0.0), (1365, 0.08302320972094278), (1366, 0.0), (1367, 0.02592386166878002), (1368, 0.0), (1369, 0.0), (1370, 0.0), (1371, 0.0), (1372, 0.0), (1373, 0.0), (1374, 0.0), (1375, 0.03072401768703893), (1376, 0.0), (1377, 0.03265836934335723), (1378, 0.01830615765995684), (1379, 0.04883642656854615), (1380, 0.0), (1381, 0.05153806213450889), (1382, 0.017676815441606694), (1383, 0.0), (1384, 0.015229995366511512), (1385, 0.0), (1386, 0.0), (1387, 0.0275588223974874), (1388, 0.0), (1389, 0.0), (1390, 0.0), (1391, 0.03525380655491056), (1392, 0.0), (1393, 0.08367139647318295), (1394, 0.0), (1395, 0.0), (1396, 0.03339875284350203), (1397, 0.0), (1398, 0.0), (1399, 0.0), (1400, 0.019222635503166642), (1401, 0.02982991120131817), (1402, 0.017325012021752267), (1403, 0.0), (1404, 0.0), (1405, 0.014889379265611272), (1406, 0.0), (1407, 0.0), (1408, 0.0), (1409, 0.0), (1410, 0.0), (1411, 0.01706788278645297), (1412, 0.015788037079624676), (1413, 0.0), (1414, 0.012598334845524101), (1415, 0.0), (1416, 0.01613987995224308), (1417, 0.0), (1418, 0.0), (1419, 0.0233712373882592), (1420, 0.0), (1421, 0.016458252104476892), (1422, 0.0), (1423, 0.0), (1424, 0.0), (1425, 0.01628123907408389), (1426, 0.0), (1427, 0.02093550687323826), (1428, 0.03168563761550217), (1429, 0.0), (1430, 0.01347480404000796), (1431, 0.016414706973095022), (1432, 0.0), (1433, 0.0), (1434, 0.0), (1435, 0.017149692974202987), (1436, 0.0), (1437, 0.0), (1438, 0.0), (1439, 0.019210108551190413), (1440, 0.0), (1441, 0.0), (1442, 0.0), (1443, 0.0), (1444, 0.06111803477602241), (1445, 0.0), (1446, 0.0), (1447, 0.0), (1448, 0.0), (1449, 0.0), (1450, 0.0), (1451, 0.0), (1452, 0.0), (1453, 0.012117794626192436), (1454, 0.0), (1455, 0.0), (1456, 0.015334849243037652), (1457, 0.06318417995778774), (1458, 0.01636371225194638), (1459, 0.01688666810724579), (1460, 0.0), (1461, 0.01704229251061261), (1462, 0.0), (1463, 0.017743860300359796), (1464, 0.0), (1465, 0.012561510368665409), (1466, 0.0), (1467, 0.0), (1468, 0.0), (1469, 0.0), (1470, 0.0), (1471, 0.0), (1472, 0.030749541545273894), (1473, 0.0), (1474, 0.0), (1475, 0.0), (1476, 0.016722726042984717), (1477, 0.016842954026863942), (1478, 0.04078969355676411), (1479, 0.16208985864121833), (1480, 0.01533486264635214), (1481, 0.02217541786209995), (1482, 0.015581248238635374), (1483, 0.0), (1484, 0.0), (1485, 0.0), (1486, 0.0), (1487, 0.0), (1488, 0.0), (1489, 0.019189335655183534), (1490, 0.031537293522411206), (1491, 0.0), (1492, 0.014624391412748163), (1493, 0.0), (1494, 0.023445712809747415), (1495, 0.048201071340664065), (1496, 0.0), (1497, 0.0), (1498, 0.0), (1499, 0.0), (1500, 0.0), (1501, 0.0), (1502, 0.0), (1503, 0.02635169707677415), (1504, 0.0), (1505, 0.0), (1506, 0.02414782548396352), (1507, 0.0), (1508, 0.0), (1509, 0.012875006067644778), (1510, 0.0), (1511, 0.05094811463793358), (1512, 0.0), (1513, 0.0), (1514, 0.0), (1515, 0.0), (1516, 0.0), (1517, 0.02332659725954483), (1518, 0.018106062717387437), (1519, 0.0), (1520, 0.0), (1521, 0.0), (1522, 0.0), (1523, 0.014216156591388947), (1524, 0.029480354249686137), (1525, 0.0), (1526, 0.014197535545629273), (1527, 0.0), (1528, 0.0), (1529, 0.0), (1530, 0.03486058288600356), (1531, 0.0), (1532, 0.0), (1533, 0.0), (1534, 0.017234614544955083), (1535, 0.0), (1536, 0.023654369319064852), (1537, 0.01800507924431061), (1538, 0.0), (1539, 0.0), (1540, 0.0), (1541, 0.0), (1542, 0.0), (1543, 0.03221547325108025), (1544, 0.0), (1545, 0.0), (1546, 0.030117934665318088), (1547, 0.0), (1548, 0.0), (1549, 0.0), (1550, 0.0), (1551, 0.0), (1552, 0.0), (1553, 0.0), (1554, 0.04293230043949979), (1555, 0.017112786756081234), (1556, 0.0), (1557, 0.01703414148872396), (1558, 0.0), (1559, 0.012369306152481857), (1560, 0.0), (1561, 0.016555903617414183), (1562, 0.034829356199572795), (1563, 0.0), (1564, 0.0), (1565, 0.0), (1566, 0.0), (1567, 0.0), (1568, 0.0), (1569, 0.012670110380457525), (1570, 0.0), (1571, 0.014912201146388812), (1572, 0.0), (1573, 0.0), (1574, 0.0), (1575, 0.0), (1576, 0.0), (1577, 0.0), (1578, 0.0), (1579, 0.0), (1580, 0.0), (1581, 0.04306561332018345), (1582, 0.0), (1583, 0.0), (1584, 0.0), (1585, 0.0), (1586, 0.0), (1587, 0.01761713313926107), (1588, 0.0146832212731578), (1589, 0.01682969685124147), (1590, 0.051600410433755656), (1591, 0.0), (1592, 0.032311463024063), (1593, 0.0), (1594, 0.0), (1595, 0.0), (1596, 0.0), (1597, 0.01625817204535115), (1598, 0.0), (1599, 0.03336543718531164), (1600, 0.04304508502686498), (1601, 0.0), (1602, 0.0), (1603, 0.0), (1604, 0.0), (1605, 0.0), (1606, 0.031186133519839402), (1607, 0.0), (1608, 0.0), (1609, 0.0), (1610, 0.056108370715092545), (1611, 0.03853870344265867), (1612, 0.0), (1613, 0.0319271432184658), (1614, 0.0), (1615, 0.0), (1616, 0.0), (1617, 0.0), (1618, 0.0), (1619, 0.0), (1620, 0.0), (1621, 0.0), (1622, 0.0), (1623, 0.0), (1624, 0.02404218530065838), (1625, 0.0), (1626, 0.012903217418696914), (1627, 0.0), (1628, 0.0), (1629, 0.05418176216314704), (1630, 0.0), (1631, 0.0), (1632, 0.0), (1633, 0.017964528598130865), (1634, 0.05401837017856527), (1635, 0.0), (1636, 0.03486771505775519), (1637, 0.0), (1638, 0.0), (1639, 0.04094052748506388), (1640, 0.0), (1641, 0.0), (1642, 0.030716673747714304), (1643, 0.0), (1644, 0.0), (1645, 0.0), (1646, 0.032570458605540586), (1647, 0.0), (1648, 0.0), (1649, 0.01569976052599994), (1650, 0.0), (1651, 0.0), (1652, 0.0), (1653, 0.0), (1654, 0.03802097490015141), (1655, 0.0), (1656, 0.0), (1657, 0.01629361313078813), (1658, 0.0), (1659, 0.0), (1660, 0.0), (1661, 0.0), (1662, 0.0750831516946531), (1663, 0.018207206954499598), (1664, 0.022078038103377908), (1665, 0.02256459344510814), (1666, 0.013976008932732093), (1667, 0.022022272337370027), (1668, 0.0), (1669, 0.0), (1670, 0.0), (1671, 0.0), (1672, 0.013032110774896306), (1673, 0.016034329395109462), (1674, 0.0), (1675, 0.0), (1676, 0.0), (1677, 0.01364689178632574), (1678, 0.03533823328549175), (1679, 0.0), (1680, 0.0), (1681, 0.0), (1682, 0.01573254162774278), (1683, 0.0), (1684, 0.0), (1685, 0.0), (1686, 0.0), (1687, 0.0), (1688, 0.0), (1689, 0.0), (1690, 0.0), (1691, 0.019441746371411585), (1692, 0.013988762292805759), (1693, 0.0), (1694, 0.026818508990984157), (1695, 0.05676182438933719), (1696, 0.014038474858866005), (1697, 0.0), (1698, 0.055758572801600084), (1699, 0.0), (1700, 0.028573116104641284), (1701, 0.06211346840993194), (1702, 0.0), (1703, 0.0), (1704, 0.0328688383776857), (1705, 0.03114756711689843), (1706, 0.03915129830728649), (1707, 0.0), (1708, 0.0), (1709, 0.0), (1710, 0.05944182354186254), (1711, 0.0), (1712, 0.0), (1713, 0.0), (1714, 0.015498829695390404), (1715, 0.0), (1716, 0.0), (1717, 0.0), (1718, 0.0), (1719, 0.02125587905836861), (1720, 0.0), (1721, 0.0), (1722, 0.0), (1723, 0.017308944548248), (1724, 0.0), (1725, 0.01634922404909287), (1726, 0.0), (1727, 0.02415703801683135), (1728, 0.019513956362584194), (1729, 0.0), (1730, 0.0), (1731, 0.0), (1732, 0.0), (1733, 0.0), (1734, 0.01499354368255144), (1735, 0.0), (1736, 0.0), (1737, 0.017750142440861434), (1738, 0.0), (1739, 0.015438771666350857), (1740, 0.0), (1741, 0.0), (1742, 0.0), (1743, 0.01210981723465764), (1744, 0.015966775054319517), (1745, 0.014849483484009414), (1746, 0.0), (1747, 0.0), (1748, 0.0), (1749, 0.0), (1750, 0.0), (1751, 0.0), (1752, 0.02347142725010022), (1753, 0.0), (1754, 0.020258914512619585), (1755, 0.0), (1756, 0.0), (1757, 0.016671203795530627), (1758, 0.0), (1759, 0.0), (1760, 0.03963356456473153), (1761, 0.0), (1762, 0.0), (1763, 0.0), (1764, 0.014997080565619995), (1765, 0.0), (1766, 0.0), (1767, 0.03261668024016432), (1768, 0.04031948656192122), (1769, 0.018774301186618297), (1770, 0.0), (1771, 0.013992912868625902), (1772, 0.0), (1773, 0.0), (1774, 0.011047756045438591), (1775, 0.0), (1776, 0.03906050725465603), (1777, 0.03446848720782439), (1778, 0.0), (1779, 0.014718684403686118), (1780, 0.03348389533964472), (1781, 0.0), (1782, 0.0), (1783, 0.016766020408424776), (1784, 0.0), (1785, 0.02231724895625641), (1786, 0.0), (1787, 0.03720454221985678), (1788, 0.030245296750097628), (1789, 0.0409834430560334), (1790, 0.0), (1791, 0.01513229595304372), (1792, 0.0), (1793, 0.017648692445154036), (1794, 0.0), (1795, 0.0), (1796, 0.0), (1797, 0.0), (1798, 0.0), (1799, 0.0), (1800, 0.0), (1801, 0.0), (1802, 0.0), (1803, 0.0), (1804, 0.0), (1805, 0.0), (1806, 0.0), (1807, 0.0), (1808, 0.0), (1809, 0.0), (1810, 0.0), (1811, 0.013901220270926594), (1812, 0.0), (1813, 0.013786528484229439), (1814, 0.0), (1815, 0.0), (1816, 0.0), (1817, 0.0), (1818, 0.029191032512699236), (1819, 0.0), (1820, 0.04682045893571999), (1821, 0.0), (1822, 0.0), (1823, 0.022101219125377443), (1824, 0.0379129574550174), (1825, 0.0), (1826, 0.0), (1827, 0.015375399690934715), (1828, 0.02449893785170408), (1829, 0.0), (1830, 0.0), (1831, 0.0), (1832, 0.0), (1833, 0.013373962646365195), (1834, 0.0), (1835, 0.0), (1836, 0.0), (1837, 0.0), (1838, 0.0), (1839, 0.0), (1840, 0.030971460428709734), (1841, 0.0), (1842, 0.02259846905949377), (1843, 0.0), (1844, 0.0), (1845, 0.026081947921703895), (1846, 0.016530101446443686), (1847, 0.0), (1848, 0.0), (1849, 0.0), (1850, 0.014762890134993205), (1851, 0.0), (1852, 0.0), (1853, 0.0), (1854, 0.0), (1855, 0.0), (1856, 0.0), (1857, 0.01663556457647875), (1858, 0.0), (1859, 0.0), (1860, 0.0), (1861, 0.0), (1862, 0.0), (1863, 0.0), (1864, 0.0), (1865, 0.0), (1866, 0.0), (1867, 0.016551412340356297), (1868, 0.0), (1869, 0.0), (1870, 0.0), (1871, 0.0), (1872, 0.0), (1873, 0.041360631173771235), (1874, 0.0), (1875, 0.0), (1876, 0.023990399371522055), (1877, 0.017432645957719168), (1878, 0.016043556346165645), (1879, 0.030963504405819502), (1880, 0.0), (1881, 0.08156523873656264), (1882, 0.018242402260377752), (1883, 0.0), (1884, 0.0), (1885, 0.0), (1886, 0.0), (1887, 0.038453775717407115), (1888, 0.03046802279537904), (1889, 0.0), (1890, 0.0), (1891, 0.0165253236208396), (1892, 0.0), (1893, 0.0), (1894, 0.0), (1895, 0.01574368819706047), (1896, 0.0), (1897, 0.07260518066261029), (1898, 0.0), (1899, 0.0156405347087561), (1900, 0.0), (1901, 0.0), (1902, 0.017477530656697247), (1903, 0.013057052916182867), (1904, 0.0), (1905, 0.0), (1906, 0.0), (1907, 0.0), (1908, 0.0), (1909, 0.0), (1910, 0.0), (1911, 0.029632713570671636), (1912, 0.0), (1913, 0.01629150469506026), (1914, 0.01314735884470367), (1915, 0.01681675000718162), (1916, 0.0), (1917, 0.0), (1918, 0.01773287141129764), (1919, 0.01164700004101828), (1920, 0.0), (1921, 0.0), (1922, 0.02396891561675087), (1923, 0.01839080739467327), (1924, 0.0), (1925, 0.06067278845623575), (1926, 0.01997307642928274), (1927, 0.0), (1928, 0.0), (1929, 0.021603179498684132), (1930, 0.0367357082443132), (1931, 0.014657430656142972), (1932, 0.01726473043763635), (1933, 0.0), (1934, 0.012852668496858748), (1935, 0.0), (1936, 0.0), (1937, 0.0), (1938, 0.0), (1939, 0.0), (1940, 0.01950408208752509), (1941, 0.0), (1942, 0.0), (1943, 0.0), (1944, 0.0), (1945, 0.0), (1946, 0.0), (1947, 0.0), (1948, 0.01019388241117614), (1949, 0.0), (1950, 0.014073115516370152), (1951, 0.0), (1952, 0.0), (1953, 0.0), (1954, 0.014694308304244185), (1955, 0.0), (1956, 0.0), (1957, 0.0), (1958, 0.03367327014607711), (1959, 0.02590193434594195), (1960, 0.02402930073533945), (1961, 0.023105684415211478), (1962, 0.0), (1963, 0.014164534796234304), (1964, 0.028036107352086476), (1965, 0.0), (1966, 0.018182196607050765), (1967, 0.03143729821711151), (1968, 0.01876636995594654), (1969, 0.014294246918068078), (1970, 0.0), (1971, 0.01496841325241732), (1972, 0.0), (1973, 0.02190198054006399), (1974, 0.013278168725542603), (1975, 0.0), (1976, 0.0), (1977, 0.0), (1978, 0.04207467488404737), (1979, 0.015676928067042344), (1980, 0.0), (1981, 0.028255709641528584), (1982, 0.0), (1983, 0.0), (1984, 0.0), (1985, 0.0), (1986, 0.0), (1987, 0.04291014438660411), (1988, 0.0), (1989, 0.019128765045866167), (1990, 0.0), (1991, 0.0), (1992, 0.029354815460317932), (1993, 0.014363848889209314), (1994, 0.0), (1995, 0.0), (1996, 0.0), (1997, 0.0), (1998, 0.0), (1999, 0.0), (2000, 0.051064668801223165), (2001, 0.02506484598792563), (2002, 0.0), (2003, 0.0), (2004, 0.0), (2005, 0.015512160399541753), (2006, 0.04143105748384622), (2007, 0.015126014406218916), (2008, 0.01826691169945997), (2009, 0.0), (2010, 0.0), (2011, 0.0), (2012, 0.0), (2013, 0.013458329199619005), (2014, 0.0), (2015, 0.0), (2016, 0.01522656365109494), (2017, 0.0), (2018, 0.0), (2019, 0.0), (2020, 0.0), (2021, 0.0201628017124665), (2022, 0.025576566161737764), (2023, 0.0), (2024, 0.0), (2025, 0.014277122170762659), (2026, 0.0), (2027, 0.0), (2028, 0.07045372984964964), (2029, 0.0), (2030, 0.0), (2031, 0.03833377193860658), (2032, 0.0), (2033, 0.0), (2034, 0.014317549600073871), (2035, 0.028569377635741862), (2036, 0.0), (2037, 0.0), (2038, 0.0), (2039, 0.0), (2040, 0.0), (2041, 0.0317922550566076), (2042, 0.0), (2043, 0.015377712225630471), (2044, 0.0), (2045, 0.0), (2046, 0.0), (2047, 0.030446069882507625), (2048, 0.0), (2049, 0.0), (2050, 0.013763717819329533), (2051, 0.0), (2052, 0.0), (2053, 0.0), (2054, 0.05572162210087046), (2055, 0.0), (2056, 0.03165631251127731), (2057, 0.022197954488952898), (2058, 0.0), (2059, 0.0), (2060, 0.05661527608849304), (2061, 0.0), (2062, 0.0), (2063, 0.0), (2064, 0.02286929411877397), (2065, 0.0), (2066, 0.02044130696506078), (2067, 0.0241828950861029), (2068, 0.0), (2069, 0.0), (2070, 0.029973539501165932), (2071, 0.0), (2072, 0.0), (2073, 0.0617678055385074), (2074, 0.014982715727209363), (2075, 0.027759271654568478), (2076, 0.0), (2077, 0.0), (2078, 0.01358622685527397), (2079, 0.0452152500599757), (2080, 0.0), (2081, 0.0), (2082, 0.0), (2083, 0.0), (2084, 0.0), (2085, 0.02425821225547401), (2086, 0.0), (2087, 0.0), (2088, 0.024203342415070925), (2089, 0.0), (2090, 0.0), (2091, 0.0), (2092, 0.0), (2093, 0.03729592962942682), (2094, 0.0), (2095, 0.0), (2096, 0.0), (2097, 0.0), (2098, 0.0), (2099, 0.0), (2100, 0.015945552834348793), (2101, 0.0), (2102, 0.0), (2103, 0.0), (2104, 0.0), (2105, 0.0), (2106, 0.0), (2107, 0.01768813857548741), (2108, 0.025940431407859052), (2109, 0.01425015338238191), (2110, 0.0), (2111, 0.0), (2112, 0.018057648070284482), (2113, 0.0), (2114, 0.014332346193773304), (2115, 0.0), (2116, 0.0), (2117, 0.0), (2118, 0.03150058463457994), (2119, 0.0), (2120, 0.01678091554015431), (2121, 0.0), (2122, 0.0), (2123, 0.0), (2124, 0.0), (2125, 0.0), (2126, 0.01939692317520236), (2127, 0.0), (2128, 0.0), (2129, 0.015414324519729223), (2130, 0.017136693354289672), (2131, 0.03929730453086233), (2132, 0.014246371449175073), (2133, 0.0), (2134, 0.0), (2135, 0.01588015708994222), (2136, 0.01960930638765731), (2137, 0.0), (2138, 0.0), (2139, 0.017412631067814283), (2140, 0.0), (2141, 0.0), (2142, 0.0), (2143, 0.04499504818507795), (2144, 0.0), (2145, 0.0), (2146, 0.0), (2147, 0.03734762182616223), (2148, 0.0), (2149, 0.0), (2150, 0.0), (2151, 0.0), (2152, 0.0), (2153, 0.03003912058304703), (2154, 0.0), (2155, 0.0), (2156, 0.0), (2157, 0.014387305300923687), (2158, 0.0), (2159, 0.0), (2160, 0.0), (2161, 0.0), (2162, 0.026209625469173038), (2163, 0.015398058423129645), (2164, 0.0), (2165, 0.0), (2166, 0.031083803054017086), (2167, 0.0), (2168, 0.0), (2169, 0.0), (2170, 0.026678483270399407), (2171, 0.0), (2172, 0.0), (2173, 0.0), (2174, 0.0), (2175, 0.022202433569065226), (2176, 0.06909998665847304), (2177, 0.015873561006805384), (2178, 0.03464407847026693), (2179, 0.0), (2180, 0.0), (2181, 0.0), (2182, 0.039077408551707646), (2183, 0.0), (2184, 0.017815836556839243), (2185, 0.050200417861029106), (2186, 0.0), (2187, 0.019139278553047086), (2188, 0.019395266454870518), (2189, 0.0), (2190, 0.0), (2191, 0.0), (2192, 0.0), (2193, 0.0), (2194, 0.05448524092074596), (2195, 0.03166030052495547), (2196, 0.017882165371929493), (2197, 0.0), (2198, 0.0), (2199, 0.0), (2200, 0.0), (2201, 0.0), (2202, 0.0), (2203, 0.07487272931073861), (2204, 0.0), (2205, 0.01564616983314117), (2206, 0.0), (2207, 0.0), (2208, 0.017583375020849595), (2209, 0.0), (2210, 0.0), (2211, 0.0), (2212, 0.0), (2213, 0.0), (2214, 0.0), (2215, 0.0), (2216, 0.032851265940834554), (2217, 0.0), (2218, 0.025351868619843135), (2219, 0.0), (2220, 0.0), (2221, 0.025782795846259296), (2222, 0.014945819967782287), (2223, 0.0), (2224, 0.0), (2225, 0.028187275765715936), (2226, 0.0), (2227, 0.0), (2228, 0.0), (2229, 0.0), (2230, 0.0), (2231, 0.0), (2232, 0.017988869593432915), (2233, 0.0), (2234, 0.014315395213683933), (2235, 0.0), (2236, 0.013136683987176212), (2237, 0.0), (2238, 0.0), (2239, 0.016558254767387273), (2240, 0.015056279481537668), (2241, 0.0), (2242, 0.0), (2243, 0.0), (2244, 0.0), (2245, 0.029717964544196236), (2246, 0.0), (2247, 0.0), (2248, 0.0), (2249, 0.0), (2250, 0.030511768338105965), (2251, 0.0), (2252, 0.035581703004351733), (2253, 0.0), (2254, 0.06957138597729454), (2255, 0.0), (2256, 0.05617726868098716), (2257, 0.0), (2258, 0.0), (2259, 0.0), (2260, 0.0), (2261, 0.0), (2262, 0.0), (2263, 0.0), (2264, 0.015255235290448463), (2265, 0.0), (2266, 0.0), (2267, 0.0), (2268, 0.0), (2269, 0.04454478987143819), (2270, 0.0), (2271, 0.04385633407612577), (2272, 0.0), (2273, 0.018772155197154996), (2274, 0.01511401310885589), (2275, 0.022011692322259094), (2276, 0.030341907281733888), (2277, 0.06985854522643162), (2278, 0.0), (2279, 0.016417261790482588), (2280, 0.0), (2281, 0.021387011910435405), (2282, 0.0), (2283, 0.0), (2284, 0.0), (2285, 0.0), (2286, 0.0), (2287, 0.031034532431810175), (2288, 0.0), (2289, 0.0), (2290, 0.023141083477449045), (2291, 0.0), (2292, 0.0), (2293, 0.0), (2294, 0.016171350562857827), (2295, 0.0), (2296, 0.0), (2297, 0.0), (2298, 0.0), (2299, 0.0528779330056318), (2300, 0.0), (2301, 0.0), (2302, 0.0), (2303, 0.0), (2304, 0.0), (2305, 0.0), (2306, 0.0), (2307, 0.07953193765012073), (2308, 0.0), (2309, 0.0), (2310, 0.0), (2311, 0.0), (2312, 0.0), (2313, 0.0), (2314, 0.0), (2315, 0.015353234813039738), (2316, 0.0), (2317, 0.016474983462507968), (2318, 0.0), (2319, 0.03367068672444243), (2320, 0.0), (2321, 0.0), (2322, 0.03001780941832178), (2323, 0.014683181602547547), (2324, 0.0), (2325, 0.0), (2326, 0.034052544260138685), (2327, 0.015863360408312592), (2328, 0.039415463419080955), (2329, 0.0), (2330, 0.017472679405228828), (2331, 0.03398503672912696), (2332, 0.0), (2333, 0.0), (2334, 0.017804129655489005), (2335, 0.0), (2336, 0.0), (2337, 0.0), (2338, 0.0), (2339, 0.0814479168964625), (2340, 0.014461808100816938), (2341, 0.0), (2342, 0.0), (2343, 0.0), (2344, 0.0), (2345, 0.0), (2346, 0.0), (2347, 0.02137739683254049), (2348, 0.0), (2349, 0.0), (2350, 0.0), (2351, 0.0), (2352, 0.014876699393401778), (2353, 0.0), (2354, 0.0), (2355, 0.0), (2356, 0.0), (2357, 0.0), (2358, 0.0), (2359, 0.01224874763929383), (2360, 0.03481741122080094), (2361, 0.0), (2362, 0.0), (2363, 0.0), (2364, 0.0), (2365, 0.0), (2366, 0.0), (2367, 0.0), (2368, 0.07092200264291425), (2369, 0.0), (2370, 0.0), (2371, 0.0), (2372, 0.0), (2373, 0.0), (2374, 0.0), (2375, 0.018093617113632308), (2376, 0.0), (2377, 0.0), (2378, 0.0), (2379, 0.0510436172485293), (2380, 0.0), (2381, 0.0), (2382, 0.0), (2383, 0.035209332306606785), (2384, 0.0), (2385, 0.0), (2386, 0.0), (2387, 0.0), (2388, 0.0), (2389, 0.0), (2390, 0.0), (2391, 0.0181583399984133), (2392, 0.0), (2393, 0.01727814003891589), (2394, 0.0), (2395, 0.0), (2396, 0.017021489351521334), (2397, 0.016455346140871394), (2398, 0.03534784377481172), (2399, 0.0), (2400, 0.018334965260597972), (2401, 0.0), (2402, 0.016221185110418267), (2403, 0.0), (2404, 0.0), (2405, 0.0), (2406, 0.04225905865235864), (2407, 0.0), (2408, 0.014110219755520192), (2409, 0.0), (2410, 0.018883844914021695), (2411, 0.0), (2412, 0.0), (2413, 0.0), (2414, 0.0), (2415, 0.0), (2416, 0.0), (2417, 0.0), (2418, 0.0), (2419, 0.0529271635633289), (2420, 0.0), (2421, 0.0), (2422, 0.0), (2423, 0.0), (2424, 0.04188465627421312), (2425, 0.0), (2426, 0.0), (2427, 0.03633602296525208), (2428, 0.0), (2429, 0.0), (2430, 0.0), (2431, 0.0), (2432, 0.0), (2433, 0.0), (2434, 0.0), (2435, 0.0), (2436, 0.07423313480899005), (2437, 0.0), (2438, 0.0), (2439, 0.0), (2440, 0.0), (2441, 0.0), (2442, 0.027007696553983572), (2443, 0.0), (2444, 0.0), (2445, 0.05000354293095029), (2446, 0.0), (2447, 0.028957550192971686), (2448, 0.0), (2449, 0.016958459129897123), (2450, 0.0), (2451, 0.0), (2452, 0.0), (2453, 0.053810127239931935), (2454, 0.0), (2455, 0.0), (2456, 0.0), (2457, 0.0156355734573675), (2458, 0.0), (2459, 0.0), (2460, 0.014533880271845358), (2461, 0.016101713573565126), (2462, 0.0), (2463, 0.0), (2464, 0.0), (2465, 0.0), (2466, 0.0), (2467, 0.0), (2468, 0.01954287994853908), (2469, 0.0), (2470, 0.0), (2471, 0.0), (2472, 0.015043978231571078), (2473, 0.0), (2474, 0.0), (2475, 0.0), (2476, 0.0), (2477, 0.0), (2478, 0.0), (2479, 0.0), (2480, 0.0), (2481, 0.0), (2482, 0.0), (2483, 0.0), (2484, 0.0), (2485, 0.0), (2486, 0.0), (2487, 0.01763123027807761), (2488, 0.01981219398489207), (2489, 0.0), (2490, 0.0), (2491, 0.0), (2492, 0.0), (2493, 0.018916292611078536), (2494, 0.04066855905663144), (2495, 0.0), (2496, 0.0), (2497, 0.0), (2498, 0.0), (2499, 0.0), (2500, 0.041207303988143665), (2501, 0.0), (2502, 0.04268368798759859), (2503, 0.0), (2504, 0.0), (2505, 0.0), (2506, 0.0), (2507, 0.0), (2508, 0.0), (2509, 0.0), (2510, 0.0), (2511, 0.017279627879030302), (2512, 0.09179325352750556), (2513, 0.0), (2514, 0.0), (2515, 0.0), (2516, 0.0), (2517, 0.0), (2518, 0.0), (2519, 0.024912584577655925), (2520, 0.0), (2521, 0.0), (2522, 0.0), (2523, 0.0), (2524, 0.0), (2525, 0.0), (2526, 0.01212691783032719), (2527, 0.0), (2528, 0.0), (2529, 0.0), (2530, 0.0), (2531, 0.03705176200272467), (2532, 0.0), (2533, 0.0), (2534, 0.014325933641621453), (2535, 0.0), (2536, 0.0), (2537, 0.0), (2538, 0.0), (2539, 0.01496186055683951), (2540, 0.0), (2541, 0.030507409678954003), (2542, 0.0), (2543, 0.0), (2544, 0.0), (2545, 0.0), (2546, 0.03338046945796975), (2547, 0.0), (2548, 0.0), (2549, 0.0), (2550, 0.0), (2551, 0.0), (2552, 0.0), (2553, 0.0), (2554, 0.0), (2555, 0.0), (2556, 0.0), (2557, 0.0), (2558, 0.0), (2559, 0.0), (2560, 0.0), (2561, 0.0), (2562, 0.04343821959439253), (2563, 0.0), (2564, 0.0), (2565, 0.019322110796154875), (2566, 0.0), (2567, 0.0), (2568, 0.0), (2569, 0.0), (2570, 0.0), (2571, 0.0163601084848851), (2572, 0.0), (2573, 0.011985068573382777), (2574, 0.0), (2575, 0.0), (2576, 0.03791364478381124), (2577, 0.0), (2578, 0.0), (2579, 0.0), (2580, 0.014942405305531694), (2581, 0.0), (2582, 0.0), (2583, 0.014653175193599488), (2584, 0.015482963147369185), (2585, 0.0), (2586, 0.014759335030100702), (2587, 0.0), (2588, 0.0), (2589, 0.0), (2590, 0.0), (2591, 0.025478638638148983), (2592, 0.025272434841135758), (2593, 0.0), (2594, 0.0), (2595, 0.0), (2596, 0.0), (2597, 0.0), (2598, 0.0), (2599, 0.0), (2600, 0.0), (2601, 0.0), (2602, 0.0), (2603, 0.07253264419325257), (2604, 0.0), (2605, 0.0), (2606, 0.0), (2607, 0.0), (2608, 0.0), (2609, 0.0), (2610, 0.0), (2611, 0.016666523761176746), (2612, 0.03051082477150095), (2613, 0.037922341244466785), (2614, 0.0), (2615, 0.0), (2616, 0.0), (2617, 0.03390359787058152), (2618, 0.0), (2619, 0.027493465445652118), (2620, 0.0), (2621, 0.019679317721075007), (2622, 0.02842700163680834), (2623, 0.0), (2624, 0.0), (2625, 0.0), (2626, 0.0), (2627, 0.0), (2628, 0.0), (2629, 0.0), (2630, 0.0), (2631, 0.0), (2632, 0.0), (2633, 0.014943628255928152), (2634, 0.0), (2635, 0.0), (2636, 0.012605547706333457), (2637, 0.0), (2638, 0.0), (2639, 0.0), (2640, 0.0), (2641, 0.0), (2642, 0.0), (2643, 0.0), (2644, 0.0), (2645, 0.0), (2646, 0.011561607497816302), (2647, 0.0), (2648, 0.036290241346463754), (2649, 0.0), (2650, 0.017425806476030366), (2651, 0.0), (2652, 0.0), (2653, 0.028921725062993186), (2654, 0.0), (2655, 0.0), (2656, 0.0), (2657, 0.0), (2658, 0.0), (2659, 0.0), (2660, 0.02685371266568285), (2661, 0.017145942100423167), (2662, 0.0), (2663, 0.0), (2664, 0.0), (2665, 0.0), (2666, 0.0), (2667, 0.0), (2668, 0.0), (2669, 0.0), (2670, 0.0), (2671, 0.012896365276676005), (2672, 0.0), (2673, 0.0), (2674, 0.0), (2675, 0.017780361779317615), (2676, 0.0), (2677, 0.03820779783214796), (2678, 0.0), (2679, 0.022009158057599353), (2680, 0.0), (2681, 0.0), (2682, 0.0), (2683, 0.0), (2684, 0.0), (2685, 0.0), (2686, 0.0), (2687, 0.0), (2688, 0.0), (2689, 0.0), (2690, 0.0), (2691, 0.0), (2692, 0.0), (2693, 0.0), (2694, 0.0), (2695, 0.0), (2696, 0.016853359811855578), (2697, 0.0), (2698, 0.0), (2699, 0.038497943132635506), (2700, 0.0), (2701, 0.0), (2702, 0.0), (2703, 0.0), (2704, 0.080766315972016), (2705, 0.0), (2706, 0.016899625943883466), (2707, 0.0), (2708, 0.0), (2709, 0.0), (2710, 0.0), (2711, 0.03179588800619096), (2712, 0.0), (2713, 0.01885875780883763), (2714, 0.0), (2715, 0.0), (2716, 0.0), (2717, 0.0), (2718, 0.020945452340426777), (2719, 0.0), (2720, 0.057807975545421025), (2721, 0.0), (2722, 0.0), (2723, 0.0), (2724, 0.0), (2725, 0.0), (2726, 0.0), (2727, 0.0), (2728, 0.055298051680064284), (2729, 0.0), (2730, 0.0), (2731, 0.0), (2732, 0.0), (2733, 0.0), (2734, 0.013551372360252051), (2735, 0.0), (2736, 0.0), (2737, 0.0), (2738, 0.0), (2739, 0.0), (2740, 0.0), (2741, 0.0), (2742, 0.04541520973957469), (2743, 0.0), (2744, 0.0), (2745, 0.0), (2746, 0.0), (2747, 0.0), (2748, 0.0), (2749, 0.014969712527132646), (2750, 0.0), (2751, 0.026980619047777432), (2752, 0.0), (2753, 0.06451659072832944), (2754, 0.0), (2755, 0.0), (2756, 0.01975543003652189), (2757, 0.0), (2758, 0.03191935144521609), (2759, 0.015161733850969817), (2760, 0.026237173986844747), (2761, 0.056575008721095055), (2762, 0.02488050562485281), (2763, 0.0), (2764, 0.0), (2765, 0.0), (2766, 0.022871989086201822), (2767, 0.0), (2768, 0.04101347336254851), (2769, 0.0), (2770, 0.0), (2771, 0.0), (2772, 0.0), (2773, 0.017934315625269297), (2774, 0.0), (2775, 0.0), (2776, 0.0), (2777, 0.01625602627714509), (2778, 0.0), (2779, 0.01808442640937846), (2780, 0.0), (2781, 0.04799827916926473), (2782, 0.03587738046533502), (2783, 0.0), (2784, 0.04466712303462098), (2785, 0.04843063515075448), (2786, 0.0), (2787, 0.0), (2788, 0.0), (2789, 0.0), (2790, 0.01772257682860047), (2791, 0.0), (2792, 0.0), (2793, 0.014424545297881352), (2794, 0.0), (2795, 0.0), (2796, 0.0), (2797, 0.0), (2798, 0.01760850085811773), (2799, 0.03603584849385707), (2800, 0.0), (2801, 0.0), (2802, 0.0), (2803, 0.0), (2804, 0.0), (2805, 0.0), (2806, 0.0), (2807, 0.0717763149850327), (2808, 0.016575061878318528), (2809, 0.0), (2810, 0.0), (2811, 0.0), (2812, 0.0306035720689995), (2813, 0.0), (2814, 0.03086565272261807), (2815, 0.0), (2816, 0.0), (2817, 0.017818091997776307), (2818, 0.0), (2819, 0.0), (2820, 0.0), (2821, 0.0), (2822, 0.014653369461631505), (2823, 0.0), (2824, 0.0), (2825, 0.0), (2826, 0.0), (2827, 0.0), (2828, 0.0), (2829, 0.0), (2830, 0.0), (2831, 0.0), (2832, 0.0), (2833, 0.020440922595841512), (2834, 0.0), (2835, 0.0), (2836, 0.0), (2837, 0.0), (2838, 0.0), (2839, 0.0), (2840, 0.0), (2841, 0.04807177670474437), (2842, 0.01443574250506847), (2843, 0.0), (2844, 0.04700029662369298), (2845, 0.015202038520780031), (2846, 0.0), (2847, 0.0), (2848, 0.0), (2849, 0.0), (2850, 0.0), (2851, 0.04701889154719659), (2852, 0.0), (2853, 0.023272041123018568), (2854, 0.018189505010259288), (2855, 0.0), (2856, 0.0), (2857, 0.019810799170086952), (2858, 0.0), (2859, 0.0), (2860, 0.0), (2861, 0.0), (2862, 0.0), (2863, 0.0), (2864, 0.0), (2865, 0.014070489223414922), (2866, 0.0), (2867, 0.03729344569990068), (2868, 0.0), (2869, 0.027876699451276476), (2870, 0.0), (2871, 0.0), (2872, 0.0), (2873, 0.025471841967499912), (2874, 0.0), (2875, 0.0), (2876, 0.0), (2877, 0.028503452682330357), (2878, 0.0), (2879, 0.054346744687236895), (2880, 0.0), (2881, 0.0), (2882, 0.015308190799462194), (2883, 0.0), (2884, 0.019273162484102838), (2885, 0.0), (2886, 0.0), (2887, 0.0), (2888, 0.03344764217452454), (2889, 0.0), (2890, 0.0), (2891, 0.0), (2892, 0.03320706549207586), (2893, 0.0), (2894, 0.0), (2895, 0.0), (2896, 0.0), (2897, 0.013926491263678002), (2898, 0.0), (2899, 0.0), (2900, 0.0), (2901, 0.0), (2902, 0.0), (2903, 0.02052555509264608), (2904, 0.0), (2905, 0.0), (2906, 0.0), (2907, 0.0), (2908, 0.0), (2909, 0.0), (2910, 0.03217022009189689), (2911, 0.0), (2912, 0.0), (2913, 0.0), (2914, 0.0), (2915, 0.0), (2916, 0.0), (2917, 0.0), (2918, 0.0), (2919, 0.0), (2920, 0.0), (2921, 0.01865390836477204), (2922, 0.0), (2923, 0.04953811519778641), (2924, 0.0), (2925, 0.0), (2926, 0.0), (2927, 0.0), (2928, 0.0), (2929, 0.01511529510512291), (2930, 0.0), (2931, 0.030543792055157806), (2932, 0.0), (2933, 0.014805454218916707), (2934, 0.0), (2935, 0.0), (2936, 0.0), (2937, 0.0), (2938, 0.0), (2939, 0.0), (2940, 0.0), (2941, 0.0), (2942, 0.0), (2943, 0.0), (2944, 0.0), (2945, 0.0), (2946, 0.0), (2947, 0.0), (2948, 0.0), (2949, 0.0), (2950, 0.0), (2951, 0.015362515647628559), (2952, 0.020565986856517626), (2953, 0.0), (2954, 0.013410767716613734), (2955, 0.0), (2956, 0.0), (2957, 0.044324451500014975), (2958, 0.0), (2959, 0.0), (2960, 0.0), (2961, 0.0), (2962, 0.0), (2963, 0.037300837233937685), (2964, 0.0), (2965, 0.016464287017936455), (2966, 0.0), (2967, 0.0), (2968, 0.0), (2969, 0.0), (2970, 0.0), (2971, 0.0), (2972, 0.0), (2973, 0.0), (2974, 0.0), (2975, 0.014781032704932575), (2976, 0.0), (2977, 0.0), (2978, 0.0), (2979, 0.0), (2980, 0.0), (2981, 0.029415379370812858), (2982, 0.035053814451514946), (2983, 0.0), (2984, 0.0), (2985, 0.014138612824714306), (2986, 0.0), (2987, 0.0), (2988, 0.03514753131453888), (2989, 0.0), (2990, 0.0), (2991, 0.0), (2992, 0.01739926649621093), (2993, 0.0), (2994, 0.036417873125030926), (2995, 0.0), (2996, 0.0), (2997, 0.0), (2998, 0.0), (2999, 0.0), (3000, 0.0), (3001, 0.0186718083190971), (3002, 0.0), (3003, 0.016134886749137545), (3004, 0.0), (3005, 0.0), (3006, 0.0), (3007, 0.0), (3008, 0.0), (3009, 0.0), (3010, 0.0), (3011, 0.016245930722087534), (3012, 0.0), (3013, 0.0), (3014, 0.0), (3015, 0.0), (3016, 0.0), (3017, 0.0), (3018, 0.016859244111185844), (3019, 0.0), (3020, 0.0), (3021, 0.0), (3022, 0.0), (3023, 0.0), (3024, 0.01978083657614826), (3025, 0.0), (3026, 0.0), (3027, 0.02635312635080002), (3028, 0.0), (3029, 0.0), (3030, 0.0), (3031, 0.0), (3032, 0.0), (3033, 0.0), (3034, 0.0), (3035, 0.0), (3036, 0.0), (3037, 0.0), (3038, 0.0), (3039, 0.0), (3040, 0.0), (3041, 0.0), (3042, 0.0), (3043, 0.0), (3044, 0.0), (3045, 0.0), (3046, 0.0), (3047, 0.018005493775620593), (3048, 0.0), (3049, 0.0), (3050, 0.0), (3051, 0.0), (3052, 0.0), (3053, 0.0), (3054, 0.0), (3055, 0.0), (3056, 0.028711071903396737), (3057, 0.0), (3058, 0.0), (3059, 0.0), (3060, 1.0000000000000002), (3061, 0.0), (3062, 0.0), (3063, 0.030001015032156405), (3064, 0.0), (3065, 0.0), (3066, 0.0), (3067, 0.0), (3068, 0.05042208539413788), (3069, 0.0), (3070, 0.0), (3071, 0.0311990699160567), (3072, 0.0), (3073, 0.0), (3074, 0.0), (3075, 0.0), (3076, 0.0), (3077, 0.021842133833708137), (3078, 0.0), (3079, 0.0), (3080, 0.0), (3081, 0.0), (3082, 0.042608187196603975), (3083, 0.013681608293684493), (3084, 0.0), (3085, 0.0), (3086, 0.017704025108149765), (3087, 0.0), (3088, 0.0), (3089, 0.036154689545198807), (3090, 0.016656155969580345), (3091, 0.0), (3092, 0.02570280269396487), (3093, 0.0), (3094, 0.0), (3095, 0.0), (3096, 0.03645693413875643), (3097, 0.0), (3098, 0.02078410570154621), (3099, 0.015389681042871015), (3100, 0.0), (3101, 0.0), (3102, 0.0), (3103, 0.0), (3104, 0.0), (3105, 0.0), (3106, 0.0), (3107, 0.0), (3108, 0.0), (3109, 0.01840829979783187), (3110, 0.0446534956782727), (3111, 0.0), (3112, 0.0), (3113, 0.0), (3114, 0.0), (3115, 0.0), (3116, 0.0), (3117, 0.04454367331369709), (3118, 0.0), (3119, 0.0), (3120, 0.0), (3121, 0.016286899481622378), (3122, 0.0), (3123, 0.0), (3124, 0.0708448376730682), (3125, 0.0), (3126, 0.0), (3127, 0.0267876655251745), (3128, 0.0), (3129, 0.012354775589615778), (3130, 0.0), (3131, 0.0), (3132, 0.0), (3133, 0.04657700170962202), (3134, 0.0), (3135, 0.0), (3136, 0.0), (3137, 0.0), (3138, 0.0), (3139, 0.0), (3140, 0.0), (3141, 0.0), (3142, 0.022501689158139215), (3143, 0.0), (3144, 0.013225423503133027), (3145, 0.0), (3146, 0.0), (3147, 0.015623435008485974), (3148, 0.0), (3149, 0.038165378235912775), (3150, 0.0), (3151, 0.0), (3152, 0.0), (3153, 0.017386662948196303), (3154, 0.0), (3155, 0.0), (3156, 0.0), (3157, 0.0), (3158, 0.0), (3159, 0.0), (3160, 0.0), (3161, 0.0), (3162, 0.0), (3163, 0.0), (3164, 0.0), (3165, 0.0), (3166, 0.0), (3167, 0.03584767124021699), (3168, 0.0), (3169, 0.0), (3170, 0.0), (3171, 0.0), (3172, 0.0), (3173, 0.014511547717664075), (3174, 0.0), (3175, 0.0), (3176, 0.0), (3177, 0.0), (3178, 0.0), (3179, 0.023263506510121938), (3180, 0.015565286450601479), (3181, 0.07688163944246282), (3182, 0.0), (3183, 0.0), (3184, 0.0), (3185, 0.0), (3186, 0.0), (3187, 0.0), (3188, 0.016903567499148342), (3189, 0.01780784098764641), (3190, 0.036770629872865064), (3191, 0.0), (3192, 0.0), (3193, 0.0), (3194, 0.0), (3195, 0.02822658027557614), (3196, 0.0), (3197, 0.0), (3198, 0.0), (3199, 0.013350955134741596), (3200, 0.0), (3201, 0.0), (3202, 0.0), (3203, 0.04353659097087785), (3204, 0.0), (3205, 0.0), (3206, 0.0), (3207, 0.0), (3208, 0.017768984067450377), (3209, 0.01737677641267808), (3210, 0.0), (3211, 0.0), (3212, 0.0), (3213, 0.036068874618470456), (3214, 0.0), (3215, 0.029135319480464328), (3216, 0.0), (3217, 0.0), (3218, 0.07819020094562232), (3219, 0.021907994892020576), (3220, 0.0), (3221, 0.0), (3222, 0.0), (3223, 0.0), (3224, 0.0), (3225, 0.023992514779704297), (3226, 0.021596686085716632), (3227, 0.0), (3228, 0.02137134134095838), (3229, 0.0), (3230, 0.0), (3231, 0.012922032640254752), (3232, 0.01589922306439633), (3233, 0.0), (3234, 0.0), (3235, 0.0), (3236, 0.0), (3237, 0.016628101194991557), (3238, 0.0), (3239, 0.0), (3240, 0.0), (3241, 0.0), (3242, 0.01751833150075499), (3243, 0.0), (3244, 0.028480078958923787), (3245, 0.0), (3246, 0.038196542688454585), (3247, 0.015247170830008629), (3248, 0.0), (3249, 0.0), (3250, 0.0), (3251, 0.016425455440803347), (3252, 0.0), (3253, 0.0), (3254, 0.014635591849990573), (3255, 0.0), (3256, 0.0), (3257, 0.0), (3258, 0.0), (3259, 0.017856647721921467), (3260, 0.01642729347916803), (3261, 0.0), (3262, 0.0), (3263, 0.0), (3264, 0.0), (3265, 0.0), (3266, 0.0), (3267, 0.0), (3268, 0.0), (3269, 0.01786896090863749), (3270, 0.0), (3271, 0.0), (3272, 0.017780782425663135), (3273, 0.0), (3274, 0.0), (3275, 0.0), (3276, 0.0), (3277, 0.040673749445734625), (3278, 0.0), (3279, 0.01239724407269934), (3280, 0.02162160301228936), (3281, 0.0), (3282, 0.0), (3283, 0.0), (3284, 0.0), (3285, 0.0), (3286, 0.0), (3287, 0.0), (3288, 0.018395774782727768), (3289, 0.04069491602207471), (3290, 0.0), (3291, 0.0), (3292, 0.0), (3293, 0.0), (3294, 0.031062732359197757), (3295, 0.0), (3296, 0.0), (3297, 0.06272349684904005), (3298, 0.0), (3299, 0.0), (3300, 0.01596121070330743), (3301, 0.0), (3302, 0.0), (3303, 0.06564617141188771), (3304, 0.0), (3305, 0.0), (3306, 0.013131694923724067), (3307, 0.0), (3308, 0.0), (3309, 0.0), (3310, 0.0), (3311, 0.0), (3312, 0.0), (3313, 0.0), (3314, 0.0), (3315, 0.016499878522489093), (3316, 0.04785659066131967), (3317, 0.0), (3318, 0.15218877971326214), (3319, 0.0), (3320, 0.039357422173844414), (3321, 0.017040678907402105), (3322, 0.0), (3323, 0.0), (3324, 0.0), (3325, 0.0), (3326, 0.0), (3327, 0.015027664784014247), (3328, 0.0), (3329, 0.0), (3330, 0.035576705597603994), (3331, 0.0), (3332, 0.0), (3333, 0.0), (3334, 0.0), (3335, 0.0), (3336, 0.02088630769506959), (3337, 0.0), (3338, 0.04443333231307797), (3339, 0.0), (3340, 0.0), (3341, 0.0), (3342, 0.01569172548016414), (3343, 0.0), (3344, 0.0), (3345, 0.0), (3346, 0.0), (3347, 0.0), (3348, 0.017001384738376785), (3349, 0.0), (3350, 0.0), (3351, 0.0), (3352, 0.0), (3353, 0.0), (3354, 0.0), (3355, 0.0), (3356, 0.012962069401366325), (3357, 0.0), (3358, 0.0), (3359, 0.0), (3360, 0.0), (3361, 0.013314251217323445), (3362, 0.0), (3363, 0.021682334005977855), (3364, 0.04722745732603819), (3365, 0.0), (3366, 0.0), (3367, 0.0), (3368, 0.0), (3369, 0.0), (3370, 0.01577822523589927), (3371, 0.0), (3372, 0.0), (3373, 0.0), (3374, 0.03046914549719319), (3375, 0.0), (3376, 0.0), (3377, 0.0), (3378, 0.0), (3379, 0.0), (3380, 0.0), (3381, 0.022211240666018078), (3382, 0.0), (3383, 0.0), (3384, 0.0), (3385, 0.025864010758730134), (3386, 0.0), (3387, 0.0), (3388, 0.01749197222638407), (3389, 0.0), (3390, 0.0163464312413386), (3391, 0.035221224325614246), (3392, 0.0346326866913861), (3393, 0.01263095940803027), (3394, 0.0), (3395, 0.0), (3396, 0.0), (3397, 0.0), (3398, 0.0), (3399, 0.0), (3400, 0.0), (3401, 0.035336628959249286), (3402, 0.0), (3403, 0.0), (3404, 0.0), (3405, 0.023969154143422756), (3406, 0.0), (3407, 0.013815118818810828), (3408, 0.01575416361274596), (3409, 0.0), (3410, 0.0), (3411, 0.03459719132190604), (3412, 0.0), (3413, 0.0), (3414, 0.0), (3415, 0.0), (3416, 0.0), (3417, 0.0), (3418, 0.0), (3419, 0.0), (3420, 0.0), (3421, 0.012152908422557887), (3422, 0.0), (3423, 0.0), (3424, 0.0), (3425, 0.01624207679634739), (3426, 0.0), (3427, 0.016870857918235414), (3428, 0.0), (3429, 0.0), (3430, 0.0), (3431, 0.0), (3432, 0.0), (3433, 0.0), (3434, 0.0), (3435, 0.0), (3436, 0.0), (3437, 0.019596830886083817), (3438, 0.0), (3439, 0.029357458285781853), (3440, 0.0), (3441, 0.0), (3442, 0.0), (3443, 0.0), (3444, 0.0), (3445, 0.018588257146345166), (3446, 0.06774530446182267), (3447, 0.0), (3448, 0.0), (3449, 0.0), (3450, 0.0), (3451, 0.0), (3452, 0.0), (3453, 0.0), (3454, 0.02274237028456332), (3455, 0.0), (3456, 0.01158520894496736), (3457, 0.014993247436937812), (3458, 0.02920335170940461), (3459, 0.030102877142716436), (3460, 0.0), (3461, 0.0), (3462, 0.0), (3463, 0.0), (3464, 0.0), (3465, 0.0), (3466, 0.013382528339958098), (3467, 0.0), (3468, 0.0), (3469, 0.03725649943868006), (3470, 0.0), (3471, 0.0), (3472, 0.0), (3473, 0.0), (3474, 0.020779307632264536), (3475, 0.0), (3476, 0.0), (3477, 0.05352536837625568), (3478, 0.0), (3479, 0.0), (3480, 0.0), (3481, 0.0), (3482, 0.07609295749227651), (3483, 0.0), (3484, 0.015101915290963172), (3485, 0.12082221336182387), (3486, 0.0), (3487, 0.0), (3488, 0.0), (3489, 0.0), (3490, 0.0), (3491, 0.0), (3492, 0.0), (3493, 0.0), (3494, 0.0), (3495, 0.013126976050676413), (3496, 0.0), (3497, 0.01908189681905934), (3498, 0.02242262079366163), (3499, 0.0), (3500, 0.0), (3501, 0.0), (3502, 0.08064705170969294), (3503, 0.02175420349227724), (3504, 0.0), (3505, 0.0), (3506, 0.01901946055968981), (3507, 0.024441092130778504), (3508, 0.0), (3509, 0.0), (3510, 0.024376958730084407), (3511, 0.0), (3512, 0.0), (3513, 0.0), (3514, 0.0), (3515, 0.0), (3516, 0.017332178113955866), (3517, 0.0), (3518, 0.0), (3519, 0.0), (3520, 0.018347942040004506), (3521, 0.0), (3522, 0.0), (3523, 0.0), (3524, 0.0), (3525, 0.04485800837825017), (3526, 0.0), (3527, 0.0), (3528, 0.0), (3529, 0.0), (3530, 0.0), (3531, 0.014134992874629061), (3532, 0.0), (3533, 0.029598530283896373), (3534, 0.0), (3535, 0.0), (3536, 0.0), (3537, 0.02925502262595074), (3538, 0.0), (3539, 0.023753161020176543), (3540, 0.0), (3541, 0.0), (3542, 0.0), (3543, 0.0), (3544, 0.0), (3545, 0.0), (3546, 0.0), (3547, 0.0), (3548, 0.012303848197243119), (3549, 0.06939518670867714), (3550, 0.0), (3551, 0.0), (3552, 0.0), (3553, 0.0), (3554, 0.0), (3555, 0.0), (3556, 0.0), (3557, 0.014122356323240402), (3558, 0.0), (3559, 0.04024445245016837), (3560, 0.0), (3561, 0.030693709998231643), (3562, 0.0), (3563, 0.05287594546514863), (3564, 0.01723202994702853), (3565, 0.0), (3566, 0.0), (3567, 0.0), (3568, 0.0), (3569, 0.0), (3570, 0.0), (3571, 0.0), (3572, 0.12503228509893938), (3573, 0.0), (3574, 0.0), (3575, 0.0), (3576, 0.0), (3577, 0.027800745847093414), (3578, 0.017523391421036004), (3579, 0.015077021265454148), (3580, 0.023061192701129322), (3581, 0.0), (3582, 0.0), (3583, 0.0), (3584, 0.0), (3585, 0.0), (3586, 0.0), (3587, 0.0), (3588, 0.0), (3589, 0.0), (3590, 0.0), (3591, 0.0), (3592, 0.0), (3593, 0.015579946060494666), (3594, 0.049189658351213646), (3595, 0.0), (3596, 0.0421903422392811), (3597, 0.0), (3598, 0.0), (3599, 0.0), (3600, 0.0), (3601, 0.0), (3602, 0.0), (3603, 0.0), (3604, 0.0), (3605, 0.0), (3606, 0.018195859023244977), (3607, 0.0), (3608, 0.0), (3609, 0.0), (3610, 0.019726869750889525), (3611, 0.0804492427957269), (3612, 0.0), (3613, 0.0), (3614, 0.0), (3615, 0.0), (3616, 0.016603418991722813), (3617, 0.0), (3618, 0.0), (3619, 0.0447591974921787), (3620, 0.0), (3621, 0.0), (3622, 0.0), (3623, 0.0), (3624, 0.0), (3625, 0.0), (3626, 0.026220217137011687), (3627, 0.0), (3628, 0.0), (3629, 0.0), (3630, 0.0), (3631, 0.0), (3632, 0.018648885751598492), (3633, 0.021962570197249846), (3634, 0.0), (3635, 0.0), (3636, 0.0), (3637, 0.0), (3638, 0.0), (3639, 0.025479626521679732), (3640, 0.0), (3641, 0.0), (3642, 0.017470399733914312), (3643, 0.0), (3644, 0.0), (3645, 0.01534678526885808), (3646, 0.01612377968126202), (3647, 0.014503526745437654), (3648, 0.014790970531058751), (3649, 0.0), (3650, 0.0), (3651, 0.0), (3652, 0.0), (3653, 0.018932616028248174), (3654, 0.0), (3655, 0.03190120387609137), (3656, 0.0), (3657, 0.025132966078438585), (3658, 0.07559588124247521), (3659, 0.0), (3660, 0.0), (3661, 0.0), (3662, 0.0), (3663, 0.0), (3664, 0.0), (3665, 0.0), (3666, 0.0), (3667, 0.012905733942480183), (3668, 0.0), (3669, 0.0), (3670, 0.0), (3671, 0.0), (3672, 0.0), (3673, 0.0), (3674, 0.0), (3675, 0.0), (3676, 0.0), (3677, 0.0), (3678, 0.0), (3679, 0.0), (3680, 0.0), (3681, 0.0), (3682, 0.0), (3683, 0.03199537427954711), (3684, 0.014409202718739947), (3685, 0.016565973108158757), (3686, 0.0), (3687, 0.0), (3688, 0.0), (3689, 0.0), (3690, 0.0), (3691, 0.0), (3692, 0.0), (3693, 0.0), (3694, 0.0), (3695, 0.0), (3696, 0.0), (3697, 0.0), (3698, 0.0), (3699, 0.0), (3700, 0.0), (3701, 0.0), (3702, 0.0), (3703, 0.0), (3704, 0.0), (3705, 0.0), (3706, 0.0), (3707, 0.0), (3708, 0.03567291602591598), (3709, 0.0), (3710, 0.0), (3711, 0.026028101061120204), (3712, 0.0), (3713, 0.0), (3714, 0.0), (3715, 0.0), (3716, 0.0), (3717, 0.0), (3718, 0.028866924667929936), (3719, 0.0), (3720, 0.0), (3721, 0.0), (3722, 0.014737901442543519), (3723, 0.0), (3724, 0.0), (3725, 0.0), (3726, 0.030045244741168455), (3727, 0.0), (3728, 0.0), (3729, 0.0), (3730, 0.01562776017963433), (3731, 0.01998541668688526), (3732, 0.0160058852133392), (3733, 0.0), (3734, 0.0), (3735, 0.0), (3736, 0.05144512459125692), (3737, 0.0), (3738, 0.0), (3739, 0.03475897422916244), (3740, 0.0), (3741, 0.021984230672577487), (3742, 0.0), (3743, 0.0), (3744, 0.0), (3745, 0.0), (3746, 0.0), (3747, 0.0), (3748, 0.0), (3749, 0.0), (3750, 0.012371151440244175), (3751, 0.027774582401816364), (3752, 0.0), (3753, 0.0), (3754, 0.0), (3755, 0.0), (3756, 0.0), (3757, 0.0), (3758, 0.0), (3759, 0.016388416724661996), (3760, 0.0), (3761, 0.0), (3762, 0.0), (3763, 0.0), (3764, 0.0), (3765, 0.0), (3766, 0.0), (3767, 0.0), (3768, 0.0), (3769, 0.0), (3770, 0.0), (3771, 0.0), (3772, 0.0), (3773, 0.0), (3774, 0.018303534392461924), (3775, 0.0), (3776, 0.0), (3777, 0.019376175494764163), (3778, 0.0), (3779, 0.0), (3780, 0.018231874140792966), (3781, 0.0), (3782, 0.01584692634056613), (3783, 0.0), (3784, 0.0), (3785, 0.0), (3786, 0.0), (3787, 0.0353116721915434), (3788, 0.0), (3789, 0.0), (3790, 0.066249592281331), (3791, 0.0), (3792, 0.017010726140453902), (3793, 0.0), (3794, 0.0), (3795, 0.036023602973769206), (3796, 0.0), (3797, 0.025239802640411334), (3798, 0.0), (3799, 0.0), (3800, 0.0), (3801, 0.0), (3802, 0.0), (3803, 0.0), (3804, 0.0), (3805, 0.0), (3806, 0.0), (3807, 0.016982607088592835), (3808, 0.0), (3809, 0.0), (3810, 0.0), (3811, 0.0), (3812, 0.04286131524841382), (3813, 0.018078006167565833), (3814, 0.0), (3815, 0.0), (3816, 0.0), (3817, 0.0), (3818, 0.0), (3819, 0.016279508781866115), (3820, 0.0), (3821, 0.0), (3822, 0.0), (3823, 0.0), (3824, 0.0), (3825, 0.0), (3826, 0.0), (3827, 0.0), (3828, 0.0), (3829, 0.0), (3830, 0.017246319375495287), (3831, 0.0), (3832, 0.0), (3833, 0.0), (3834, 0.0), (3835, 0.0), (3836, 0.0), (3837, 0.08076172356366512), (3838, 0.0), (3839, 0.0), (3840, 0.0), (3841, 0.0), (3842, 0.0), (3843, 0.0), (3844, 0.0), (3845, 0.05723199917419518), (3846, 0.01594958275949172), (3847, 0.0), (3848, 0.0), (3849, 0.01738928979385447), (3850, 0.0), (3851, 0.0), (3852, 0.04901928563632216), (3853, 0.02668837560014772), (3854, 0.0), (3855, 0.014210065016954708), (3856, 0.0), (3857, 0.0), (3858, 0.015880131277372922), (3859, 0.0), (3860, 0.03928625894575096), (3861, 0.0), (3862, 0.0), (3863, 0.03840643625175828), (3864, 0.013577608294345178), (3865, 0.01310200763214164), (3866, 0.043398681411683314), (3867, 0.02509058313144561), (3868, 0.03284375121121868), (3869, 0.0), (3870, 0.07299563237296514), (3871, 0.0), (3872, 0.0), (3873, 0.0), (3874, 0.0), (3875, 0.0), (3876, 0.016641824398167585), (3877, 0.0), (3878, 0.0), (3879, 0.0), (3880, 0.0), (3881, 0.0), (3882, 0.0), (3883, 0.0), (3884, 0.0), (3885, 0.0), (3886, 0.022042691832382645), (3887, 0.0), (3888, 0.0), (3889, 0.015275822412989273), (3890, 0.0), (3891, 0.02702127849761649), (3892, 0.0), (3893, 0.0), (3894, 0.0), (3895, 0.0), (3896, 0.0), (3897, 0.0), (3898, 0.0), (3899, 0.0), (3900, 0.0), (3901, 0.0), (3902, 0.0), (3903, 0.026172738921321402), (3904, 0.0), (3905, 0.0), (3906, 0.0), (3907, 0.0), (3908, 0.0), (3909, 0.0), (3910, 0.0), (3911, 0.0), (3912, 0.016350534069890052), (3913, 0.025972759637201623), (3914, 0.012673152713266744), (3915, 0.0), (3916, 0.012009980557534279), (3917, 0.0), (3918, 0.0), (3919, 0.0), (3920, 0.03535817046694383), (3921, 0.0), (3922, 0.0), (3923, 0.0), (3924, 0.0), (3925, 0.0), (3926, 0.0167355751843467), (3927, 0.0), (3928, 0.0), (3929, 0.0), (3930, 0.0), (3931, 0.0), (3932, 0.0), (3933, 0.0), (3934, 0.0), (3935, 0.0), (3936, 0.03074141661727732), (3937, 0.0), (3938, 0.07121532080287105), (3939, 0.0), (3940, 0.0), (3941, 0.0), (3942, 0.0), (3943, 0.023942629032940276), (3944, 0.0), (3945, 0.0), (3946, 0.0), (3947, 0.0), (3948, 0.0), (3949, 0.0), (3950, 0.015390387300358717), (3951, 0.0), (3952, 0.0), (3953, 0.0), (3954, 0.0), (3955, 0.0), (3956, 0.0), (3957, 0.0), (3958, 0.022586992702063984), (3959, 0.0), (3960, 0.0), (3961, 0.024948666827798813), (3962, 0.0), (3963, 0.0), (3964, 0.0), (3965, 0.0), (3966, 0.016595738598628902), (3967, 0.0), (3968, 0.01908248050498918), (3969, 0.0), (3970, 0.0), (3971, 0.0), (3972, 0.0), (3973, 0.0), (3974, 0.015883711296116154), (3975, 0.0), (3976, 0.08011249055795641), (3977, 0.0), (3978, 0.0), (3979, 0.0), (3980, 0.0), (3981, 0.0), (3982, 0.02274879982825001), (3983, 0.050145836644723586), (3984, 0.0), (3985, 0.01607548497384574), (3986, 0.0), (3987, 0.0), (3988, 0.0), (3989, 0.0), (3990, 0.0), (3991, 0.0), (3992, 0.07939783991719676), (3993, 0.04222817898983123), (3994, 0.0), (3995, 0.0), (3996, 0.0), (3997, 0.0), (3998, 0.0), (3999, 0.0), (4000, 0.0), (4001, 0.07386537248470071), (4002, 0.0), (4003, 0.03250847198784709), (4004, 0.0), (4005, 0.0), (4006, 0.0), (4007, 0.0), (4008, 0.0), (4009, 0.0), (4010, 0.0), (4011, 0.016238717940389273), (4012, 0.0), (4013, 0.0), (4014, 0.0), (4015, 0.0), (4016, 0.0), (4017, 0.0), (4018, 0.03761075723982121), (4019, 0.0), (4020, 0.0), (4021, 0.0), (4022, 0.0), (4023, 0.0), (4024, 0.0), (4025, 0.0), (4026, 0.05042779134104431), (4027, 0.0), (4028, 0.0), (4029, 0.0), (4030, 0.0), (4031, 0.0), (4032, 0.0), (4033, 0.01764619003133409), (4034, 0.0), (4035, 0.08110293413494553), (4036, 0.0), (4037, 0.0), (4038, 0.0), (4039, 0.0), (4040, 0.0), (4041, 0.0), (4042, 0.0), (4043, 0.0), (4044, 0.0), (4045, 0.041502707482331216), (4046, 0.03979728030462192), (4047, 0.017735895387862785), (4048, 0.0), (4049, 0.0), (4050, 0.0), (4051, 0.016397661702606488), (4052, 0.0), (4053, 0.0), (4054, 0.0), (4055, 0.0), (4056, 0.0), (4057, 0.0), (4058, 0.0), (4059, 0.016390141566422097), (4060, 0.0), (4061, 0.02513387042588239), (4062, 0.044295626474238306), (4063, 0.0), (4064, 0.017289847927792045), (4065, 0.0), (4066, 0.0), (4067, 0.08313581056164561), (4068, 0.023447854825939442), (4069, 0.0), (4070, 0.0), (4071, 0.01763967353211494), (4072, 0.0), (4073, 0.040168838110277175), (4074, 0.020583727275685748), (4075, 0.0), (4076, 0.0), (4077, 0.0), (4078, 0.0), (4079, 0.0), (4080, 0.0), (4081, 0.0), (4082, 0.0), (4083, 0.0), (4084, 0.0), (4085, 0.021854809019976777), (4086, 0.019195392996715167), (4087, 0.0), (4088, 0.0), (4089, 0.017056953471349598), (4090, 0.01970593215449739), (4091, 0.0), (4092, 0.0), (4093, 0.0), (4094, 0.0), (4095, 0.024460329685743944), (4096, 0.0), (4097, 0.018147733516987088), (4098, 0.0), (4099, 0.0), (4100, 0.0), (4101, 0.02533652723688986), (4102, 0.0), (4103, 0.0), (4104, 0.0), (4105, 0.0), (4106, 0.0), (4107, 0.0), (4108, 0.0), (4109, 0.015147335277591137), (4110, 0.016029778344972757), (4111, 0.0), (4112, 0.0), (4113, 0.0), (4114, 0.014500021192689914), (4115, 0.0), (4116, 0.0), (4117, 0.0), (4118, 0.0), (4119, 0.0), (4120, 0.0), (4121, 0.04360375634187032), (4122, 0.028459760250417115), (4123, 0.0), (4124, 0.0), (4125, 0.015020618810582202), (4126, 0.0), (4127, 0.0), (4128, 0.017953728206124227), (4129, 0.0), (4130, 0.0), (4131, 0.0), (4132, 0.0), (4133, 0.0), (4134, 0.0), (4135, 0.0), (4136, 0.0), (4137, 0.01654602441012934), (4138, 0.0), (4139, 0.0), (4140, 0.0), (4141, 0.0), (4142, 0.0), (4143, 0.0), (4144, 0.0), (4145, 0.0), (4146, 0.0), (4147, 0.0), (4148, 0.0), (4149, 0.03906568511790154), (4150, 0.0), (4151, 0.0), (4152, 0.016162652245737028), (4153, 0.0), (4154, 0.0), (4155, 0.01575568585770495), (4156, 0.0), (4157, 0.017923392258303483), (4158, 0.015896842638045403), (4159, 0.01635048623196331), (4160, 0.0), (4161, 0.06574466439509272), (4162, 0.0), (4163, 0.0), (4164, 0.0), (4165, 0.0), (4166, 0.0), (4167, 0.0), (4168, 0.0), (4169, 0.034945720175617596), (4170, 0.0), (4171, 0.03256324321060929), (4172, 0.0), (4173, 0.01786966218984993), (4174, 0.01570255195210928), (4175, 0.0), (4176, 0.0), (4177, 0.0), (4178, 0.0), (4179, 0.0), (4180, 0.0), (4181, 0.0), (4182, 0.0), (4183, 0.0), (4184, 0.0), (4185, 0.0), (4186, 0.015528677616889882), (4187, 0.043399961212162656), (4188, 0.0), (4189, 0.0), (4190, 0.0), (4191, 0.0), (4192, 0.0), (4193, 0.0), (4194, 0.0), (4195, 0.0), (4196, 0.0), (4197, 0.01634749965616813), (4198, 0.0), (4199, 0.020965457158291696), (4200, 0.0), (4201, 0.0), (4202, 0.0), (4203, 0.016256055619468558), (4204, 0.0), (4205, 0.0), (4206, 0.0), (4207, 0.06842684892954615), (4208, 0.0), (4209, 0.0), (4210, 0.0), (4211, 0.0), (4212, 0.0), (4213, 0.0), (4214, 0.0), (4215, 0.0), (4216, 0.0), (4217, 0.0), (4218, 0.016855229996240135), (4219, 0.0), (4220, 0.0), (4221, 0.0), (4222, 0.0), (4223, 0.0), (4224, 0.0), (4225, 0.0), (4226, 0.0), (4227, 0.0), (4228, 0.0), (4229, 0.0), (4230, 0.0), (4231, 0.0), (4232, 0.0), (4233, 0.0326100495936524), (4234, 0.0), (4235, 0.0), (4236, 0.01793486504171428), (4237, 0.021257177000322106), (4238, 0.0), (4239, 0.0), (4240, 0.03359241146087976), (4241, 0.0), (4242, 0.0), (4243, 0.0), (4244, 0.0), (4245, 0.0), (4246, 0.0), (4247, 0.027596695240710546), (4248, 0.0), (4249, 0.0), (4250, 0.0), (4251, 0.0), (4252, 0.038728627504405186), (4253, 0.0), (4254, 0.014283640233642106), (4255, 0.0), (4256, 0.0), (4257, 0.0), (4258, 0.13860010831785977), (4259, 0.07200873099552366), (4260, 0.0), (4261, 0.0), (4262, 0.035239412508915643), (4263, 0.0), (4264, 0.0), (4265, 0.0), (4266, 0.0), (4267, 0.0), (4268, 0.0), (4269, 0.0), (4270, 0.0), (4271, 0.023545079784118475), (4272, 0.0), (4273, 0.0), (4274, 0.01588816674455945), (4275, 0.0), (4276, 0.0), (4277, 0.015607613044355245), (4278, 0.0), (4279, 0.014074312103714962), (4280, 0.0), (4281, 0.0), (4282, 0.0), (4283, 0.0), (4284, 0.0), (4285, 0.0), (4286, 0.04264025959261677), (4287, 0.01721043013883791), (4288, 0.0), (4289, 0.0), (4290, 0.01671573678803312), (4291, 0.0), (4292, 0.0), (4293, 0.0), (4294, 0.0), (4295, 0.0), (4296, 0.0), (4297, 0.0), (4298, 0.0), (4299, 0.0), (4300, 0.019836121551007207), (4301, 0.0), (4302, 0.0), (4303, 0.0), (4304, 0.0), (4305, 0.0), (4306, 0.0), (4307, 0.0), (4308, 0.0), (4309, 0.0), (4310, 0.016560572324277108), (4311, 0.0), (4312, 0.0), (4313, 0.0), (4314, 0.0), (4315, 0.0), (4316, 0.0), (4317, 0.0), (4318, 0.0), (4319, 0.0), (4320, 0.0), (4321, 0.015804819158602046), (4322, 0.0), (4323, 0.07919217751333599), (4324, 0.015403061775881554), (4325, 0.0), (4326, 0.0), (4327, 0.0), (4328, 0.0), (4329, 0.016552738881006772), (4330, 0.0), (4331, 0.0), (4332, 0.0), (4333, 0.019575531956386647), (4334, 0.01469214618009644), (4335, 0.0), (4336, 0.0), (4337, 0.0), (4338, 0.015330541597925209), (4339, 0.0), (4340, 0.019264465947526618), (4341, 0.02737220599181024), (4342, 0.0), (4343, 0.0), (4344, 0.0), (4345, 0.0), (4346, 0.0), (4347, 0.031993827622251815), (4348, 0.0), (4349, 0.023685896621781038), (4350, 0.0), (4351, 0.0), (4352, 0.0), (4353, 0.03527165480724221), (4354, 0.0), (4355, 0.0), (4356, 0.016192317570173063), (4357, 0.0), (4358, 0.0), (4359, 0.021355348221663857), (4360, 0.01805899905692203), (4361, 0.03638074223528249), (4362, 0.0), (4363, 0.0), (4364, 0.033128606151232615), (4365, 0.0), (4366, 0.015139191087137694), (4367, 0.0), (4368, 0.0), (4369, 0.0), (4370, 0.0), (4371, 0.09585331563077645), (4372, 0.0), (4373, 0.0), (4374, 0.03755014779336355), (4375, 0.0), (4376, 0.014957361465381281), (4377, 0.0), (4378, 0.01487425862442844), (4379, 0.0), (4380, 0.0), (4381, 0.0), (4382, 0.0), (4383, 0.0), (4384, 0.0), (4385, 0.0), (4386, 0.0), (4387, 0.0), (4388, 0.016860094039080845), (4389, 0.0), (4390, 0.0), (4391, 0.0), (4392, 0.0), (4393, 0.0), (4394, 0.029681125587834263), (4395, 0.0), (4396, 0.0), (4397, 0.0), (4398, 0.0), (4399, 0.031800395074522474), (4400, 0.0), (4401, 0.0), (4402, 0.0), (4403, 0.0), (4404, 0.0), (4405, 0.013405232266171793), (4406, 0.0), (4407, 0.0212571619971652), (4408, 0.0), (4409, 0.014066749131082924), (4410, 0.0161332312416121), (4411, 0.0), (4412, 0.0), (4413, 0.0), (4414, 0.0), (4415, 0.0), (4416, 0.0), (4417, 0.0), (4418, 0.0), (4419, 0.0), (4420, 0.0), (4421, 0.0), (4422, 0.0), (4423, 0.0), (4424, 0.0), (4425, 0.0), (4426, 0.0), (4427, 0.017632893957288204), (4428, 0.0), (4429, 0.0), (4430, 0.0), (4431, 0.0), (4432, 0.0), (4433, 0.0), (4434, 0.048685648900748495), (4435, 0.0), (4436, 0.0), (4437, 0.015549503924161365), (4438, 0.01643681651816607), (4439, 0.0), (4440, 0.0), (4441, 0.0), (4442, 0.0), (4443, 0.0), (4444, 0.0), (4445, 0.043257652033668034), (4446, 0.05700548646790793), (4447, 0.01779322650238842), (4448, 0.0), (4449, 0.0), (4450, 0.0), (4451, 0.0), (4452, 0.0), (4453, 0.0), (4454, 0.0), (4455, 0.04568515392475599), (4456, 0.0), (4457, 0.0), (4458, 0.0), (4459, 0.021825441470038492), (4460, 0.018881342645005066), (4461, 0.0), (4462, 0.0), (4463, 0.0), (4464, 0.0), (4465, 0.0), (4466, 0.0), (4467, 0.0), (4468, 0.015013883797963925), (4469, 0.0), (4470, 0.0), (4471, 0.0), (4472, 0.015959952349868654), (4473, 0.015647062622776913), (4474, 0.0), (4475, 0.0), (4476, 0.02091182877365212), (4477, 0.0), (4478, 0.01958028021444195), (4479, 0.0), (4480, 0.0), (4481, 0.0), (4482, 0.0), (4483, 0.0), (4484, 0.0), (4485, 0.0), (4486, 0.0), (4487, 0.06075288299465555), (4488, 0.0), (4489, 0.0), (4490, 0.0), (4491, 0.0), (4492, 0.0), (4493, 0.0), (4494, 0.0), (4495, 0.02010021383287153), (4496, 0.0), (4497, 0.036226458412938804), (4498, 0.0), (4499, 0.0), (4500, 0.0), (4501, 0.0), (4502, 0.021528149888886964), (4503, 0.016616133934079076), (4504, 0.0), (4505, 0.0), (4506, 0.0), (4507, 0.02451363694303611), (4508, 0.0), (4509, 0.0330297502557399), (4510, 0.0), (4511, 0.0), (4512, 0.0), (4513, 0.0), (4514, 0.0), (4515, 0.018018211048224476), (4516, 0.0), (4517, 0.0), (4518, 0.0), (4519, 0.012832520578048491), (4520, 0.0), (4521, 0.0), (4522, 0.0), (4523, 0.03935898644040321), (4524, 0.01732045989535349), (4525, 0.0), (4526, 0.0), (4527, 0.0), (4528, 0.0), (4529, 0.0), (4530, 0.08897950556602786), (4531, 0.0), (4532, 0.0), (4533, 0.0), (4534, 0.02176279498983535), (4535, 0.03215541365384552), (4536, 0.022085953085982164), (4537, 0.0), (4538, 0.027246763589824044), (4539, 0.0), (4540, 0.0), (4541, 0.0), (4542, 0.016147576475511113), (4543, 0.0), (4544, 0.0), (4545, 0.0), (4546, 0.0), (4547, 0.0), (4548, 0.0), (4549, 0.0), (4550, 0.0), (4551, 0.0), (4552, 0.03465833048206023), (4553, 0.01349843921647452), (4554, 0.0), (4555, 0.0), (4556, 0.0), (4557, 0.0), (4558, 0.0), (4559, 0.0), (4560, 0.0), (4561, 0.0), (4562, 0.0), (4563, 0.0), (4564, 0.0), (4565, 0.0), (4566, 0.0), (4567, 0.0), (4568, 0.0), (4569, 0.015818969742703817), (4570, 0.0), (4571, 0.0), (4572, 0.07521018545984202), (4573, 0.0), (4574, 0.017678186076578502), (4575, 0.0), (4576, 0.013610191698402215), (4577, 0.0), (4578, 0.0), (4579, 0.0), (4580, 0.0), (4581, 0.0), (4582, 0.0), (4583, 0.02371883223586177), (4584, 0.0), (4585, 0.017654670838237685), (4586, 0.0), (4587, 0.033243840970098255), (4588, 0.0), (4589, 0.0), (4590, 0.014776070763891038), (4591, 0.013709866011039165), (4592, 0.0), (4593, 0.0), (4594, 0.0), (4595, 0.0), (4596, 0.0), (4597, 0.0), (4598, 0.033261166932665065), (4599, 0.0), (4600, 0.016221363861449144), (4601, 0.0), (4602, 0.0), (4603, 0.0), (4604, 0.0), (4605, 0.0), (4606, 0.0), (4607, 0.0), (4608, 0.0), (4609, 0.0342493822026547), (4610, 0.012080131101787508), (4611, 0.0), (4612, 0.0), (4613, 0.0), (4614, 0.0), (4615, 0.0), (4616, 0.0), (4617, 0.0), (4618, 0.0), (4619, 0.0), (4620, 0.0), (4621, 0.0), (4622, 0.0), (4623, 0.0), (4624, 0.0), (4625, 0.0), (4626, 0.0), (4627, 0.0), (4628, 0.023732619958134745), (4629, 0.024038907100445168), (4630, 0.0), (4631, 0.0), (4632, 0.0), (4633, 0.0), (4634, 0.0), (4635, 0.0), (4636, 0.0), (4637, 0.0), (4638, 0.0), (4639, 0.041958055789524426), (4640, 0.0), (4641, 0.0), (4642, 0.0), (4643, 0.0), (4644, 0.0), (4645, 0.0), (4646, 0.0), (4647, 0.0), (4648, 0.0), (4649, 0.0), (4650, 0.0), (4651, 0.0), (4652, 0.0), (4653, 0.0), (4654, 0.0), (4655, 0.13142208168529948), (4656, 0.0), (4657, 0.0), (4658, 0.0), (4659, 0.0421393874849168), (4660, 0.0), (4661, 0.0), (4662, 0.0), (4663, 0.0), (4664, 0.0), (4665, 0.014267134663767455), (4666, 0.0), (4667, 0.0), (4668, 0.0), (4669, 0.0), (4670, 0.0), (4671, 0.0), (4672, 0.0), (4673, 0.022046230930060893), (4674, 0.0), (4675, 0.0), (4676, 0.0), (4677, 0.0), (4678, 0.0), (4679, 0.015628904604798013), (4680, 0.0), (4681, 0.0), (4682, 0.0), (4683, 0.0), (4684, 0.017105426722014955), (4685, 0.0), (4686, 0.0), (4687, 0.0), (4688, 0.014257609957887545), (4689, 0.0449075986658899), (4690, 0.0), (4691, 0.0), (4692, 0.0), (4693, 0.0), (4694, 0.0), (4695, 0.0), (4696, 0.0), (4697, 0.0), (4698, 0.0), (4699, 0.025170612919904148), (4700, 0.0), (4701, 0.03263627369734508), (4702, 0.0), (4703, 0.0), (4704, 0.0), (4705, 0.0), (4706, 0.0), (4707, 0.0), (4708, 0.01693930166511849), (4709, 0.0), (4710, 0.0), (4711, 0.0), (4712, 0.0), (4713, 0.0), (4714, 0.0), (4715, 0.0), (4716, 0.0), (4717, 0.0), (4718, 0.0), (4719, 0.0), (4720, 0.0), (4721, 0.017038595519629763), (4722, 0.0), (4723, 0.0), (4724, 0.0), (4725, 0.022274771602321185), (4726, 0.0), (4727, 0.0), (4728, 0.015169896833287394), (4729, 0.0), (4730, 0.0), (4731, 0.0), (4732, 0.0), (4733, 0.0), (4734, 0.0), (4735, 0.0), (4736, 0.0), (4737, 0.0), (4738, 0.03800059242424397), (4739, 0.02756175799682021), (4740, 0.0), (4741, 0.0), (4742, 0.03128169727102617), (4743, 0.0), (4744, 0.0), (4745, 0.0), (4746, 0.0), (4747, 0.0), (4748, 0.0), (4749, 0.0), (4750, 0.0), (4751, 0.0), (4752, 0.01202256087789013), (4753, 0.0), (4754, 0.10108205177584359), (4755, 0.0), (4756, 0.03410143147023953), (4757, 0.01801342416360038), (4758, 0.0), (4759, 0.0)]\n"
          ]
        }
      ]
    },
    {
      "cell_type": "code",
      "source": [
        "len(Recommendation_Score)"
      ],
      "metadata": {
        "id": "GTn8kUPTw4AR",
        "outputId": "d37f0f7a-83aa-4eca-cba6-94e0306b4464",
        "colab": {
          "base_uri": "https://localhost:8080/"
        }
      },
      "execution_count": 33,
      "outputs": [
        {
          "output_type": "execute_result",
          "data": {
            "text/plain": [
              "4760"
            ]
          },
          "metadata": {},
          "execution_count": 33
        }
      ]
    },
    {
      "cell_type": "markdown",
      "source": [
        "**Get All Movie Sort Based on Recommendation Score wrt Favorite Movie**"
      ],
      "metadata": {
        "id": "WM-r1iZ_1hIm"
      }
    },
    {
      "cell_type": "code",
      "source": [
        "Sorted_Similar_Movies = sorted(Recommendation_Score, key=lambda x:x[1],reverse = True)\n",
        "print(Sorted_Similar_Movies)"
      ],
      "metadata": {
        "id": "3aKEQkstw4D5",
        "outputId": "02e7b662-45d6-4eff-bb17-7f99e7580205",
        "colab": {
          "base_uri": "https://localhost:8080/"
        }
      },
      "execution_count": 34,
      "outputs": [
        {
          "output_type": "stream",
          "name": "stdout",
          "text": [
            "[(3060, 1.0000000000000002), (1479, 0.16208985864121833), (3318, 0.15218877971326214), (4258, 0.13860010831785977), (4655, 0.13142208168529948), (3572, 0.12503228509893938), (3485, 0.12082221336182387), (1089, 0.10304354993844717), (4754, 0.10108205177584359), (4371, 0.09585331563077645), (2512, 0.09179325352750556), (972, 0.09163076283134458), (4530, 0.08897950556602786), (1258, 0.08793276328556188), (1243, 0.08452195017871234), (1393, 0.08367139647318295), (4067, 0.08313581056164561), (1365, 0.08302320972094278), (475, 0.0830130171362908), (414, 0.08246141234792878), (1881, 0.08156523873656264), (2339, 0.0814479168964625), (4035, 0.08110293413494553), (2704, 0.080766315972016), (3837, 0.08076172356366512), (3502, 0.08064705170969294), (3611, 0.0804492427957269), (3976, 0.08011249055795641), (385, 0.07954228506329035), (2307, 0.07953193765012073), (3992, 0.07939783991719676), (4323, 0.07919217751333599), (357, 0.07832319609409674), (3218, 0.07819020094562232), (511, 0.0770312293379625), (3181, 0.07688163944246282), (3482, 0.07609295749227651), (3658, 0.07559588124247521), (4572, 0.07521018545984202), (1662, 0.0750831516946531), (2203, 0.07487272931073861), (2436, 0.07423313480899005), (4001, 0.07386537248470071), (853, 0.07352011081145608), (261, 0.07335034182869701), (3870, 0.07299563237296514), (1897, 0.07260518066261029), (2603, 0.07253264419325257), (1296, 0.07233063104557039), (4259, 0.07200873099552366), (2807, 0.0717763149850327), (237, 0.07163352461948082), (3938, 0.07121532080287105), (2368, 0.07092200264291425), (3124, 0.0708448376730682), (2028, 0.07045372984964964), (2277, 0.06985854522643162), (2254, 0.06957138597729454), (3549, 0.06939518670867714), (2176, 0.06909998665847304), (4207, 0.06842684892954615), (3446, 0.06774530446182267), (961, 0.06653177672149323), (3790, 0.066249592281331), (460, 0.06586614630314964), (4161, 0.06574466439509272), (333, 0.0657194146366479), (3303, 0.06564617141188771), (2753, 0.06451659072832944), (1457, 0.06318417995778774), (510, 0.06299839931471064), (3297, 0.06272349684904005), (1701, 0.06211346840993194), (2073, 0.0617678055385074), (1444, 0.06111803477602241), (4487, 0.06075288299465555), (1925, 0.06067278845623575), (1204, 0.060649610631393396), (709, 0.06010882015208073), (1710, 0.05944182354186254), (2720, 0.057807975545421025), (3845, 0.05723199917419518), (4446, 0.05700548646790793), (1695, 0.05676182438933719), (2060, 0.05661527608849304), (1344, 0.056599162864371125), (2761, 0.056575008721095055), (2256, 0.05617726868098716), (1610, 0.056108370715092545), (1698, 0.055758572801600084), (2054, 0.05572162210087046), (259, 0.05534055058407339), (2728, 0.055298051680064284), (1348, 0.05519286488887758), (2194, 0.05448524092074596), (1134, 0.05442656532581312), (1319, 0.05437022363319868), (2879, 0.054346744687236895), (1629, 0.05418176216314704), (1634, 0.05401837017856527), (2453, 0.053810127239931935), (3477, 0.05352536837625568), (665, 0.05312148334297076), (2419, 0.0529271635633289), (2299, 0.0528779330056318), (3563, 0.05287594546514863), (742, 0.05256177232281807), (286, 0.05193380311312833), (655, 0.05168794885534795), (1590, 0.051600410433755656), (1381, 0.05153806213450889), (3736, 0.05144512459125692), (1336, 0.05138362150509625), (1255, 0.051373934299964646), (896, 0.0511465245587161), (2000, 0.051064668801223165), (2379, 0.0510436172485293), (1511, 0.05094811463793358), (738, 0.0509264500939), (35, 0.050739503201308794), (433, 0.050738840234118725), (1249, 0.050691397887249565), (4026, 0.05042779134104431), (3068, 0.05042208539413788), (833, 0.0502647182603577), (2185, 0.050200417861029106), (3983, 0.050145836644723586), (923, 0.050136818347700216), (2445, 0.05000354293095029), (2923, 0.04953811519778641), (405, 0.04950460695526837), (1306, 0.04950170514748172), (1254, 0.049409745127505414), (3594, 0.049189658351213646), (3852, 0.04901928563632216), (601, 0.048926030307480245), (771, 0.048870580840611806), (1379, 0.04883642656854615), (4434, 0.048685648900748495), (2785, 0.04843063515075448), (1495, 0.048201071340664065), (2841, 0.04807177670474437), (2781, 0.04799827916926473), (194, 0.04796676092256539), (3316, 0.04785659066131967), (876, 0.04780234312063044), (520, 0.04770073023446109), (3364, 0.04722745732603819), (2851, 0.04701889154719659), (2844, 0.04700029662369298), (288, 0.04683753514755801), (1820, 0.04682045893571999), (3133, 0.04657700170962202), (4455, 0.04568515392475599), (578, 0.04566873315382304), (1058, 0.04546287495308389), (2742, 0.04541520973957469), (2079, 0.0452152500599757), (2143, 0.04499504818507795), (4689, 0.0449075986658899), (3525, 0.04485800837825017), (1257, 0.04476210279770914), (3619, 0.0447591974921787), (217, 0.04473280181852121), (2784, 0.04466712303462098), (3110, 0.0446534956782727), (2269, 0.04454478987143819), (3117, 0.04454367331369709), (3338, 0.04443333231307797), (2957, 0.044324451500014975), (4062, 0.044295626474238306), (249, 0.04427088128018834), (619, 0.044091475683648615), (2271, 0.04385633407612577), (4121, 0.04360375634187032), (424, 0.043565843994763404), (3203, 0.04353659097087785), (2562, 0.04343821959439253), (4187, 0.043399961212162656), (3866, 0.043398681411683314), (192, 0.043312113641659426), (688, 0.04329581252896846), (4445, 0.043257652033668034), (1276, 0.04318634305324853), (1581, 0.04306561332018345), (1600, 0.04304508502686498), (1554, 0.04293230043949979), (1987, 0.04291014438660411), (3812, 0.04286131524841382), (2502, 0.04268368798759859), (4286, 0.04264025959261677), (3082, 0.042608187196603975), (2406, 0.04225905865235864), (3993, 0.04222817898983123), (3596, 0.0421903422392811), (956, 0.04217292792638182), (4659, 0.0421393874849168), (1003, 0.0420893742019179), (1978, 0.04207467488404737), (212, 0.041988631973362375), (330, 0.04195839559087583), (4639, 0.041958055789524426), (2424, 0.04188465627421312), (355, 0.04184923044069077), (763, 0.04169070353218671), (1229, 0.04155800401849895), (4045, 0.041502707482331216), (2006, 0.04143105748384622), (1178, 0.04138832784671342), (1873, 0.041360631173771235), (731, 0.0413073747778211), (2500, 0.041207303988143665), (2768, 0.04101347336254851), (1789, 0.0409834430560334), (1639, 0.04094052748506388), (1478, 0.04078969355676411), (3289, 0.04069491602207471), (562, 0.04069409455389246), (3277, 0.040673749445734625), (2494, 0.04066855905663144), (193, 0.04039711224573254), (1768, 0.04031948656192122), (1359, 0.04028148714476356), (3559, 0.04024445245016837), (4073, 0.040168838110277175), (51, 0.04016364047664682), (693, 0.040000529751280225), (4046, 0.03979728030462192), (1071, 0.03977697279575443), (320, 0.03965307030358704), (1191, 0.039634059494034396), (1760, 0.03963356456473153), (938, 0.039572860056901984), (2328, 0.039415463419080955), (4523, 0.03935898644040321), (3320, 0.039357422173844414), (894, 0.03934747648911284), (408, 0.03933788112266886), (535, 0.03933148989841169), (2131, 0.03929730453086233), (3860, 0.03928625894575096), (439, 0.039203746545590785), (1706, 0.03915129830728649), (2182, 0.039077408551707646), (4149, 0.03906568511790154), (1776, 0.03906050725465603), (4252, 0.038728627504405186), (1118, 0.03856604352919331), (1353, 0.03856024889940041), (73, 0.038541827072618315), (1611, 0.03853870344265867), (2699, 0.038497943132635506), (1887, 0.038453775717407115), (3863, 0.03840643625175828), (1130, 0.03834613651684726), (2031, 0.03833377193860658), (2677, 0.03820779783214796), (3246, 0.038196542688454585), (3149, 0.038165378235912775), (1086, 0.038066516830999354), (1654, 0.03802097490015141), (4738, 0.03800059242424397), (939, 0.037928911846325436), (2613, 0.037922341244466785), (2576, 0.03791364478381124), (1824, 0.0379129574550174), (155, 0.03783782939039341), (30, 0.03773542925870469), (469, 0.037668479749013), (260, 0.03764071521461097), (805, 0.037629032489524025), (4018, 0.03761075723982121), (45, 0.03759483821626558), (4374, 0.03755014779336355), (768, 0.037485120221583346), (2147, 0.03734762182616223), (906, 0.03733929198557637), (895, 0.03732126476079427), (2963, 0.037300837233937685), (2093, 0.03729592962942682), (2867, 0.03729344569990068), (3469, 0.03725649943868006), (1787, 0.03720454221985678), (1281, 0.037201238070360534), (790, 0.03712961776332176), (2531, 0.03705176200272467), (609, 0.03683590117320917), (3190, 0.036770629872865064), (180, 0.03674180891399066), (1930, 0.0367357082443132), (3096, 0.03645693413875643), (2994, 0.036417873125030926), (1154, 0.036392164802247016), (4361, 0.03638074223528249), (1351, 0.03634443453755391), (2427, 0.03633602296525208), (2648, 0.036290241346463754), (4497, 0.036226458412938804), (3089, 0.036154689545198807), (3213, 0.036068874618470456), (202, 0.03603627463753425), (2799, 0.03603584849385707), (3795, 0.036023602973769206), (2782, 0.03587738046533502), (3167, 0.03584767124021699), (410, 0.03584615197851191), (1305, 0.03569200122583567), (3708, 0.03567291602591598), (2252, 0.035581703004351733), (3330, 0.035576705597603994), (1318, 0.03547925714245241), (658, 0.03540951853343146), (3920, 0.03535817046694383), (2398, 0.03534784377481172), (1678, 0.03533823328549175), (3401, 0.035336628959249286), (3787, 0.0353116721915434), (4353, 0.03527165480724221), (1391, 0.03525380655491056), (4262, 0.035239412508915643), (3391, 0.035221224325614246), (2383, 0.035209332306606785), (781, 0.035173313665855806), (2988, 0.03514753131453888), (2982, 0.035053814451514946), (4169, 0.034945720175617596), (1636, 0.03486771505775519), (1530, 0.03486058288600356), (1562, 0.034829356199572795), (2360, 0.03481741122080094), (3739, 0.03475897422916244), (278, 0.034744963360186544), (622, 0.03474395613833552), (4552, 0.03465833048206023), (2178, 0.03464407847026693), (3392, 0.0346326866913861), (3411, 0.03459719132190604), (1362, 0.03455045666527211), (1777, 0.03446848720782439), (115, 0.03428051979778257), (4609, 0.0342493822026547), (4756, 0.03410143147023953), (2326, 0.034052544260138685), (2331, 0.03398503672912696), (2617, 0.03390359787058152), (612, 0.033774384494735604), (1240, 0.03369516807447204), (1958, 0.03367327014607711), (2319, 0.03367068672444243), (4240, 0.03359241146087976), (1780, 0.03348389533964472), (2888, 0.03344764217452454), (1396, 0.03339875284350203), (1361, 0.03339682528131766), (2546, 0.03338046945796975), (1599, 0.03336543718531164), (139, 0.03326613989087759), (4598, 0.033261166932665065), (479, 0.033254197913897166), (4587, 0.033243840970098255), (1155, 0.03320951030600295), (2892, 0.03320706549207586), (598, 0.03313740401519837), (4364, 0.033128606151232615), (1252, 0.03309455207303453), (4509, 0.0330297502557399), (700, 0.03302628498495525), (1704, 0.0328688383776857), (2216, 0.032851265940834554), (3868, 0.03284375121121868), (1377, 0.03265836934335723), (4701, 0.03263627369734508), (1767, 0.03261668024016432), (4233, 0.0326100495936524), (1646, 0.032570458605540586), (4171, 0.03256324321060929), (798, 0.03252478837454272), (4003, 0.03250847198784709), (1116, 0.032448652458847364), (273, 0.03232227194442647), (1592, 0.032311463024063), (603, 0.03229187402606837), (1234, 0.032289648904822735), (1543, 0.03221547325108025), (1324, 0.03217746114615662), (2910, 0.03217022009189689), (4535, 0.03215541365384552), (820, 0.03210154512322996), (3683, 0.03199537427954711), (4347, 0.031993827622251815), (1613, 0.0319271432184658), (2758, 0.03191935144521609), (3655, 0.03190120387609137), (801, 0.03188603228232871), (870, 0.03184010993282877), (4399, 0.031800395074522474), (2711, 0.03179588800619096), (2041, 0.0317922550566076), (1253, 0.03174651577119734), (1060, 0.03173065737871586), (1428, 0.03168563761550217), (2195, 0.03166030052495547), (2056, 0.03165631251127731), (1490, 0.031537293522411206), (2118, 0.03150058463457994), (1181, 0.03146057778867146), (1967, 0.03143729821711151), (793, 0.03133603489980851), (4742, 0.03128169727102617), (179, 0.031272199418476934), (3071, 0.0311990699160567), (1606, 0.031186133519839402), (276, 0.031163230895588843), (1705, 0.03114756711689843), (2166, 0.031083803054017086), (3294, 0.031062732359197757), (1079, 0.031041729230403402), (2287, 0.031034532431810175), (1840, 0.030971460428709734), (1879, 0.030963504405819502), (785, 0.030887243683674938), (2814, 0.03086565272261807), (563, 0.030864414336179497), (1472, 0.030749541545273894), (3936, 0.03074141661727732), (377, 0.03072817394259602), (1375, 0.03072401768703893), (1642, 0.030716673747714304), (1354, 0.0307133127470215), (423, 0.03071199203762366), (3561, 0.030693709998231643), (2812, 0.0306035720689995), (521, 0.030552118957447885), (2931, 0.030543792055157806), (2250, 0.030511768338105965), (2612, 0.03051082477150095), (2541, 0.030507409678954003), (302, 0.030474494087494697), (3374, 0.03046914549719319), (1888, 0.03046802279537904), (2047, 0.030446069882507625), (728, 0.03039717055530858), (282, 0.030352137546007334), (94, 0.03034839932700338), (2276, 0.030341907281733888), (1159, 0.03025651821917793), (1788, 0.030245296750097628), (1546, 0.030117934665318088), (3459, 0.030102877142716436), (3726, 0.030045244741168455), (2153, 0.03003912058304703), (2322, 0.03001780941832178), (114, 0.030004009773499672), (3063, 0.030001015032156405), (2070, 0.029973539501165932), (1286, 0.02987026466096786), (1401, 0.02982991120131817), (2245, 0.029717964544196236), (4394, 0.029681125587834263), (1911, 0.029632713570671636), (3533, 0.029598530283896373), (1524, 0.029480354249686137), (2981, 0.029415379370812858), (394, 0.029373706381756078), (80, 0.029364301025434893), (3439, 0.029357458285781853), (1992, 0.029354815460317932), (3537, 0.02925502262595074), (3458, 0.02920335170940461), (1818, 0.029191032512699236), (3215, 0.029135319480464328), (1062, 0.02898186608436767), (2447, 0.028957550192971686), (829, 0.02893692493647606), (2653, 0.028921725062993186), (195, 0.028870172472799407), (3718, 0.028866924667929936), (970, 0.028778694473009396), (3056, 0.028711071903396737), (1268, 0.02865647352316453), (1197, 0.02862150210990675), (1700, 0.028573116104641284), (2035, 0.028569377635741862), (2877, 0.028503452682330357), (3244, 0.028480078958923787), (4122, 0.028459760250417115), (2622, 0.02842700163680834), (726, 0.028394652399311084), (1221, 0.028384357728931213), (496, 0.028363839738470686), (1981, 0.028255709641528584), (3195, 0.02822658027557614), (2225, 0.028187275765715936), (1018, 0.028167842646542828), (1964, 0.028036107352086476), (196, 0.02800242700594624), (1, 0.027958953520346413), (2869, 0.027876699451276476), (3577, 0.027800745847093414), (3751, 0.027774582401816364), (2075, 0.027759271654568478), (4247, 0.027596695240710546), (4739, 0.02756175799682021), (1387, 0.0275588223974874), (1096, 0.02752782558221002), (2619, 0.027493465445652118), (4341, 0.02737220599181024), (422, 0.02726403775864214), (4538, 0.027246763589824044), (3891, 0.02702127849761649), (2442, 0.027007696553983572), (2751, 0.026980619047777432), (1039, 0.026922923015488695), (602, 0.026872239522345853), (2660, 0.02685371266568285), (1694, 0.026818508990984157), (3127, 0.0267876655251745), (1107, 0.026704583179112593), (3853, 0.02668837560014772), (2170, 0.026678483270399407), (3027, 0.02635312635080002), (1503, 0.02635169707677415), (2760, 0.026237173986844747), (3626, 0.026220217137011687), (2162, 0.026209625469173038), (3903, 0.026172738921321402), (1845, 0.026081947921703895), (1010, 0.026044102151767452), (3711, 0.026028101061120204), (531, 0.026027339177934372), (3913, 0.025972759637201623), (2108, 0.025940431407859052), (565, 0.025929598479193953), (1367, 0.02592386166878002), (1959, 0.02590193434594195), (3385, 0.025864010758730134), (2221, 0.025782795846259296), (187, 0.025779297932092847), (3092, 0.02570280269396487), (275, 0.025679208331097242), (597, 0.025660956119797188), (815, 0.02561327261169067), (737, 0.025586482967837918), (2022, 0.025576566161737764), (856, 0.025568758337689717), (1251, 0.025510253490203933), (823, 0.0254808458106318), (3639, 0.025479626521679732), (2591, 0.025478638638148983), (2873, 0.025471841967499912), (208, 0.025422215285821767), (2218, 0.025351868619843135), (4101, 0.02533652723688986), (1282, 0.025324377935618436), (2592, 0.025272434841135758), (3797, 0.025239802640411334), (369, 0.025231361192403757), (716, 0.025205815855508285), (4699, 0.025170612919904148), (113, 0.025157604145854946), (4061, 0.02513387042588239), (3657, 0.025132966078438585), (3867, 0.02509058313144561), (2001, 0.02506484598792563), (3961, 0.024948666827798813), (2519, 0.024912584577655925), (2762, 0.02488050562485281), (41, 0.024635087185126043), (106, 0.0245927902044962), (4507, 0.02451363694303611), (1828, 0.02449893785170408), (654, 0.024489072427587303), (4095, 0.024460329685743944), (3507, 0.024441092130778504), (3510, 0.024376958730084407), (740, 0.024356408748022577), (2085, 0.02425821225547401), (2088, 0.024203342415070925), (2067, 0.0241828950861029), (1727, 0.02415703801683135), (1506, 0.02414782548396352), (990, 0.02414042213824071), (1624, 0.02404218530065838), (4629, 0.024038907100445168), (1960, 0.02402930073533945), (1103, 0.02401135369592651), (3225, 0.023992514779704297), (1876, 0.023990399371522055), (3405, 0.023969154143422756), (1922, 0.02396891561675087), (3943, 0.023942629032940276), (606, 0.02387982529204047), (432, 0.023820265339915554), (3539, 0.023753161020176543), (4628, 0.023732619958134745), (4583, 0.02371883223586177), (4349, 0.023685896621781038), (1536, 0.023654369319064852), (4271, 0.023545079784118475), (1752, 0.02347142725010022), (4068, 0.023447854825939442), (1494, 0.023445712809747415), (1419, 0.0233712373882592), (561, 0.023364153894815942), (1517, 0.02332659725954483), (484, 0.02327538965260146), (2853, 0.023272041123018568), (3179, 0.023263506510121938), (198, 0.023257143081638832), (2290, 0.023141083477449045), (1961, 0.023105684415211478), (3580, 0.023061192701129322), (2766, 0.022871989086201822), (2064, 0.02286929411877397), (852, 0.02279103396251346), (3982, 0.02274879982825001), (3454, 0.02274237028456332), (1842, 0.02259846905949377), (3958, 0.022586992702063984), (1665, 0.02256459344510814), (263, 0.022546984049740787), (3142, 0.022501689158139215), (1360, 0.022475271158997494), (3498, 0.02242262079366163), (1785, 0.02231724895625641), (907, 0.022288108240449744), (4725, 0.022274771602321185), (3381, 0.022211240666018078), (2175, 0.022202433569065226), (2057, 0.022197954488952898), (1481, 0.02217541786209995), (1823, 0.022101219125377443), (4536, 0.022085953085982164), (1664, 0.022078038103377908), (1117, 0.022058671546309815), (4673, 0.022046230930060893), (3886, 0.022042691832382645), (1667, 0.022022272337370027), (746, 0.02201431994859446), (2275, 0.022011692322259094), (2679, 0.022009158057599353), (3741, 0.021984230672577487), (1230, 0.021964116470101606), (3633, 0.021962570197249846), (3219, 0.021907994892020576), (1973, 0.02190198054006399), (878, 0.021881254522695563), (4085, 0.021854809019976777), (540, 0.021842409546399367), (3077, 0.021842133833708137), (4459, 0.021825441470038492), (974, 0.021807816544249382), (4534, 0.02176279498983535), (3503, 0.02175420349227724), (3363, 0.021682334005977855), (3280, 0.02162160301228936), (1929, 0.021603179498684132), (1217, 0.021599851170998833), (3226, 0.021596686085716632), (1038, 0.021577609827573462), (4502, 0.021528149888886964), (15, 0.02147004532563259), (2281, 0.021387011910435405), (1173, 0.021378800276651972), (2347, 0.02137739683254049), (3228, 0.02137134134095838), (4359, 0.021355348221663857), (957, 0.021328005822353214), (1080, 0.021307684606581067), (4237, 0.021257177000322106), (4407, 0.0212571619971652), (1719, 0.02125587905836861), (291, 0.021056747971747794), (899, 0.02105264632888987), (293, 0.021026727842371737), (257, 0.02101893380521873), (4199, 0.020965457158291696), (2718, 0.020945452340426777), (1427, 0.02093550687323826), (4476, 0.02091182877365212), (3336, 0.02088630769506959), (1273, 0.02083532219365312), (3098, 0.02078410570154621), (3474, 0.020779307632264536), (207, 0.020735642344851674), (604, 0.020630433791694297), (4074, 0.020583727275685748), (2952, 0.020565986856517626), (2903, 0.02052555509264608), (2066, 0.02044130696506078), (2833, 0.020440922595841512), (1754, 0.020258914512619585), (2021, 0.0201628017124665), (4495, 0.02010021383287153), (1007, 0.02006567852099453), (3731, 0.01998541668688526), (1926, 0.01997307642928274), (4300, 0.019836121551007207), (2488, 0.01981219398489207), (2857, 0.019810799170086952), (1294, 0.019803157520535748), (3024, 0.01978083657614826), (2756, 0.01975543003652189), (992, 0.01973671353863435), (3610, 0.019726869750889525), (901, 0.019709023896492213), (4090, 0.01970593215449739), (2621, 0.019679317721075007), (2136, 0.01960930638765731), (3437, 0.019596830886083817), (4478, 0.01958028021444195), (4333, 0.019575531956386647), (2468, 0.01954287994853908), (875, 0.019539482216193425), (1728, 0.019513956362584194), (1940, 0.01950408208752509), (1691, 0.019441746371411585), (2126, 0.01939692317520236), (2188, 0.019395266454870518), (3777, 0.019376175494764163), (1205, 0.01937205308214163), (2565, 0.019322110796154875), (151, 0.01927601269374252), (2884, 0.019273162484102838), (4340, 0.019264465947526618), (1400, 0.019222635503166642), (1439, 0.019210108551190413), (4086, 0.019195392996715167), (1489, 0.019189335655183534), (2187, 0.019139278553047086), (1989, 0.019128765045866167), (3968, 0.01908248050498918), (3497, 0.01908189681905934), (580, 0.01902718197513353), (3506, 0.01901946055968981), (679, 0.01894794885371092), (3653, 0.018932616028248174), (1165, 0.018919659209758927), (2493, 0.018916292611078536), (2410, 0.018883844914021695), (4460, 0.018881342645005066), (2713, 0.01885875780883763), (1769, 0.018774301186618297), (2273, 0.018772155197154996), (1968, 0.01876636995594654), (3001, 0.0186718083190971), (2921, 0.01865390836477204), (3632, 0.018648885751598492), (3445, 0.018588257146345166), (1119, 0.01856731581742078), (730, 0.018547603260530076), (440, 0.01851363443121401), (1102, 0.018446984699027096), (459, 0.01841971956489145), (3109, 0.01840829979783187), (1262, 0.018401237158024063), (3288, 0.018395774782727768), (1923, 0.01839080739467327), (724, 0.018370125113696765), (3520, 0.018347942040004506), (2400, 0.018334965260597972), (384, 0.018316017147991217), (1378, 0.01830615765995684), (3774, 0.018303534392461924), (802, 0.018267496248224657), (2008, 0.01826691169945997), (1882, 0.018242402260377752), (628, 0.01824069445591328), (3780, 0.018231874140792966), (1663, 0.018207206954499598), (668, 0.018204480873304625), (753, 0.018202624337999504), (3606, 0.018195859023244977), (2854, 0.018189505010259288), (834, 0.018184860868820832), (1966, 0.018182196607050765), (2391, 0.0181583399984133), (4097, 0.018147733516987088), (799, 0.018126721498362326), (1059, 0.018111207880377053), (1518, 0.018106062717387437), (2375, 0.018093617113632308), (2779, 0.01808442640937846), (3813, 0.018078006167565833), (554, 0.01807387637908355), (4360, 0.01805899905692203), (2112, 0.018057648070284482), (1123, 0.018044523424706187), (485, 0.018029396641377635), (4515, 0.018018211048224476), (4757, 0.01801342416360038), (3047, 0.018005493775620593), (1537, 0.01800507924431061), (2232, 0.017988869593432915), (641, 0.017983919319621625), (1633, 0.017964528598130865), (4128, 0.017953728206124227), (4236, 0.01793486504171428), (2773, 0.017934315625269297), (1263, 0.017933674292190994), (4157, 0.017923392258303483), (1225, 0.017884234141770906), (2196, 0.017882165371929493), (4173, 0.01786966218984993), (3269, 0.01786896090863749), (3259, 0.017856647721921467), (456, 0.017831225607964234), (2817, 0.017818091997776307), (2184, 0.017815836556839243), (3189, 0.01780784098764641), (2334, 0.017804129655489005), (865, 0.017796018318290568), (4447, 0.01779322650238842), (891, 0.017787398584782663), (3272, 0.017780782425663135), (2675, 0.017780361779317615), (3208, 0.017768984067450377), (472, 0.01776342879290085), (1737, 0.017750142440861434), (1463, 0.017743860300359796), (4047, 0.017735895387862785), (1918, 0.01773287141129764), (2790, 0.01772257682860047), (3086, 0.017704025108149765), (2107, 0.01768813857548741), (4574, 0.017678186076578502), (1382, 0.017676815441606694), (4585, 0.017654670838237685), (1793, 0.017648692445154036), (4033, 0.01764619003133409), (4071, 0.01763967353211494), (4427, 0.017632893957288204), (2487, 0.01763123027807761), (1587, 0.01761713313926107), (2798, 0.01760850085811773), (987, 0.01759858775829054), (2208, 0.017583375020849595), (797, 0.017580045780451827), (336, 0.017567913131325382), (743, 0.017566770723703665), (517, 0.017564304008172618), (205, 0.01756428105578485), (131, 0.017532900366433218), (3578, 0.017523391421036004), (3242, 0.01751833150075499), (66, 0.01750316474142759), (835, 0.017502908525462223), (11, 0.017500954690173372), (3388, 0.01749197222638407), (204, 0.017478910028225735), (1902, 0.017477530656697247), (2330, 0.017472679405228828), (3642, 0.017470399733914312), (656, 0.017452828715239656), (227, 0.01745182542475687), (1877, 0.017432645957719168), (2650, 0.017425806476030366), (31, 0.017420308512336013), (2139, 0.017412631067814283), (661, 0.017412085414771183), (2992, 0.01739926649621093), (3849, 0.01738928979385447), (3153, 0.017386662948196303), (3209, 0.01737677641267808), (918, 0.017373430328333914), (908, 0.017351974290102806), (3516, 0.017332178113955866), (1402, 0.017325012021752267), (4524, 0.01732045989535349), (1122, 0.017318706041170907), (1723, 0.017308944548248), (4064, 0.017289847927792045), (2511, 0.017279627879030302), (2393, 0.01727814003891589), (1932, 0.01726473043763635), (845, 0.017248057532249242), (3830, 0.017246319375495287), (137, 0.01724470664765363), (1534, 0.017234614544955083), (809, 0.017233284211816517), (3564, 0.01723202994702853), (4287, 0.01721043013883791), (1223, 0.01718495594216335), (1335, 0.017155332447846856), (1435, 0.017149692974202987), (2661, 0.017145942100423167), (2130, 0.017136693354289672), (971, 0.017115071706295944), (1555, 0.017112786756081234), (4684, 0.017105426722014955), (946, 0.017076554824352348), (1411, 0.01706788278645297), (4089, 0.017056953471349598), (1233, 0.01704366440795507), (1461, 0.01704229251061261), (3321, 0.017040678907402105), (4721, 0.017038595519629763), (1557, 0.01703414148872396), (464, 0.01702350860766276), (2396, 0.017021489351521334), (3792, 0.017010726140453902), (270, 0.01700740063996244), (54, 0.017007219357282506), (637, 0.0170020424354838), (3348, 0.017001384738376785), (3807, 0.016982607088592835), (2449, 0.016958459129897123), (528, 0.0169568860758259), (696, 0.016947926838314954), (4708, 0.01693930166511849), (447, 0.016913648559616058), (3188, 0.016903567499148342), (2706, 0.016899625943883466), (1459, 0.01688666810724579), (556, 0.016886403406095696), (814, 0.01688259646836186), (3427, 0.016870857918235414), (4388, 0.016860094039080845), (3018, 0.016859244111185844), (4218, 0.016855229996240135), (2696, 0.016853359811855578), (1477, 0.016842954026863942), (1330, 0.016840180417198494), (1589, 0.01682969685124147), (360, 0.016826276278525242), (1915, 0.01681675000718162), (5, 0.016800861493999224), (1256, 0.01678477722761676), (2120, 0.01678091554015431), (42, 0.01677023361822213), (1783, 0.016766020408424776), (1035, 0.01674280198523212), (3926, 0.0167355751843467), (1476, 0.016722726042984717), (4290, 0.01671573678803312), (105, 0.016676313035047727), (1757, 0.016671203795530627), (36, 0.01666949591198949), (2611, 0.016666523761176746), (3090, 0.016656155969580345), (3876, 0.016641824398167585), (1857, 0.01663556457647875), (3237, 0.016628101194991557), (4503, 0.016616133934079076), (3616, 0.016603418991722813), (3966, 0.016595738598628902), (664, 0.016594332771269513), (1304, 0.016584709596786054), (2808, 0.016575061878318528), (3685, 0.016565973108158757), (321, 0.016565392061452036), (4310, 0.016560572324277108), (822, 0.01656007516810245), (322, 0.016558350694755006), (2239, 0.016558254767387273), (1561, 0.016555903617414183), (4329, 0.016552738881006772), (1867, 0.016551412340356297), (4137, 0.01654602441012934), (1095, 0.01654462350194361), (1846, 0.016530101446443686), (1891, 0.0165253236208396), (859, 0.01650889050460415), (3315, 0.016499878522489093), (2317, 0.016474983462507968), (2965, 0.016464287017936455), (1421, 0.016458252104476892), (2397, 0.016455346140871394), (451, 0.016453843106140197), (4438, 0.01643681651816607), (3260, 0.01642729347916803), (3251, 0.016425455440803347), (2279, 0.016417261790482588), (1431, 0.016414706973095022), (1026, 0.016411516439817732), (4051, 0.016397661702606488), (4059, 0.016390141566422097), (3759, 0.016388416724661996), (315, 0.016375331591941954), (1044, 0.016367208524730517), (1458, 0.01636371225194638), (2571, 0.0163601084848851), (905, 0.016356018479135117), (3912, 0.016350534069890052), (4159, 0.01635048623196331), (1725, 0.01634922404909287), (4197, 0.01634749965616813), (3390, 0.0163464312413386), (1284, 0.0163387267744808), (689, 0.016309718755290567), (662, 0.016305332653275675), (1657, 0.01629361313078813), (854, 0.01629339053891342), (1913, 0.01629150469506026), (3121, 0.016286899481622378), (1425, 0.01628123907408389), (846, 0.016280462872165842), (3819, 0.016279508781866115), (49, 0.016264340242108252), (1597, 0.01625817204535115), (4203, 0.016256055619468558), (2777, 0.01625602627714509), (3011, 0.016245930722087534), (466, 0.016245004980237794), (3425, 0.01624207679634739), (4011, 0.016238717940389273), (4600, 0.016221363861449144), (2402, 0.016221185110418267), (690, 0.016208943886815153), (69, 0.01619517035810493), (4356, 0.016192317570173063), (702, 0.01618323352548393), (2294, 0.016171350562857827), (4152, 0.016162652245737028), (1207, 0.016152102900854677), (4542, 0.016147576475511113), (1416, 0.01613987995224308), (3003, 0.016134886749137545), (4410, 0.0161332312416121), (3646, 0.01612377968126202), (713, 0.01611681616822969), (2461, 0.016101713573565126), (1084, 0.016082468273644027), (3985, 0.01607548497384574), (215, 0.016070003269219986), (1878, 0.016043556346165645), (325, 0.016040048670439646), (1673, 0.016034329395109462), (4110, 0.016029778344972757), (3732, 0.0160058852133392), (1109, 0.015968870495541767), (1744, 0.015966775054319517), (3300, 0.01596121070330743), (4472, 0.015959952349868654), (3846, 0.01594958275949172), (52, 0.01594853511324989), (2100, 0.015945552834348793), (486, 0.015930879177596245), (827, 0.015918256524366525), (1034, 0.01590657657369843), (3232, 0.01589922306439633), (4158, 0.015896842638045403), (4274, 0.01588816674455945), (3974, 0.015883711296116154), (2135, 0.01588015708994222), (3858, 0.015880131277372922), (2177, 0.015873561006805384), (2327, 0.015863360408312592), (492, 0.015858618059733383), (9, 0.01585761189293299), (3782, 0.01584692634056613), (767, 0.015822590443141354), (4569, 0.015818969742703817), (984, 0.01581817285059811), (4321, 0.015804819158602046), (1412, 0.015788037079624676), (240, 0.015784330153866474), (710, 0.01578300263663208), (3370, 0.01577822523589927), (4155, 0.01575568585770495), (659, 0.01575477115157354), (3408, 0.01575416361274596), (1895, 0.01574368819706047), (1009, 0.015742941717450543), (1061, 0.015740854093834036), (1041, 0.01573776407943317), (1682, 0.01573254162774278), (1357, 0.015722515497991498), (4174, 0.01570255195210928), (111, 0.015701589514677365), (1649, 0.01569976052599994), (3342, 0.01569172548016414), (1979, 0.015676928067042344), (1308, 0.015654636611026493), (1076, 0.01564976617233143), (4473, 0.015647062622776913), (2205, 0.01564616983314117), (1899, 0.0156405347087561), (2457, 0.0156355734573675), (4679, 0.015628904604798013), (3730, 0.01562776017963433), (3147, 0.015623435008485974), (4277, 0.015607613044355245), (1482, 0.015581248238635374), (3593, 0.015579946060494666), (3180, 0.015565286450601479), (4437, 0.015549503924161365), (338, 0.015543213530897599), (4186, 0.015528677616889882), (920, 0.015520522836266612), (2005, 0.015512160399541753), (306, 0.015507878774071476), (1714, 0.015498829695390404), (501, 0.015486891484678359), (2584, 0.015482963147369185), (1356, 0.01547008307769559), (1270, 0.015459013367506939), (1739, 0.015438771666350857), (10, 0.015438709402963253), (569, 0.015436574946288953), (324, 0.015435330739158865), (2129, 0.015414324519729223), (1157, 0.01541107798518339), (4324, 0.015403061775881554), (2163, 0.015398058423129645), (1180, 0.015397936901351102), (3950, 0.015390387300358717), (3099, 0.015389681042871015), (2043, 0.015377712225630471), (1827, 0.015375399690934715), (638, 0.015367652772623792), (2951, 0.015362515647628559), (577, 0.01536145903550498), (2315, 0.015353234813039738), (3645, 0.01534678526885808), (810, 0.015342831172796504), (1480, 0.01533486264635214), (1456, 0.015334849243037652), (4338, 0.015330541597925209), (2882, 0.015308190799462194), (3889, 0.015275822412989273), (2264, 0.015255235290448463), (583, 0.01525247553947807), (3247, 0.015247170830008629), (1219, 0.015244024975946926), (1384, 0.015229995366511512), (2016, 0.01522656365109494), (1333, 0.015223410011417362), (363, 0.015216671819756054), (2845, 0.015202038520780031), (981, 0.015181394161095863), (4728, 0.015169896833287394), (2759, 0.015161733850969817), (191, 0.015157906996344677), (463, 0.015150451775097292), (161, 0.015149772539904608), (4109, 0.015147335277591137), (4366, 0.015139191087137694), (630, 0.015136409579539913), (1791, 0.01513229595304372), (2007, 0.015126014406218916), (2929, 0.01511529510512291), (2274, 0.01511401310885589), (3484, 0.015101915290963172), (477, 0.01508107076814984), (3579, 0.015077021265454148), (898, 0.01507215834727318), (2240, 0.015056279481537668), (2472, 0.015043978231571078), (3327, 0.015027664784014247), (4125, 0.015020618810582202), (4468, 0.015013883797963925), (1312, 0.015007885469923559), (1764, 0.014997080565619995), (1734, 0.01499354368255144), (3457, 0.014993247436937812), (2074, 0.014982715727209363), (1186, 0.01497776893052675), (2749, 0.014969712527132646), (1971, 0.01496841325241732), (2539, 0.01496186055683951), (4376, 0.014957361465381281), (2222, 0.014945819967782287), (892, 0.014944419336066102), (317, 0.014943859929067821), (2633, 0.014943628255928152), (2580, 0.014942405305531694), (912, 0.014927737524977868), (1571, 0.014912201146388812), (1405, 0.014889379265611272), (75, 0.014889192309368221), (2352, 0.014876699393401778), (4378, 0.01487425862442844), (1745, 0.014849483484009414), (242, 0.014814374822007871), (2933, 0.014805454218916707), (3648, 0.014790970531058751), (2975, 0.014781032704932575), (445, 0.014779605787330367), (4590, 0.014776070763891038), (1850, 0.014762890134993205), (2586, 0.014759335030100702), (64, 0.014750819009573455), (3722, 0.014737901442543519), (1779, 0.014718684403686118), (640, 0.014712612613264434), (334, 0.014709744156132297), (1954, 0.014694308304244185), (4334, 0.01469214618009644), (1588, 0.0146832212731578), (2323, 0.014683181602547547), (642, 0.014677831886536222), (545, 0.014674463330928004), (1931, 0.014657430656142972), (2822, 0.014653369461631505), (2583, 0.014653175193599488), (1232, 0.014642024427645011), (733, 0.014640557800583362), (3254, 0.014635591849990573), (1492, 0.014624391412748163), (1345, 0.014623261443243631), (277, 0.014600454990892688), (712, 0.014577123167760777), (1090, 0.014573321589468866), (110, 0.014546128975620354), (1166, 0.014539308525264163), (2460, 0.014533880271845358), (3173, 0.014511547717664075), (3647, 0.014503526745437654), (4114, 0.014500021192689914), (1309, 0.014474107849779315), (2340, 0.014461808100816938), (58, 0.01445523608776978), (811, 0.01445260023340863), (2842, 0.01443574250506847), (2793, 0.014424545297881352), (3684, 0.014409202718739947), (2157, 0.014387305300923687), (1175, 0.014380513666360548), (76, 0.014377288416383574), (1993, 0.014363848889209314), (314, 0.014361042834298957), (1042, 0.014359749604282008), (2114, 0.014332346193773304), (610, 0.014331460560185335), (2534, 0.014325933641621453), (347, 0.014323755660705085), (2034, 0.014317549600073871), (2234, 0.014315395213683933), (1969, 0.014294246918068078), (4254, 0.014283640233642106), (2025, 0.014277122170762659), (4665, 0.014267134663767455), (4688, 0.014257609957887545), (2109, 0.01425015338238191), (2132, 0.014246371449175073), (1028, 0.014239928646902772), (539, 0.014230093770641682), (621, 0.014223731922693484), (1523, 0.014216156591388947), (3855, 0.014210065016954708), (1526, 0.014197535545629273), (1963, 0.014164534796234304), (1317, 0.014160239717300044), (2985, 0.014138612824714306), (3531, 0.014134992874629061), (645, 0.014127739963120972), (3557, 0.014122356323240402), (400, 0.014122029182139574), (25, 0.014121902048911119), (2408, 0.014110219755520192), (1279, 0.014100827781701283), (1300, 0.014098662941316783), (467, 0.014097594026392964), (973, 0.014084388800912081), (4279, 0.014074312103714962), (1950, 0.014073115516370152), (2865, 0.014070489223414922), (4409, 0.014066749131082924), (1696, 0.014038474858866005), (719, 0.014035232517996658), (966, 0.014024585179051165), (50, 0.014018215072237475), (1771, 0.013992912868625902), (1692, 0.013988762292805759), (1666, 0.013976008932732093), (1211, 0.01395285798367934), (349, 0.013940327561903271), (786, 0.013926998358843421), (2897, 0.013926491263678002), (651, 0.013905470874199055), (1811, 0.013901220270926594), (366, 0.013878625226984432), (568, 0.013846034700844797), (3407, 0.013815118818810828), (676, 0.013799759590449797), (1813, 0.013786528484229439), (2050, 0.013763717819329533), (1068, 0.013740608110283447), (506, 0.013723609540396042), (4591, 0.013709866011039165), (309, 0.01368678613179152), (3083, 0.013681608293684493), (1677, 0.01364689178632574), (1137, 0.013639182389193483), (4576, 0.013610191698402215), (2078, 0.01358622685527397), (3864, 0.013577608294345178), (2734, 0.013551372360252051), (953, 0.013546963716206313), (975, 0.013529190301869647), (96, 0.01350751249200329), (4553, 0.01349843921647452), (807, 0.013483037076885002), (1430, 0.01347480404000796), (2013, 0.013458329199619005), (2954, 0.013410767716613734), (359, 0.013406983979806525), (4405, 0.013405232266171793), (170, 0.013393939624704494), (3466, 0.013382528339958098), (1833, 0.013373962646365195), (3199, 0.013350955134741596), (3361, 0.013314251217323445), (294, 0.013309299359823982), (1974, 0.013278168725542603), (926, 0.01327170687133043), (3144, 0.013225423503133027), (283, 0.01316311259240575), (1914, 0.01314735884470367), (2236, 0.013136683987176212), (3306, 0.013131694923724067), (3495, 0.013126976050676413), (3865, 0.01310200763214164), (1903, 0.013057052916182867), (129, 0.013036297657115448), (1672, 0.013032110774896306), (703, 0.013026652445167035), (3356, 0.012962069401366325), (929, 0.012930537639724678), (3231, 0.012922032640254752), (3667, 0.012905733942480183), (1626, 0.012903217418696914), (2671, 0.012896365276676005), (1509, 0.012875006067644778), (1288, 0.012871237624361327), (1934, 0.012852668496858748), (4519, 0.012832520578048491), (3914, 0.012673152713266744), (1569, 0.012670110380457525), (3393, 0.01263095940803027), (2636, 0.012605547706333457), (1414, 0.012598334845524101), (1465, 0.012561510368665409), (91, 0.012531165231859119), (3279, 0.01239724407269934), (3750, 0.012371151440244175), (1559, 0.012369306152481857), (3129, 0.012354775589615778), (2, 0.012346651714877517), (1301, 0.012315378856014234), (3548, 0.012303848197243119), (542, 0.012282036286880021), (2359, 0.01224874763929383), (639, 0.012168549794722563), (862, 0.012153454570915762), (3421, 0.012152908422557887), (2526, 0.01212691783032719), (1453, 0.012117794626192436), (1743, 0.01210981723465764), (553, 0.012107053890042642), (142, 0.012090311241823953), (4610, 0.012080131101787508), (4752, 0.01202256087789013), (3916, 0.012009980557534279), (2573, 0.011985068573382777), (243, 0.011964984959042493), (1222, 0.011953355273828592), (824, 0.011841762760097053), (1919, 0.01164700004101828), (3456, 0.01158520894496736), (2646, 0.011561607497816302), (82, 0.011341589202311174), (1774, 0.011047756045438591), (787, 0.010567442571600314), (0, 0.010513335780440496), (1948, 0.01019388241117614), (108, 0.010193552505049077), (858, 0.010080064654019233), (3, 0.0), (4, 0.0), (6, 0.0), (7, 0.0), (8, 0.0), (12, 0.0), (13, 0.0), (14, 0.0), (16, 0.0), (17, 0.0), (18, 0.0), (19, 0.0), (20, 0.0), (21, 0.0), (22, 0.0), (23, 0.0), (24, 0.0), (26, 0.0), (27, 0.0), (28, 0.0), (29, 0.0), (32, 0.0), (33, 0.0), (34, 0.0), (37, 0.0), (38, 0.0), (39, 0.0), (40, 0.0), (43, 0.0), (44, 0.0), (46, 0.0), (47, 0.0), (48, 0.0), (53, 0.0), (55, 0.0), (56, 0.0), (57, 0.0), (59, 0.0), (60, 0.0), (61, 0.0), (62, 0.0), (63, 0.0), (65, 0.0), (67, 0.0), (68, 0.0), (70, 0.0), (71, 0.0), (72, 0.0), (74, 0.0), (77, 0.0), (78, 0.0), (79, 0.0), (81, 0.0), (83, 0.0), (84, 0.0), (85, 0.0), (86, 0.0), (87, 0.0), (88, 0.0), (89, 0.0), (90, 0.0), (92, 0.0), (93, 0.0), (95, 0.0), (97, 0.0), (98, 0.0), (99, 0.0), (100, 0.0), (101, 0.0), (102, 0.0), (103, 0.0), (104, 0.0), (107, 0.0), (109, 0.0), (112, 0.0), (116, 0.0), (117, 0.0), (118, 0.0), (119, 0.0), (120, 0.0), (121, 0.0), (122, 0.0), (123, 0.0), (124, 0.0), (125, 0.0), (126, 0.0), (127, 0.0), (128, 0.0), (130, 0.0), (132, 0.0), (133, 0.0), (134, 0.0), (135, 0.0), (136, 0.0), (138, 0.0), (140, 0.0), (141, 0.0), (143, 0.0), (144, 0.0), (145, 0.0), (146, 0.0), (147, 0.0), (148, 0.0), (149, 0.0), (150, 0.0), (152, 0.0), (153, 0.0), (154, 0.0), (156, 0.0), (157, 0.0), (158, 0.0), (159, 0.0), (160, 0.0), (162, 0.0), (163, 0.0), (164, 0.0), (165, 0.0), (166, 0.0), (167, 0.0), (168, 0.0), (169, 0.0), (171, 0.0), (172, 0.0), (173, 0.0), (174, 0.0), (175, 0.0), (176, 0.0), (177, 0.0), (178, 0.0), (181, 0.0), (182, 0.0), (183, 0.0), (184, 0.0), (185, 0.0), (186, 0.0), (188, 0.0), (189, 0.0), (190, 0.0), (197, 0.0), (199, 0.0), (200, 0.0), (201, 0.0), (203, 0.0), (206, 0.0), (209, 0.0), (210, 0.0), (211, 0.0), (213, 0.0), (214, 0.0), (216, 0.0), (218, 0.0), (219, 0.0), (220, 0.0), (221, 0.0), (222, 0.0), (223, 0.0), (224, 0.0), (225, 0.0), (226, 0.0), (228, 0.0), (229, 0.0), (230, 0.0), (231, 0.0), (232, 0.0), (233, 0.0), (234, 0.0), (235, 0.0), (236, 0.0), (238, 0.0), (239, 0.0), (241, 0.0), (244, 0.0), (245, 0.0), (246, 0.0), (247, 0.0), (248, 0.0), (250, 0.0), (251, 0.0), (252, 0.0), (253, 0.0), (254, 0.0), (255, 0.0), (256, 0.0), (258, 0.0), (262, 0.0), (264, 0.0), (265, 0.0), (266, 0.0), (267, 0.0), (268, 0.0), (269, 0.0), (271, 0.0), (272, 0.0), (274, 0.0), (279, 0.0), (280, 0.0), (281, 0.0), (284, 0.0), (285, 0.0), (287, 0.0), (289, 0.0), (290, 0.0), (292, 0.0), (295, 0.0), (296, 0.0), (297, 0.0), (298, 0.0), (299, 0.0), (300, 0.0), (301, 0.0), (303, 0.0), (304, 0.0), (305, 0.0), (307, 0.0), (308, 0.0), (310, 0.0), (311, 0.0), (312, 0.0), (313, 0.0), (316, 0.0), (318, 0.0), (319, 0.0), (323, 0.0), (326, 0.0), (327, 0.0), (328, 0.0), (329, 0.0), (331, 0.0), (332, 0.0), (335, 0.0), (337, 0.0), (339, 0.0), (340, 0.0), (341, 0.0), (342, 0.0), (343, 0.0), (344, 0.0), (345, 0.0), (346, 0.0), (348, 0.0), (350, 0.0), (351, 0.0), (352, 0.0), (353, 0.0), (354, 0.0), (356, 0.0), (358, 0.0), (361, 0.0), (362, 0.0), (364, 0.0), (365, 0.0), (367, 0.0), (368, 0.0), (370, 0.0), (371, 0.0), (372, 0.0), (373, 0.0), (374, 0.0), (375, 0.0), (376, 0.0), (378, 0.0), (379, 0.0), (380, 0.0), (381, 0.0), (382, 0.0), (383, 0.0), (386, 0.0), (387, 0.0), (388, 0.0), (389, 0.0), (390, 0.0), (391, 0.0), (392, 0.0), (393, 0.0), (395, 0.0), (396, 0.0), (397, 0.0), (398, 0.0), (399, 0.0), (401, 0.0), (402, 0.0), (403, 0.0), (404, 0.0), (406, 0.0), (407, 0.0), (409, 0.0), (411, 0.0), (412, 0.0), (413, 0.0), (415, 0.0), (416, 0.0), (417, 0.0), (418, 0.0), (419, 0.0), (420, 0.0), (421, 0.0), (425, 0.0), (426, 0.0), (427, 0.0), (428, 0.0), (429, 0.0), (430, 0.0), (431, 0.0), (434, 0.0), (435, 0.0), (436, 0.0), (437, 0.0), (438, 0.0), (441, 0.0), (442, 0.0), (443, 0.0), (444, 0.0), (446, 0.0), (448, 0.0), (449, 0.0), (450, 0.0), (452, 0.0), (453, 0.0), (454, 0.0), (455, 0.0), (457, 0.0), (458, 0.0), (461, 0.0), (462, 0.0), (465, 0.0), (468, 0.0), (470, 0.0), (471, 0.0), (473, 0.0), (474, 0.0), (476, 0.0), (478, 0.0), (480, 0.0), (481, 0.0), (482, 0.0), (483, 0.0), (487, 0.0), (488, 0.0), (489, 0.0), (490, 0.0), (491, 0.0), (493, 0.0), (494, 0.0), (495, 0.0), (497, 0.0), (498, 0.0), (499, 0.0), (500, 0.0), (502, 0.0), (503, 0.0), (504, 0.0), (505, 0.0), (507, 0.0), (508, 0.0), (509, 0.0), (512, 0.0), (513, 0.0), (514, 0.0), (515, 0.0), (516, 0.0), (518, 0.0), (519, 0.0), (522, 0.0), (523, 0.0), (524, 0.0), (525, 0.0), (526, 0.0), (527, 0.0), (529, 0.0), (530, 0.0), (532, 0.0), (533, 0.0), (534, 0.0), (536, 0.0), (537, 0.0), (538, 0.0), (541, 0.0), (543, 0.0), (544, 0.0), (546, 0.0), (547, 0.0), (548, 0.0), (549, 0.0), (550, 0.0), (551, 0.0), (552, 0.0), (555, 0.0), (557, 0.0), (558, 0.0), (559, 0.0), (560, 0.0), (564, 0.0), (566, 0.0), (567, 0.0), (570, 0.0), (571, 0.0), (572, 0.0), (573, 0.0), (574, 0.0), (575, 0.0), (576, 0.0), (579, 0.0), (581, 0.0), (582, 0.0), (584, 0.0), (585, 0.0), (586, 0.0), (587, 0.0), (588, 0.0), (589, 0.0), (590, 0.0), (591, 0.0), (592, 0.0), (593, 0.0), (594, 0.0), (595, 0.0), (596, 0.0), (599, 0.0), (600, 0.0), (605, 0.0), (607, 0.0), (608, 0.0), (611, 0.0), (613, 0.0), (614, 0.0), (615, 0.0), (616, 0.0), (617, 0.0), (618, 0.0), (620, 0.0), (623, 0.0), (624, 0.0), (625, 0.0), (626, 0.0), (627, 0.0), (629, 0.0), (631, 0.0), (632, 0.0), (633, 0.0), (634, 0.0), (635, 0.0), (636, 0.0), (643, 0.0), (644, 0.0), (646, 0.0), (647, 0.0), (648, 0.0), (649, 0.0), (650, 0.0), (652, 0.0), (653, 0.0), (657, 0.0), (660, 0.0), (663, 0.0), (666, 0.0), (667, 0.0), (669, 0.0), (670, 0.0), (671, 0.0), (672, 0.0), (673, 0.0), (674, 0.0), (675, 0.0), (677, 0.0), (678, 0.0), (680, 0.0), (681, 0.0), (682, 0.0), (683, 0.0), (684, 0.0), (685, 0.0), (686, 0.0), (687, 0.0), (691, 0.0), (692, 0.0), (694, 0.0), (695, 0.0), (697, 0.0), (698, 0.0), (699, 0.0), (701, 0.0), (704, 0.0), (705, 0.0), (706, 0.0), (707, 0.0), (708, 0.0), (711, 0.0), (714, 0.0), (715, 0.0), (717, 0.0), (718, 0.0), (720, 0.0), (721, 0.0), (722, 0.0), (723, 0.0), (725, 0.0), (727, 0.0), (729, 0.0), (732, 0.0), (734, 0.0), (735, 0.0), (736, 0.0), (739, 0.0), (741, 0.0), (744, 0.0), (745, 0.0), (747, 0.0), (748, 0.0), (749, 0.0), (750, 0.0), (751, 0.0), (752, 0.0), (754, 0.0), (755, 0.0), (756, 0.0), (757, 0.0), (758, 0.0), (759, 0.0), (760, 0.0), (761, 0.0), (762, 0.0), (764, 0.0), (765, 0.0), (766, 0.0), (769, 0.0), (770, 0.0), (772, 0.0), (773, 0.0), (774, 0.0), (775, 0.0), (776, 0.0), (777, 0.0), (778, 0.0), (779, 0.0), (780, 0.0), (782, 0.0), (783, 0.0), (784, 0.0), (788, 0.0), (789, 0.0), (791, 0.0), (792, 0.0), (794, 0.0), (795, 0.0), (796, 0.0), (800, 0.0), (803, 0.0), (804, 0.0), (806, 0.0), (808, 0.0), (812, 0.0), (813, 0.0), (816, 0.0), (817, 0.0), (818, 0.0), (819, 0.0), (821, 0.0), (825, 0.0), (826, 0.0), (828, 0.0), (830, 0.0), (831, 0.0), (832, 0.0), (836, 0.0), (837, 0.0), (838, 0.0), (839, 0.0), (840, 0.0), (841, 0.0), (842, 0.0), (843, 0.0), (844, 0.0), (847, 0.0), (848, 0.0), (849, 0.0), (850, 0.0), (851, 0.0), (855, 0.0), (857, 0.0), (860, 0.0), (861, 0.0), (863, 0.0), (864, 0.0), (866, 0.0), (867, 0.0), (868, 0.0), (869, 0.0), (871, 0.0), (872, 0.0), (873, 0.0), (874, 0.0), (877, 0.0), (879, 0.0), (880, 0.0), (881, 0.0), (882, 0.0), (883, 0.0), (884, 0.0), (885, 0.0), (886, 0.0), (887, 0.0), (888, 0.0), (889, 0.0), (890, 0.0), (893, 0.0), (897, 0.0), (900, 0.0), (902, 0.0), (903, 0.0), (904, 0.0), (909, 0.0), (910, 0.0), (911, 0.0), (913, 0.0), (914, 0.0), (915, 0.0), (916, 0.0), (917, 0.0), (919, 0.0), (921, 0.0), (922, 0.0), (924, 0.0), (925, 0.0), (927, 0.0), (928, 0.0), (930, 0.0), (931, 0.0), (932, 0.0), (933, 0.0), (934, 0.0), (935, 0.0), (936, 0.0), (937, 0.0), (940, 0.0), (941, 0.0), (942, 0.0), (943, 0.0), (944, 0.0), (945, 0.0), (947, 0.0), (948, 0.0), (949, 0.0), (950, 0.0), (951, 0.0), (952, 0.0), (954, 0.0), (955, 0.0), (958, 0.0), (959, 0.0), (960, 0.0), (962, 0.0), (963, 0.0), (964, 0.0), (965, 0.0), (967, 0.0), (968, 0.0), (969, 0.0), (976, 0.0), (977, 0.0), (978, 0.0), (979, 0.0), (980, 0.0), (982, 0.0), (983, 0.0), (985, 0.0), (986, 0.0), (988, 0.0), (989, 0.0), (991, 0.0), (993, 0.0), (994, 0.0), (995, 0.0), (996, 0.0), (997, 0.0), (998, 0.0), (999, 0.0), (1000, 0.0), (1001, 0.0), (1002, 0.0), (1004, 0.0), (1005, 0.0), (1006, 0.0), (1008, 0.0), (1011, 0.0), (1012, 0.0), (1013, 0.0), (1014, 0.0), (1015, 0.0), (1016, 0.0), (1017, 0.0), (1019, 0.0), (1020, 0.0), (1021, 0.0), (1022, 0.0), (1023, 0.0), (1024, 0.0), (1025, 0.0), (1027, 0.0), (1029, 0.0), (1030, 0.0), (1031, 0.0), (1032, 0.0), (1033, 0.0), (1036, 0.0), (1037, 0.0), (1040, 0.0), (1043, 0.0), (1045, 0.0), (1046, 0.0), (1047, 0.0), (1048, 0.0), (1049, 0.0), (1050, 0.0), (1051, 0.0), (1052, 0.0), (1053, 0.0), (1054, 0.0), (1055, 0.0), (1056, 0.0), (1057, 0.0), (1063, 0.0), (1064, 0.0), (1065, 0.0), (1066, 0.0), (1067, 0.0), (1069, 0.0), (1070, 0.0), (1072, 0.0), (1073, 0.0), (1074, 0.0), (1075, 0.0), (1077, 0.0), (1078, 0.0), (1081, 0.0), (1082, 0.0), (1083, 0.0), (1085, 0.0), (1087, 0.0), (1088, 0.0), (1091, 0.0), (1092, 0.0), (1093, 0.0), (1094, 0.0), (1097, 0.0), (1098, 0.0), (1099, 0.0), (1100, 0.0), (1101, 0.0), (1104, 0.0), (1105, 0.0), (1106, 0.0), (1108, 0.0), (1110, 0.0), (1111, 0.0), (1112, 0.0), (1113, 0.0), (1114, 0.0), (1115, 0.0), (1120, 0.0), (1121, 0.0), (1124, 0.0), (1125, 0.0), (1126, 0.0), (1127, 0.0), (1128, 0.0), (1129, 0.0), (1131, 0.0), (1132, 0.0), (1133, 0.0), (1135, 0.0), (1136, 0.0), (1138, 0.0), (1139, 0.0), (1140, 0.0), (1141, 0.0), (1142, 0.0), (1143, 0.0), (1144, 0.0), (1145, 0.0), (1146, 0.0), (1147, 0.0), (1148, 0.0), (1149, 0.0), (1150, 0.0), (1151, 0.0), (1152, 0.0), (1153, 0.0), (1156, 0.0), (1158, 0.0), (1160, 0.0), (1161, 0.0), (1162, 0.0), (1163, 0.0), (1164, 0.0), (1167, 0.0), (1168, 0.0), (1169, 0.0), (1170, 0.0), (1171, 0.0), (1172, 0.0), (1174, 0.0), (1176, 0.0), (1177, 0.0), (1179, 0.0), (1182, 0.0), (1183, 0.0), (1184, 0.0), (1185, 0.0), (1187, 0.0), (1188, 0.0), (1189, 0.0), (1190, 0.0), (1192, 0.0), (1193, 0.0), (1194, 0.0), (1195, 0.0), (1196, 0.0), (1198, 0.0), (1199, 0.0), (1200, 0.0), (1201, 0.0), (1202, 0.0), (1203, 0.0), (1206, 0.0), (1208, 0.0), (1209, 0.0), (1210, 0.0), (1212, 0.0), (1213, 0.0), (1214, 0.0), (1215, 0.0), (1216, 0.0), (1218, 0.0), (1220, 0.0), (1224, 0.0), (1226, 0.0), (1227, 0.0), (1228, 0.0), (1231, 0.0), (1235, 0.0), (1236, 0.0), (1237, 0.0), (1238, 0.0), (1239, 0.0), (1241, 0.0), (1242, 0.0), (1244, 0.0), (1245, 0.0), (1246, 0.0), (1247, 0.0), (1248, 0.0), (1250, 0.0), (1259, 0.0), (1260, 0.0), (1261, 0.0), (1264, 0.0), (1265, 0.0), (1266, 0.0), (1267, 0.0), (1269, 0.0), (1271, 0.0), (1272, 0.0), (1274, 0.0), (1275, 0.0), (1277, 0.0), (1278, 0.0), (1280, 0.0), (1283, 0.0), (1285, 0.0), (1287, 0.0), (1289, 0.0), (1290, 0.0), (1291, 0.0), (1292, 0.0), (1293, 0.0), (1295, 0.0), (1297, 0.0), (1298, 0.0), (1299, 0.0), (1302, 0.0), (1303, 0.0), (1307, 0.0), (1310, 0.0), (1311, 0.0), (1313, 0.0), (1314, 0.0), (1315, 0.0), (1316, 0.0), (1320, 0.0), (1321, 0.0), (1322, 0.0), (1323, 0.0), (1325, 0.0), (1326, 0.0), (1327, 0.0), (1328, 0.0), (1329, 0.0), (1331, 0.0), (1332, 0.0), (1334, 0.0), (1337, 0.0), (1338, 0.0), (1339, 0.0), (1340, 0.0), (1341, 0.0), (1342, 0.0), (1343, 0.0), (1346, 0.0), (1347, 0.0), (1349, 0.0), (1350, 0.0), (1352, 0.0), (1355, 0.0), (1358, 0.0), (1363, 0.0), (1364, 0.0), (1366, 0.0), (1368, 0.0), (1369, 0.0), (1370, 0.0), (1371, 0.0), (1372, 0.0), (1373, 0.0), (1374, 0.0), (1376, 0.0), (1380, 0.0), (1383, 0.0), (1385, 0.0), (1386, 0.0), (1388, 0.0), (1389, 0.0), (1390, 0.0), (1392, 0.0), (1394, 0.0), (1395, 0.0), (1397, 0.0), (1398, 0.0), (1399, 0.0), (1403, 0.0), (1404, 0.0), (1406, 0.0), (1407, 0.0), (1408, 0.0), (1409, 0.0), (1410, 0.0), (1413, 0.0), (1415, 0.0), (1417, 0.0), (1418, 0.0), (1420, 0.0), (1422, 0.0), (1423, 0.0), (1424, 0.0), (1426, 0.0), (1429, 0.0), (1432, 0.0), (1433, 0.0), (1434, 0.0), (1436, 0.0), (1437, 0.0), (1438, 0.0), (1440, 0.0), (1441, 0.0), (1442, 0.0), (1443, 0.0), (1445, 0.0), (1446, 0.0), (1447, 0.0), (1448, 0.0), (1449, 0.0), (1450, 0.0), (1451, 0.0), (1452, 0.0), (1454, 0.0), (1455, 0.0), (1460, 0.0), (1462, 0.0), (1464, 0.0), (1466, 0.0), (1467, 0.0), (1468, 0.0), (1469, 0.0), (1470, 0.0), (1471, 0.0), (1473, 0.0), (1474, 0.0), (1475, 0.0), (1483, 0.0), (1484, 0.0), (1485, 0.0), (1486, 0.0), (1487, 0.0), (1488, 0.0), (1491, 0.0), (1493, 0.0), (1496, 0.0), (1497, 0.0), (1498, 0.0), (1499, 0.0), (1500, 0.0), (1501, 0.0), (1502, 0.0), (1504, 0.0), (1505, 0.0), (1507, 0.0), (1508, 0.0), (1510, 0.0), (1512, 0.0), (1513, 0.0), (1514, 0.0), (1515, 0.0), (1516, 0.0), (1519, 0.0), (1520, 0.0), (1521, 0.0), (1522, 0.0), (1525, 0.0), (1527, 0.0), (1528, 0.0), (1529, 0.0), (1531, 0.0), (1532, 0.0), (1533, 0.0), (1535, 0.0), (1538, 0.0), (1539, 0.0), (1540, 0.0), (1541, 0.0), (1542, 0.0), (1544, 0.0), (1545, 0.0), (1547, 0.0), (1548, 0.0), (1549, 0.0), (1550, 0.0), (1551, 0.0), (1552, 0.0), (1553, 0.0), (1556, 0.0), (1558, 0.0), (1560, 0.0), (1563, 0.0), (1564, 0.0), (1565, 0.0), (1566, 0.0), (1567, 0.0), (1568, 0.0), (1570, 0.0), (1572, 0.0), (1573, 0.0), (1574, 0.0), (1575, 0.0), (1576, 0.0), (1577, 0.0), (1578, 0.0), (1579, 0.0), (1580, 0.0), (1582, 0.0), (1583, 0.0), (1584, 0.0), (1585, 0.0), (1586, 0.0), (1591, 0.0), (1593, 0.0), (1594, 0.0), (1595, 0.0), (1596, 0.0), (1598, 0.0), (1601, 0.0), (1602, 0.0), (1603, 0.0), (1604, 0.0), (1605, 0.0), (1607, 0.0), (1608, 0.0), (1609, 0.0), (1612, 0.0), (1614, 0.0), (1615, 0.0), (1616, 0.0), (1617, 0.0), (1618, 0.0), (1619, 0.0), (1620, 0.0), (1621, 0.0), (1622, 0.0), (1623, 0.0), (1625, 0.0), (1627, 0.0), (1628, 0.0), (1630, 0.0), (1631, 0.0), (1632, 0.0), (1635, 0.0), (1637, 0.0), (1638, 0.0), (1640, 0.0), (1641, 0.0), (1643, 0.0), (1644, 0.0), (1645, 0.0), (1647, 0.0), (1648, 0.0), (1650, 0.0), (1651, 0.0), (1652, 0.0), (1653, 0.0), (1655, 0.0), (1656, 0.0), (1658, 0.0), (1659, 0.0), (1660, 0.0), (1661, 0.0), (1668, 0.0), (1669, 0.0), (1670, 0.0), (1671, 0.0), (1674, 0.0), (1675, 0.0), (1676, 0.0), (1679, 0.0), (1680, 0.0), (1681, 0.0), (1683, 0.0), (1684, 0.0), (1685, 0.0), (1686, 0.0), (1687, 0.0), (1688, 0.0), (1689, 0.0), (1690, 0.0), (1693, 0.0), (1697, 0.0), (1699, 0.0), (1702, 0.0), (1703, 0.0), (1707, 0.0), (1708, 0.0), (1709, 0.0), (1711, 0.0), (1712, 0.0), (1713, 0.0), (1715, 0.0), (1716, 0.0), (1717, 0.0), (1718, 0.0), (1720, 0.0), (1721, 0.0), (1722, 0.0), (1724, 0.0), (1726, 0.0), (1729, 0.0), (1730, 0.0), (1731, 0.0), (1732, 0.0), (1733, 0.0), (1735, 0.0), (1736, 0.0), (1738, 0.0), (1740, 0.0), (1741, 0.0), (1742, 0.0), (1746, 0.0), (1747, 0.0), (1748, 0.0), (1749, 0.0), (1750, 0.0), (1751, 0.0), (1753, 0.0), (1755, 0.0), (1756, 0.0), (1758, 0.0), (1759, 0.0), (1761, 0.0), (1762, 0.0), (1763, 0.0), (1765, 0.0), (1766, 0.0), (1770, 0.0), (1772, 0.0), (1773, 0.0), (1775, 0.0), (1778, 0.0), (1781, 0.0), (1782, 0.0), (1784, 0.0), (1786, 0.0), (1790, 0.0), (1792, 0.0), (1794, 0.0), (1795, 0.0), (1796, 0.0), (1797, 0.0), (1798, 0.0), (1799, 0.0), (1800, 0.0), (1801, 0.0), (1802, 0.0), (1803, 0.0), (1804, 0.0), (1805, 0.0), (1806, 0.0), (1807, 0.0), (1808, 0.0), (1809, 0.0), (1810, 0.0), (1812, 0.0), (1814, 0.0), (1815, 0.0), (1816, 0.0), (1817, 0.0), (1819, 0.0), (1821, 0.0), (1822, 0.0), (1825, 0.0), (1826, 0.0), (1829, 0.0), (1830, 0.0), (1831, 0.0), (1832, 0.0), (1834, 0.0), (1835, 0.0), (1836, 0.0), (1837, 0.0), (1838, 0.0), (1839, 0.0), (1841, 0.0), (1843, 0.0), (1844, 0.0), (1847, 0.0), (1848, 0.0), (1849, 0.0), (1851, 0.0), (1852, 0.0), (1853, 0.0), (1854, 0.0), (1855, 0.0), (1856, 0.0), (1858, 0.0), (1859, 0.0), (1860, 0.0), (1861, 0.0), (1862, 0.0), (1863, 0.0), (1864, 0.0), (1865, 0.0), (1866, 0.0), (1868, 0.0), (1869, 0.0), (1870, 0.0), (1871, 0.0), (1872, 0.0), (1874, 0.0), (1875, 0.0), (1880, 0.0), (1883, 0.0), (1884, 0.0), (1885, 0.0), (1886, 0.0), (1889, 0.0), (1890, 0.0), (1892, 0.0), (1893, 0.0), (1894, 0.0), (1896, 0.0), (1898, 0.0), (1900, 0.0), (1901, 0.0), (1904, 0.0), (1905, 0.0), (1906, 0.0), (1907, 0.0), (1908, 0.0), (1909, 0.0), (1910, 0.0), (1912, 0.0), (1916, 0.0), (1917, 0.0), (1920, 0.0), (1921, 0.0), (1924, 0.0), (1927, 0.0), (1928, 0.0), (1933, 0.0), (1935, 0.0), (1936, 0.0), (1937, 0.0), (1938, 0.0), (1939, 0.0), (1941, 0.0), (1942, 0.0), (1943, 0.0), (1944, 0.0), (1945, 0.0), (1946, 0.0), (1947, 0.0), (1949, 0.0), (1951, 0.0), (1952, 0.0), (1953, 0.0), (1955, 0.0), (1956, 0.0), (1957, 0.0), (1962, 0.0), (1965, 0.0), (1970, 0.0), (1972, 0.0), (1975, 0.0), (1976, 0.0), (1977, 0.0), (1980, 0.0), (1982, 0.0), (1983, 0.0), (1984, 0.0), (1985, 0.0), (1986, 0.0), (1988, 0.0), (1990, 0.0), (1991, 0.0), (1994, 0.0), (1995, 0.0), (1996, 0.0), (1997, 0.0), (1998, 0.0), (1999, 0.0), (2002, 0.0), (2003, 0.0), (2004, 0.0), (2009, 0.0), (2010, 0.0), (2011, 0.0), (2012, 0.0), (2014, 0.0), (2015, 0.0), (2017, 0.0), (2018, 0.0), (2019, 0.0), (2020, 0.0), (2023, 0.0), (2024, 0.0), (2026, 0.0), (2027, 0.0), (2029, 0.0), (2030, 0.0), (2032, 0.0), (2033, 0.0), (2036, 0.0), (2037, 0.0), (2038, 0.0), (2039, 0.0), (2040, 0.0), (2042, 0.0), (2044, 0.0), (2045, 0.0), (2046, 0.0), (2048, 0.0), (2049, 0.0), (2051, 0.0), (2052, 0.0), (2053, 0.0), (2055, 0.0), (2058, 0.0), (2059, 0.0), (2061, 0.0), (2062, 0.0), (2063, 0.0), (2065, 0.0), (2068, 0.0), (2069, 0.0), (2071, 0.0), (2072, 0.0), (2076, 0.0), (2077, 0.0), (2080, 0.0), (2081, 0.0), (2082, 0.0), (2083, 0.0), (2084, 0.0), (2086, 0.0), (2087, 0.0), (2089, 0.0), (2090, 0.0), (2091, 0.0), (2092, 0.0), (2094, 0.0), (2095, 0.0), (2096, 0.0), (2097, 0.0), (2098, 0.0), (2099, 0.0), (2101, 0.0), (2102, 0.0), (2103, 0.0), (2104, 0.0), (2105, 0.0), (2106, 0.0), (2110, 0.0), (2111, 0.0), (2113, 0.0), (2115, 0.0), (2116, 0.0), (2117, 0.0), (2119, 0.0), (2121, 0.0), (2122, 0.0), (2123, 0.0), (2124, 0.0), (2125, 0.0), (2127, 0.0), (2128, 0.0), (2133, 0.0), (2134, 0.0), (2137, 0.0), (2138, 0.0), (2140, 0.0), (2141, 0.0), (2142, 0.0), (2144, 0.0), (2145, 0.0), (2146, 0.0), (2148, 0.0), (2149, 0.0), (2150, 0.0), (2151, 0.0), (2152, 0.0), (2154, 0.0), (2155, 0.0), (2156, 0.0), (2158, 0.0), (2159, 0.0), (2160, 0.0), (2161, 0.0), (2164, 0.0), (2165, 0.0), (2167, 0.0), (2168, 0.0), (2169, 0.0), (2171, 0.0), (2172, 0.0), (2173, 0.0), (2174, 0.0), (2179, 0.0), (2180, 0.0), (2181, 0.0), (2183, 0.0), (2186, 0.0), (2189, 0.0), (2190, 0.0), (2191, 0.0), (2192, 0.0), (2193, 0.0), (2197, 0.0), (2198, 0.0), (2199, 0.0), (2200, 0.0), (2201, 0.0), (2202, 0.0), (2204, 0.0), (2206, 0.0), (2207, 0.0), (2209, 0.0), (2210, 0.0), (2211, 0.0), (2212, 0.0), (2213, 0.0), (2214, 0.0), (2215, 0.0), (2217, 0.0), (2219, 0.0), (2220, 0.0), (2223, 0.0), (2224, 0.0), (2226, 0.0), (2227, 0.0), (2228, 0.0), (2229, 0.0), (2230, 0.0), (2231, 0.0), (2233, 0.0), (2235, 0.0), (2237, 0.0), (2238, 0.0), (2241, 0.0), (2242, 0.0), (2243, 0.0), (2244, 0.0), (2246, 0.0), (2247, 0.0), (2248, 0.0), (2249, 0.0), (2251, 0.0), (2253, 0.0), (2255, 0.0), (2257, 0.0), (2258, 0.0), (2259, 0.0), (2260, 0.0), (2261, 0.0), (2262, 0.0), (2263, 0.0), (2265, 0.0), (2266, 0.0), (2267, 0.0), (2268, 0.0), (2270, 0.0), (2272, 0.0), (2278, 0.0), (2280, 0.0), (2282, 0.0), (2283, 0.0), (2284, 0.0), (2285, 0.0), (2286, 0.0), (2288, 0.0), (2289, 0.0), (2291, 0.0), (2292, 0.0), (2293, 0.0), (2295, 0.0), (2296, 0.0), (2297, 0.0), (2298, 0.0), (2300, 0.0), (2301, 0.0), (2302, 0.0), (2303, 0.0), (2304, 0.0), (2305, 0.0), (2306, 0.0), (2308, 0.0), (2309, 0.0), (2310, 0.0), (2311, 0.0), (2312, 0.0), (2313, 0.0), (2314, 0.0), (2316, 0.0), (2318, 0.0), (2320, 0.0), (2321, 0.0), (2324, 0.0), (2325, 0.0), (2329, 0.0), (2332, 0.0), (2333, 0.0), (2335, 0.0), (2336, 0.0), (2337, 0.0), (2338, 0.0), (2341, 0.0), (2342, 0.0), (2343, 0.0), (2344, 0.0), (2345, 0.0), (2346, 0.0), (2348, 0.0), (2349, 0.0), (2350, 0.0), (2351, 0.0), (2353, 0.0), (2354, 0.0), (2355, 0.0), (2356, 0.0), (2357, 0.0), (2358, 0.0), (2361, 0.0), (2362, 0.0), (2363, 0.0), (2364, 0.0), (2365, 0.0), (2366, 0.0), (2367, 0.0), (2369, 0.0), (2370, 0.0), (2371, 0.0), (2372, 0.0), (2373, 0.0), (2374, 0.0), (2376, 0.0), (2377, 0.0), (2378, 0.0), (2380, 0.0), (2381, 0.0), (2382, 0.0), (2384, 0.0), (2385, 0.0), (2386, 0.0), (2387, 0.0), (2388, 0.0), (2389, 0.0), (2390, 0.0), (2392, 0.0), (2394, 0.0), (2395, 0.0), (2399, 0.0), (2401, 0.0), (2403, 0.0), (2404, 0.0), (2405, 0.0), (2407, 0.0), (2409, 0.0), (2411, 0.0), (2412, 0.0), (2413, 0.0), (2414, 0.0), (2415, 0.0), (2416, 0.0), (2417, 0.0), (2418, 0.0), (2420, 0.0), (2421, 0.0), (2422, 0.0), (2423, 0.0), (2425, 0.0), (2426, 0.0), (2428, 0.0), (2429, 0.0), (2430, 0.0), (2431, 0.0), (2432, 0.0), (2433, 0.0), (2434, 0.0), (2435, 0.0), (2437, 0.0), (2438, 0.0), (2439, 0.0), (2440, 0.0), (2441, 0.0), (2443, 0.0), (2444, 0.0), (2446, 0.0), (2448, 0.0), (2450, 0.0), (2451, 0.0), (2452, 0.0), (2454, 0.0), (2455, 0.0), (2456, 0.0), (2458, 0.0), (2459, 0.0), (2462, 0.0), (2463, 0.0), (2464, 0.0), (2465, 0.0), (2466, 0.0), (2467, 0.0), (2469, 0.0), (2470, 0.0), (2471, 0.0), (2473, 0.0), (2474, 0.0), (2475, 0.0), (2476, 0.0), (2477, 0.0), (2478, 0.0), (2479, 0.0), (2480, 0.0), (2481, 0.0), (2482, 0.0), (2483, 0.0), (2484, 0.0), (2485, 0.0), (2486, 0.0), (2489, 0.0), (2490, 0.0), (2491, 0.0), (2492, 0.0), (2495, 0.0), (2496, 0.0), (2497, 0.0), (2498, 0.0), (2499, 0.0), (2501, 0.0), (2503, 0.0), (2504, 0.0), (2505, 0.0), (2506, 0.0), (2507, 0.0), (2508, 0.0), (2509, 0.0), (2510, 0.0), (2513, 0.0), (2514, 0.0), (2515, 0.0), (2516, 0.0), (2517, 0.0), (2518, 0.0), (2520, 0.0), (2521, 0.0), (2522, 0.0), (2523, 0.0), (2524, 0.0), (2525, 0.0), (2527, 0.0), (2528, 0.0), (2529, 0.0), (2530, 0.0), (2532, 0.0), (2533, 0.0), (2535, 0.0), (2536, 0.0), (2537, 0.0), (2538, 0.0), (2540, 0.0), (2542, 0.0), (2543, 0.0), (2544, 0.0), (2545, 0.0), (2547, 0.0), (2548, 0.0), (2549, 0.0), (2550, 0.0), (2551, 0.0), (2552, 0.0), (2553, 0.0), (2554, 0.0), (2555, 0.0), (2556, 0.0), (2557, 0.0), (2558, 0.0), (2559, 0.0), (2560, 0.0), (2561, 0.0), (2563, 0.0), (2564, 0.0), (2566, 0.0), (2567, 0.0), (2568, 0.0), (2569, 0.0), (2570, 0.0), (2572, 0.0), (2574, 0.0), (2575, 0.0), (2577, 0.0), (2578, 0.0), (2579, 0.0), (2581, 0.0), (2582, 0.0), (2585, 0.0), (2587, 0.0), (2588, 0.0), (2589, 0.0), (2590, 0.0), (2593, 0.0), (2594, 0.0), (2595, 0.0), (2596, 0.0), (2597, 0.0), (2598, 0.0), (2599, 0.0), (2600, 0.0), (2601, 0.0), (2602, 0.0), (2604, 0.0), (2605, 0.0), (2606, 0.0), (2607, 0.0), (2608, 0.0), (2609, 0.0), (2610, 0.0), (2614, 0.0), (2615, 0.0), (2616, 0.0), (2618, 0.0), (2620, 0.0), (2623, 0.0), (2624, 0.0), (2625, 0.0), (2626, 0.0), (2627, 0.0), (2628, 0.0), (2629, 0.0), (2630, 0.0), (2631, 0.0), (2632, 0.0), (2634, 0.0), (2635, 0.0), (2637, 0.0), (2638, 0.0), (2639, 0.0), (2640, 0.0), (2641, 0.0), (2642, 0.0), (2643, 0.0), (2644, 0.0), (2645, 0.0), (2647, 0.0), (2649, 0.0), (2651, 0.0), (2652, 0.0), (2654, 0.0), (2655, 0.0), (2656, 0.0), (2657, 0.0), (2658, 0.0), (2659, 0.0), (2662, 0.0), (2663, 0.0), (2664, 0.0), (2665, 0.0), (2666, 0.0), (2667, 0.0), (2668, 0.0), (2669, 0.0), (2670, 0.0), (2672, 0.0), (2673, 0.0), (2674, 0.0), (2676, 0.0), (2678, 0.0), (2680, 0.0), (2681, 0.0), (2682, 0.0), (2683, 0.0), (2684, 0.0), (2685, 0.0), (2686, 0.0), (2687, 0.0), (2688, 0.0), (2689, 0.0), (2690, 0.0), (2691, 0.0), (2692, 0.0), (2693, 0.0), (2694, 0.0), (2695, 0.0), (2697, 0.0), (2698, 0.0), (2700, 0.0), (2701, 0.0), (2702, 0.0), (2703, 0.0), (2705, 0.0), (2707, 0.0), (2708, 0.0), (2709, 0.0), (2710, 0.0), (2712, 0.0), (2714, 0.0), (2715, 0.0), (2716, 0.0), (2717, 0.0), (2719, 0.0), (2721, 0.0), (2722, 0.0), (2723, 0.0), (2724, 0.0), (2725, 0.0), (2726, 0.0), (2727, 0.0), (2729, 0.0), (2730, 0.0), (2731, 0.0), (2732, 0.0), (2733, 0.0), (2735, 0.0), (2736, 0.0), (2737, 0.0), (2738, 0.0), (2739, 0.0), (2740, 0.0), (2741, 0.0), (2743, 0.0), (2744, 0.0), (2745, 0.0), (2746, 0.0), (2747, 0.0), (2748, 0.0), (2750, 0.0), (2752, 0.0), (2754, 0.0), (2755, 0.0), (2757, 0.0), (2763, 0.0), (2764, 0.0), (2765, 0.0), (2767, 0.0), (2769, 0.0), (2770, 0.0), (2771, 0.0), (2772, 0.0), (2774, 0.0), (2775, 0.0), (2776, 0.0), (2778, 0.0), (2780, 0.0), (2783, 0.0), (2786, 0.0), (2787, 0.0), (2788, 0.0), (2789, 0.0), (2791, 0.0), (2792, 0.0), (2794, 0.0), (2795, 0.0), (2796, 0.0), (2797, 0.0), (2800, 0.0), (2801, 0.0), (2802, 0.0), (2803, 0.0), (2804, 0.0), (2805, 0.0), (2806, 0.0), (2809, 0.0), (2810, 0.0), (2811, 0.0), (2813, 0.0), (2815, 0.0), (2816, 0.0), (2818, 0.0), (2819, 0.0), (2820, 0.0), (2821, 0.0), (2823, 0.0), (2824, 0.0), (2825, 0.0), (2826, 0.0), (2827, 0.0), (2828, 0.0), (2829, 0.0), (2830, 0.0), (2831, 0.0), (2832, 0.0), (2834, 0.0), (2835, 0.0), (2836, 0.0), (2837, 0.0), (2838, 0.0), (2839, 0.0), (2840, 0.0), (2843, 0.0), (2846, 0.0), (2847, 0.0), (2848, 0.0), (2849, 0.0), (2850, 0.0), (2852, 0.0), (2855, 0.0), (2856, 0.0), (2858, 0.0), (2859, 0.0), (2860, 0.0), (2861, 0.0), (2862, 0.0), (2863, 0.0), (2864, 0.0), (2866, 0.0), (2868, 0.0), (2870, 0.0), (2871, 0.0), (2872, 0.0), (2874, 0.0), (2875, 0.0), (2876, 0.0), (2878, 0.0), (2880, 0.0), (2881, 0.0), (2883, 0.0), (2885, 0.0), (2886, 0.0), (2887, 0.0), (2889, 0.0), (2890, 0.0), (2891, 0.0), (2893, 0.0), (2894, 0.0), (2895, 0.0), (2896, 0.0), (2898, 0.0), (2899, 0.0), (2900, 0.0), (2901, 0.0), (2902, 0.0), (2904, 0.0), (2905, 0.0), (2906, 0.0), (2907, 0.0), (2908, 0.0), (2909, 0.0), (2911, 0.0), (2912, 0.0), (2913, 0.0), (2914, 0.0), (2915, 0.0), (2916, 0.0), (2917, 0.0), (2918, 0.0), (2919, 0.0), (2920, 0.0), (2922, 0.0), (2924, 0.0), (2925, 0.0), (2926, 0.0), (2927, 0.0), (2928, 0.0), (2930, 0.0), (2932, 0.0), (2934, 0.0), (2935, 0.0), (2936, 0.0), (2937, 0.0), (2938, 0.0), (2939, 0.0), (2940, 0.0), (2941, 0.0), (2942, 0.0), (2943, 0.0), (2944, 0.0), (2945, 0.0), (2946, 0.0), (2947, 0.0), (2948, 0.0), (2949, 0.0), (2950, 0.0), (2953, 0.0), (2955, 0.0), (2956, 0.0), (2958, 0.0), (2959, 0.0), (2960, 0.0), (2961, 0.0), (2962, 0.0), (2964, 0.0), (2966, 0.0), (2967, 0.0), (2968, 0.0), (2969, 0.0), (2970, 0.0), (2971, 0.0), (2972, 0.0), (2973, 0.0), (2974, 0.0), (2976, 0.0), (2977, 0.0), (2978, 0.0), (2979, 0.0), (2980, 0.0), (2983, 0.0), (2984, 0.0), (2986, 0.0), (2987, 0.0), (2989, 0.0), (2990, 0.0), (2991, 0.0), (2993, 0.0), (2995, 0.0), (2996, 0.0), (2997, 0.0), (2998, 0.0), (2999, 0.0), (3000, 0.0), (3002, 0.0), (3004, 0.0), (3005, 0.0), (3006, 0.0), (3007, 0.0), (3008, 0.0), (3009, 0.0), (3010, 0.0), (3012, 0.0), (3013, 0.0), (3014, 0.0), (3015, 0.0), (3016, 0.0), (3017, 0.0), (3019, 0.0), (3020, 0.0), (3021, 0.0), (3022, 0.0), (3023, 0.0), (3025, 0.0), (3026, 0.0), (3028, 0.0), (3029, 0.0), (3030, 0.0), (3031, 0.0), (3032, 0.0), (3033, 0.0), (3034, 0.0), (3035, 0.0), (3036, 0.0), (3037, 0.0), (3038, 0.0), (3039, 0.0), (3040, 0.0), (3041, 0.0), (3042, 0.0), (3043, 0.0), (3044, 0.0), (3045, 0.0), (3046, 0.0), (3048, 0.0), (3049, 0.0), (3050, 0.0), (3051, 0.0), (3052, 0.0), (3053, 0.0), (3054, 0.0), (3055, 0.0), (3057, 0.0), (3058, 0.0), (3059, 0.0), (3061, 0.0), (3062, 0.0), (3064, 0.0), (3065, 0.0), (3066, 0.0), (3067, 0.0), (3069, 0.0), (3070, 0.0), (3072, 0.0), (3073, 0.0), (3074, 0.0), (3075, 0.0), (3076, 0.0), (3078, 0.0), (3079, 0.0), (3080, 0.0), (3081, 0.0), (3084, 0.0), (3085, 0.0), (3087, 0.0), (3088, 0.0), (3091, 0.0), (3093, 0.0), (3094, 0.0), (3095, 0.0), (3097, 0.0), (3100, 0.0), (3101, 0.0), (3102, 0.0), (3103, 0.0), (3104, 0.0), (3105, 0.0), (3106, 0.0), (3107, 0.0), (3108, 0.0), (3111, 0.0), (3112, 0.0), (3113, 0.0), (3114, 0.0), (3115, 0.0), (3116, 0.0), (3118, 0.0), (3119, 0.0), (3120, 0.0), (3122, 0.0), (3123, 0.0), (3125, 0.0), (3126, 0.0), (3128, 0.0), (3130, 0.0), (3131, 0.0), (3132, 0.0), (3134, 0.0), (3135, 0.0), (3136, 0.0), (3137, 0.0), (3138, 0.0), (3139, 0.0), (3140, 0.0), (3141, 0.0), (3143, 0.0), (3145, 0.0), (3146, 0.0), (3148, 0.0), (3150, 0.0), (3151, 0.0), (3152, 0.0), (3154, 0.0), (3155, 0.0), (3156, 0.0), (3157, 0.0), (3158, 0.0), (3159, 0.0), (3160, 0.0), (3161, 0.0), (3162, 0.0), (3163, 0.0), (3164, 0.0), (3165, 0.0), (3166, 0.0), (3168, 0.0), (3169, 0.0), (3170, 0.0), (3171, 0.0), (3172, 0.0), (3174, 0.0), (3175, 0.0), (3176, 0.0), (3177, 0.0), (3178, 0.0), (3182, 0.0), (3183, 0.0), (3184, 0.0), (3185, 0.0), (3186, 0.0), (3187, 0.0), (3191, 0.0), (3192, 0.0), (3193, 0.0), (3194, 0.0), (3196, 0.0), (3197, 0.0), (3198, 0.0), (3200, 0.0), (3201, 0.0), (3202, 0.0), (3204, 0.0), (3205, 0.0), (3206, 0.0), (3207, 0.0), (3210, 0.0), (3211, 0.0), (3212, 0.0), (3214, 0.0), (3216, 0.0), (3217, 0.0), (3220, 0.0), (3221, 0.0), (3222, 0.0), (3223, 0.0), (3224, 0.0), (3227, 0.0), (3229, 0.0), (3230, 0.0), (3233, 0.0), (3234, 0.0), (3235, 0.0), (3236, 0.0), (3238, 0.0), (3239, 0.0), (3240, 0.0), (3241, 0.0), (3243, 0.0), (3245, 0.0), (3248, 0.0), (3249, 0.0), (3250, 0.0), (3252, 0.0), (3253, 0.0), (3255, 0.0), (3256, 0.0), (3257, 0.0), (3258, 0.0), (3261, 0.0), (3262, 0.0), (3263, 0.0), (3264, 0.0), (3265, 0.0), (3266, 0.0), (3267, 0.0), (3268, 0.0), (3270, 0.0), (3271, 0.0), (3273, 0.0), (3274, 0.0), (3275, 0.0), (3276, 0.0), (3278, 0.0), (3281, 0.0), (3282, 0.0), (3283, 0.0), (3284, 0.0), (3285, 0.0), (3286, 0.0), (3287, 0.0), (3290, 0.0), (3291, 0.0), (3292, 0.0), (3293, 0.0), (3295, 0.0), (3296, 0.0), (3298, 0.0), (3299, 0.0), (3301, 0.0), (3302, 0.0), (3304, 0.0), (3305, 0.0), (3307, 0.0), (3308, 0.0), (3309, 0.0), (3310, 0.0), (3311, 0.0), (3312, 0.0), (3313, 0.0), (3314, 0.0), (3317, 0.0), (3319, 0.0), (3322, 0.0), (3323, 0.0), (3324, 0.0), (3325, 0.0), (3326, 0.0), (3328, 0.0), (3329, 0.0), (3331, 0.0), (3332, 0.0), (3333, 0.0), (3334, 0.0), (3335, 0.0), (3337, 0.0), (3339, 0.0), (3340, 0.0), (3341, 0.0), (3343, 0.0), (3344, 0.0), (3345, 0.0), (3346, 0.0), (3347, 0.0), (3349, 0.0), (3350, 0.0), (3351, 0.0), (3352, 0.0), (3353, 0.0), (3354, 0.0), (3355, 0.0), (3357, 0.0), (3358, 0.0), (3359, 0.0), (3360, 0.0), (3362, 0.0), (3365, 0.0), (3366, 0.0), (3367, 0.0), (3368, 0.0), (3369, 0.0), (3371, 0.0), (3372, 0.0), (3373, 0.0), (3375, 0.0), (3376, 0.0), (3377, 0.0), (3378, 0.0), (3379, 0.0), (3380, 0.0), (3382, 0.0), (3383, 0.0), (3384, 0.0), (3386, 0.0), (3387, 0.0), (3389, 0.0), (3394, 0.0), (3395, 0.0), (3396, 0.0), (3397, 0.0), (3398, 0.0), (3399, 0.0), (3400, 0.0), (3402, 0.0), (3403, 0.0), (3404, 0.0), (3406, 0.0), (3409, 0.0), (3410, 0.0), (3412, 0.0), (3413, 0.0), (3414, 0.0), (3415, 0.0), (3416, 0.0), (3417, 0.0), (3418, 0.0), (3419, 0.0), (3420, 0.0), (3422, 0.0), (3423, 0.0), (3424, 0.0), (3426, 0.0), (3428, 0.0), (3429, 0.0), (3430, 0.0), (3431, 0.0), (3432, 0.0), (3433, 0.0), (3434, 0.0), (3435, 0.0), (3436, 0.0), (3438, 0.0), (3440, 0.0), (3441, 0.0), (3442, 0.0), (3443, 0.0), (3444, 0.0), (3447, 0.0), (3448, 0.0), (3449, 0.0), (3450, 0.0), (3451, 0.0), (3452, 0.0), (3453, 0.0), (3455, 0.0), (3460, 0.0), (3461, 0.0), (3462, 0.0), (3463, 0.0), (3464, 0.0), (3465, 0.0), (3467, 0.0), (3468, 0.0), (3470, 0.0), (3471, 0.0), (3472, 0.0), (3473, 0.0), (3475, 0.0), (3476, 0.0), (3478, 0.0), (3479, 0.0), (3480, 0.0), (3481, 0.0), (3483, 0.0), (3486, 0.0), (3487, 0.0), (3488, 0.0), (3489, 0.0), (3490, 0.0), (3491, 0.0), (3492, 0.0), (3493, 0.0), (3494, 0.0), (3496, 0.0), (3499, 0.0), (3500, 0.0), (3501, 0.0), (3504, 0.0), (3505, 0.0), (3508, 0.0), (3509, 0.0), (3511, 0.0), (3512, 0.0), (3513, 0.0), (3514, 0.0), (3515, 0.0), (3517, 0.0), (3518, 0.0), (3519, 0.0), (3521, 0.0), (3522, 0.0), (3523, 0.0), (3524, 0.0), (3526, 0.0), (3527, 0.0), (3528, 0.0), (3529, 0.0), (3530, 0.0), (3532, 0.0), (3534, 0.0), (3535, 0.0), (3536, 0.0), (3538, 0.0), (3540, 0.0), (3541, 0.0), (3542, 0.0), (3543, 0.0), (3544, 0.0), (3545, 0.0), (3546, 0.0), (3547, 0.0), (3550, 0.0), (3551, 0.0), (3552, 0.0), (3553, 0.0), (3554, 0.0), (3555, 0.0), (3556, 0.0), (3558, 0.0), (3560, 0.0), (3562, 0.0), (3565, 0.0), (3566, 0.0), (3567, 0.0), (3568, 0.0), (3569, 0.0), (3570, 0.0), (3571, 0.0), (3573, 0.0), (3574, 0.0), (3575, 0.0), (3576, 0.0), (3581, 0.0), (3582, 0.0), (3583, 0.0), (3584, 0.0), (3585, 0.0), (3586, 0.0), (3587, 0.0), (3588, 0.0), (3589, 0.0), (3590, 0.0), (3591, 0.0), (3592, 0.0), (3595, 0.0), (3597, 0.0), (3598, 0.0), (3599, 0.0), (3600, 0.0), (3601, 0.0), (3602, 0.0), (3603, 0.0), (3604, 0.0), (3605, 0.0), (3607, 0.0), (3608, 0.0), (3609, 0.0), (3612, 0.0), (3613, 0.0), (3614, 0.0), (3615, 0.0), (3617, 0.0), (3618, 0.0), (3620, 0.0), (3621, 0.0), (3622, 0.0), (3623, 0.0), (3624, 0.0), (3625, 0.0), (3627, 0.0), (3628, 0.0), (3629, 0.0), (3630, 0.0), (3631, 0.0), (3634, 0.0), (3635, 0.0), (3636, 0.0), (3637, 0.0), (3638, 0.0), (3640, 0.0), (3641, 0.0), (3643, 0.0), (3644, 0.0), (3649, 0.0), (3650, 0.0), (3651, 0.0), (3652, 0.0), (3654, 0.0), (3656, 0.0), (3659, 0.0), (3660, 0.0), (3661, 0.0), (3662, 0.0), (3663, 0.0), (3664, 0.0), (3665, 0.0), (3666, 0.0), (3668, 0.0), (3669, 0.0), (3670, 0.0), (3671, 0.0), (3672, 0.0), (3673, 0.0), (3674, 0.0), (3675, 0.0), (3676, 0.0), (3677, 0.0), (3678, 0.0), (3679, 0.0), (3680, 0.0), (3681, 0.0), (3682, 0.0), (3686, 0.0), (3687, 0.0), (3688, 0.0), (3689, 0.0), (3690, 0.0), (3691, 0.0), (3692, 0.0), (3693, 0.0), (3694, 0.0), (3695, 0.0), (3696, 0.0), (3697, 0.0), (3698, 0.0), (3699, 0.0), (3700, 0.0), (3701, 0.0), (3702, 0.0), (3703, 0.0), (3704, 0.0), (3705, 0.0), (3706, 0.0), (3707, 0.0), (3709, 0.0), (3710, 0.0), (3712, 0.0), (3713, 0.0), (3714, 0.0), (3715, 0.0), (3716, 0.0), (3717, 0.0), (3719, 0.0), (3720, 0.0), (3721, 0.0), (3723, 0.0), (3724, 0.0), (3725, 0.0), (3727, 0.0), (3728, 0.0), (3729, 0.0), (3733, 0.0), (3734, 0.0), (3735, 0.0), (3737, 0.0), (3738, 0.0), (3740, 0.0), (3742, 0.0), (3743, 0.0), (3744, 0.0), (3745, 0.0), (3746, 0.0), (3747, 0.0), (3748, 0.0), (3749, 0.0), (3752, 0.0), (3753, 0.0), (3754, 0.0), (3755, 0.0), (3756, 0.0), (3757, 0.0), (3758, 0.0), (3760, 0.0), (3761, 0.0), (3762, 0.0), (3763, 0.0), (3764, 0.0), (3765, 0.0), (3766, 0.0), (3767, 0.0), (3768, 0.0), (3769, 0.0), (3770, 0.0), (3771, 0.0), (3772, 0.0), (3773, 0.0), (3775, 0.0), (3776, 0.0), (3778, 0.0), (3779, 0.0), (3781, 0.0), (3783, 0.0), (3784, 0.0), (3785, 0.0), (3786, 0.0), (3788, 0.0), (3789, 0.0), (3791, 0.0), (3793, 0.0), (3794, 0.0), (3796, 0.0), (3798, 0.0), (3799, 0.0), (3800, 0.0), (3801, 0.0), (3802, 0.0), (3803, 0.0), (3804, 0.0), (3805, 0.0), (3806, 0.0), (3808, 0.0), (3809, 0.0), (3810, 0.0), (3811, 0.0), (3814, 0.0), (3815, 0.0), (3816, 0.0), (3817, 0.0), (3818, 0.0), (3820, 0.0), (3821, 0.0), (3822, 0.0), (3823, 0.0), (3824, 0.0), (3825, 0.0), (3826, 0.0), (3827, 0.0), (3828, 0.0), (3829, 0.0), (3831, 0.0), (3832, 0.0), (3833, 0.0), (3834, 0.0), (3835, 0.0), (3836, 0.0), (3838, 0.0), (3839, 0.0), (3840, 0.0), (3841, 0.0), (3842, 0.0), (3843, 0.0), (3844, 0.0), (3847, 0.0), (3848, 0.0), (3850, 0.0), (3851, 0.0), (3854, 0.0), (3856, 0.0), (3857, 0.0), (3859, 0.0), (3861, 0.0), (3862, 0.0), (3869, 0.0), (3871, 0.0), (3872, 0.0), (3873, 0.0), (3874, 0.0), (3875, 0.0), (3877, 0.0), (3878, 0.0), (3879, 0.0), (3880, 0.0), (3881, 0.0), (3882, 0.0), (3883, 0.0), (3884, 0.0), (3885, 0.0), (3887, 0.0), (3888, 0.0), (3890, 0.0), (3892, 0.0), (3893, 0.0), (3894, 0.0), (3895, 0.0), (3896, 0.0), (3897, 0.0), (3898, 0.0), (3899, 0.0), (3900, 0.0), (3901, 0.0), (3902, 0.0), (3904, 0.0), (3905, 0.0), (3906, 0.0), (3907, 0.0), (3908, 0.0), (3909, 0.0), (3910, 0.0), (3911, 0.0), (3915, 0.0), (3917, 0.0), (3918, 0.0), (3919, 0.0), (3921, 0.0), (3922, 0.0), (3923, 0.0), (3924, 0.0), (3925, 0.0), (3927, 0.0), (3928, 0.0), (3929, 0.0), (3930, 0.0), (3931, 0.0), (3932, 0.0), (3933, 0.0), (3934, 0.0), (3935, 0.0), (3937, 0.0), (3939, 0.0), (3940, 0.0), (3941, 0.0), (3942, 0.0), (3944, 0.0), (3945, 0.0), (3946, 0.0), (3947, 0.0), (3948, 0.0), (3949, 0.0), (3951, 0.0), (3952, 0.0), (3953, 0.0), (3954, 0.0), (3955, 0.0), (3956, 0.0), (3957, 0.0), (3959, 0.0), (3960, 0.0), (3962, 0.0), (3963, 0.0), (3964, 0.0), (3965, 0.0), (3967, 0.0), (3969, 0.0), (3970, 0.0), (3971, 0.0), (3972, 0.0), (3973, 0.0), (3975, 0.0), (3977, 0.0), (3978, 0.0), (3979, 0.0), (3980, 0.0), (3981, 0.0), (3984, 0.0), (3986, 0.0), (3987, 0.0), (3988, 0.0), (3989, 0.0), (3990, 0.0), (3991, 0.0), (3994, 0.0), (3995, 0.0), (3996, 0.0), (3997, 0.0), (3998, 0.0), (3999, 0.0), (4000, 0.0), (4002, 0.0), (4004, 0.0), (4005, 0.0), (4006, 0.0), (4007, 0.0), (4008, 0.0), (4009, 0.0), (4010, 0.0), (4012, 0.0), (4013, 0.0), (4014, 0.0), (4015, 0.0), (4016, 0.0), (4017, 0.0), (4019, 0.0), (4020, 0.0), (4021, 0.0), (4022, 0.0), (4023, 0.0), (4024, 0.0), (4025, 0.0), (4027, 0.0), (4028, 0.0), (4029, 0.0), (4030, 0.0), (4031, 0.0), (4032, 0.0), (4034, 0.0), (4036, 0.0), (4037, 0.0), (4038, 0.0), (4039, 0.0), (4040, 0.0), (4041, 0.0), (4042, 0.0), (4043, 0.0), (4044, 0.0), (4048, 0.0), (4049, 0.0), (4050, 0.0), (4052, 0.0), (4053, 0.0), (4054, 0.0), (4055, 0.0), (4056, 0.0), (4057, 0.0), (4058, 0.0), (4060, 0.0), (4063, 0.0), (4065, 0.0), (4066, 0.0), (4069, 0.0), (4070, 0.0), (4072, 0.0), (4075, 0.0), (4076, 0.0), (4077, 0.0), (4078, 0.0), (4079, 0.0), (4080, 0.0), (4081, 0.0), (4082, 0.0), (4083, 0.0), (4084, 0.0), (4087, 0.0), (4088, 0.0), (4091, 0.0), (4092, 0.0), (4093, 0.0), (4094, 0.0), (4096, 0.0), (4098, 0.0), (4099, 0.0), (4100, 0.0), (4102, 0.0), (4103, 0.0), (4104, 0.0), (4105, 0.0), (4106, 0.0), (4107, 0.0), (4108, 0.0), (4111, 0.0), (4112, 0.0), (4113, 0.0), (4115, 0.0), (4116, 0.0), (4117, 0.0), (4118, 0.0), (4119, 0.0), (4120, 0.0), (4123, 0.0), (4124, 0.0), (4126, 0.0), (4127, 0.0), (4129, 0.0), (4130, 0.0), (4131, 0.0), (4132, 0.0), (4133, 0.0), (4134, 0.0), (4135, 0.0), (4136, 0.0), (4138, 0.0), (4139, 0.0), (4140, 0.0), (4141, 0.0), (4142, 0.0), (4143, 0.0), (4144, 0.0), (4145, 0.0), (4146, 0.0), (4147, 0.0), (4148, 0.0), (4150, 0.0), (4151, 0.0), (4153, 0.0), (4154, 0.0), (4156, 0.0), (4160, 0.0), (4162, 0.0), (4163, 0.0), (4164, 0.0), (4165, 0.0), (4166, 0.0), (4167, 0.0), (4168, 0.0), (4170, 0.0), (4172, 0.0), (4175, 0.0), (4176, 0.0), (4177, 0.0), (4178, 0.0), (4179, 0.0), (4180, 0.0), (4181, 0.0), (4182, 0.0), (4183, 0.0), (4184, 0.0), (4185, 0.0), (4188, 0.0), (4189, 0.0), (4190, 0.0), (4191, 0.0), (4192, 0.0), (4193, 0.0), (4194, 0.0), (4195, 0.0), (4196, 0.0), (4198, 0.0), (4200, 0.0), (4201, 0.0), (4202, 0.0), (4204, 0.0), (4205, 0.0), (4206, 0.0), (4208, 0.0), (4209, 0.0), (4210, 0.0), (4211, 0.0), (4212, 0.0), (4213, 0.0), (4214, 0.0), (4215, 0.0), (4216, 0.0), (4217, 0.0), (4219, 0.0), (4220, 0.0), (4221, 0.0), (4222, 0.0), (4223, 0.0), (4224, 0.0), (4225, 0.0), (4226, 0.0), (4227, 0.0), (4228, 0.0), (4229, 0.0), (4230, 0.0), (4231, 0.0), (4232, 0.0), (4234, 0.0), (4235, 0.0), (4238, 0.0), (4239, 0.0), (4241, 0.0), (4242, 0.0), (4243, 0.0), (4244, 0.0), (4245, 0.0), (4246, 0.0), (4248, 0.0), (4249, 0.0), (4250, 0.0), (4251, 0.0), (4253, 0.0), (4255, 0.0), (4256, 0.0), (4257, 0.0), (4260, 0.0), (4261, 0.0), (4263, 0.0), (4264, 0.0), (4265, 0.0), (4266, 0.0), (4267, 0.0), (4268, 0.0), (4269, 0.0), (4270, 0.0), (4272, 0.0), (4273, 0.0), (4275, 0.0), (4276, 0.0), (4278, 0.0), (4280, 0.0), (4281, 0.0), (4282, 0.0), (4283, 0.0), (4284, 0.0), (4285, 0.0), (4288, 0.0), (4289, 0.0), (4291, 0.0), (4292, 0.0), (4293, 0.0), (4294, 0.0), (4295, 0.0), (4296, 0.0), (4297, 0.0), (4298, 0.0), (4299, 0.0), (4301, 0.0), (4302, 0.0), (4303, 0.0), (4304, 0.0), (4305, 0.0), (4306, 0.0), (4307, 0.0), (4308, 0.0), (4309, 0.0), (4311, 0.0), (4312, 0.0), (4313, 0.0), (4314, 0.0), (4315, 0.0), (4316, 0.0), (4317, 0.0), (4318, 0.0), (4319, 0.0), (4320, 0.0), (4322, 0.0), (4325, 0.0), (4326, 0.0), (4327, 0.0), (4328, 0.0), (4330, 0.0), (4331, 0.0), (4332, 0.0), (4335, 0.0), (4336, 0.0), (4337, 0.0), (4339, 0.0), (4342, 0.0), (4343, 0.0), (4344, 0.0), (4345, 0.0), (4346, 0.0), (4348, 0.0), (4350, 0.0), (4351, 0.0), (4352, 0.0), (4354, 0.0), (4355, 0.0), (4357, 0.0), (4358, 0.0), (4362, 0.0), (4363, 0.0), (4365, 0.0), (4367, 0.0), (4368, 0.0), (4369, 0.0), (4370, 0.0), (4372, 0.0), (4373, 0.0), (4375, 0.0), (4377, 0.0), (4379, 0.0), (4380, 0.0), (4381, 0.0), (4382, 0.0), (4383, 0.0), (4384, 0.0), (4385, 0.0), (4386, 0.0), (4387, 0.0), (4389, 0.0), (4390, 0.0), (4391, 0.0), (4392, 0.0), (4393, 0.0), (4395, 0.0), (4396, 0.0), (4397, 0.0), (4398, 0.0), (4400, 0.0), (4401, 0.0), (4402, 0.0), (4403, 0.0), (4404, 0.0), (4406, 0.0), (4408, 0.0), (4411, 0.0), (4412, 0.0), (4413, 0.0), (4414, 0.0), (4415, 0.0), (4416, 0.0), (4417, 0.0), (4418, 0.0), (4419, 0.0), (4420, 0.0), (4421, 0.0), (4422, 0.0), (4423, 0.0), (4424, 0.0), (4425, 0.0), (4426, 0.0), (4428, 0.0), (4429, 0.0), (4430, 0.0), (4431, 0.0), (4432, 0.0), (4433, 0.0), (4435, 0.0), (4436, 0.0), (4439, 0.0), (4440, 0.0), (4441, 0.0), (4442, 0.0), (4443, 0.0), (4444, 0.0), (4448, 0.0), (4449, 0.0), (4450, 0.0), (4451, 0.0), (4452, 0.0), (4453, 0.0), (4454, 0.0), (4456, 0.0), (4457, 0.0), (4458, 0.0), (4461, 0.0), (4462, 0.0), (4463, 0.0), (4464, 0.0), (4465, 0.0), (4466, 0.0), (4467, 0.0), (4469, 0.0), (4470, 0.0), (4471, 0.0), (4474, 0.0), (4475, 0.0), (4477, 0.0), (4479, 0.0), (4480, 0.0), (4481, 0.0), (4482, 0.0), (4483, 0.0), (4484, 0.0), (4485, 0.0), (4486, 0.0), (4488, 0.0), (4489, 0.0), (4490, 0.0), (4491, 0.0), (4492, 0.0), (4493, 0.0), (4494, 0.0), (4496, 0.0), (4498, 0.0), (4499, 0.0), (4500, 0.0), (4501, 0.0), (4504, 0.0), (4505, 0.0), (4506, 0.0), (4508, 0.0), (4510, 0.0), (4511, 0.0), (4512, 0.0), (4513, 0.0), (4514, 0.0), (4516, 0.0), (4517, 0.0), (4518, 0.0), (4520, 0.0), (4521, 0.0), (4522, 0.0), (4525, 0.0), (4526, 0.0), (4527, 0.0), (4528, 0.0), (4529, 0.0), (4531, 0.0), (4532, 0.0), (4533, 0.0), (4537, 0.0), (4539, 0.0), (4540, 0.0), (4541, 0.0), (4543, 0.0), (4544, 0.0), (4545, 0.0), (4546, 0.0), (4547, 0.0), (4548, 0.0), (4549, 0.0), (4550, 0.0), (4551, 0.0), (4554, 0.0), (4555, 0.0), (4556, 0.0), (4557, 0.0), (4558, 0.0), (4559, 0.0), (4560, 0.0), (4561, 0.0), (4562, 0.0), (4563, 0.0), (4564, 0.0), (4565, 0.0), (4566, 0.0), (4567, 0.0), (4568, 0.0), (4570, 0.0), (4571, 0.0), (4573, 0.0), (4575, 0.0), (4577, 0.0), (4578, 0.0), (4579, 0.0), (4580, 0.0), (4581, 0.0), (4582, 0.0), (4584, 0.0), (4586, 0.0), (4588, 0.0), (4589, 0.0), (4592, 0.0), (4593, 0.0), (4594, 0.0), (4595, 0.0), (4596, 0.0), (4597, 0.0), (4599, 0.0), (4601, 0.0), (4602, 0.0), (4603, 0.0), (4604, 0.0), (4605, 0.0), (4606, 0.0), (4607, 0.0), (4608, 0.0), (4611, 0.0), (4612, 0.0), (4613, 0.0), (4614, 0.0), (4615, 0.0), (4616, 0.0), (4617, 0.0), (4618, 0.0), (4619, 0.0), (4620, 0.0), (4621, 0.0), (4622, 0.0), (4623, 0.0), (4624, 0.0), (4625, 0.0), (4626, 0.0), (4627, 0.0), (4630, 0.0), (4631, 0.0), (4632, 0.0), (4633, 0.0), (4634, 0.0), (4635, 0.0), (4636, 0.0), (4637, 0.0), (4638, 0.0), (4640, 0.0), (4641, 0.0), (4642, 0.0), (4643, 0.0), (4644, 0.0), (4645, 0.0), (4646, 0.0), (4647, 0.0), (4648, 0.0), (4649, 0.0), (4650, 0.0), (4651, 0.0), (4652, 0.0), (4653, 0.0), (4654, 0.0), (4656, 0.0), (4657, 0.0), (4658, 0.0), (4660, 0.0), (4661, 0.0), (4662, 0.0), (4663, 0.0), (4664, 0.0), (4666, 0.0), (4667, 0.0), (4668, 0.0), (4669, 0.0), (4670, 0.0), (4671, 0.0), (4672, 0.0), (4674, 0.0), (4675, 0.0), (4676, 0.0), (4677, 0.0), (4678, 0.0), (4680, 0.0), (4681, 0.0), (4682, 0.0), (4683, 0.0), (4685, 0.0), (4686, 0.0), (4687, 0.0), (4690, 0.0), (4691, 0.0), (4692, 0.0), (4693, 0.0), (4694, 0.0), (4695, 0.0), (4696, 0.0), (4697, 0.0), (4698, 0.0), (4700, 0.0), (4702, 0.0), (4703, 0.0), (4704, 0.0), (4705, 0.0), (4706, 0.0), (4707, 0.0), (4709, 0.0), (4710, 0.0), (4711, 0.0), (4712, 0.0), (4713, 0.0), (4714, 0.0), (4715, 0.0), (4716, 0.0), (4717, 0.0), (4718, 0.0), (4719, 0.0), (4720, 0.0), (4722, 0.0), (4723, 0.0), (4724, 0.0), (4726, 0.0), (4727, 0.0), (4729, 0.0), (4730, 0.0), (4731, 0.0), (4732, 0.0), (4733, 0.0), (4734, 0.0), (4735, 0.0), (4736, 0.0), (4737, 0.0), (4740, 0.0), (4741, 0.0), (4743, 0.0), (4744, 0.0), (4745, 0.0), (4746, 0.0), (4747, 0.0), (4748, 0.0), (4749, 0.0), (4750, 0.0), (4751, 0.0), (4753, 0.0), (4755, 0.0), (4758, 0.0), (4759, 0.0)]\n"
          ]
        }
      ]
    },
    {
      "cell_type": "code",
      "source": [
        "print('Top 30 MoviesSuggested For You ; \\n')\n",
        "i=1\n",
        "for movie in Sorted_Similar_Movies:\n",
        "  index=movie[0]\n",
        "  title_from_index = df[df.index==index]['Movie_Title'].values[0]\n",
        "  if (i<31):\n",
        "    print(i,'.',title_from_index)\n",
        "    i+=1\n"
      ],
      "metadata": {
        "id": "vjxNChX7w4HR",
        "outputId": "96372a96-89ad-45ac-a132-94b5d2844a4d",
        "colab": {
          "base_uri": "https://localhost:8080/"
        }
      },
      "execution_count": 35,
      "outputs": [
        {
          "output_type": "stream",
          "name": "stdout",
          "text": [
            "Top 30 MoviesSuggested For You ; \n",
            "\n",
            "1 . Get Him to the Greek\n",
            "2 . Forgetting Sarah Marshall\n",
            "3 . The Next Three Days\n",
            "4 . Neighbors\n",
            "5 . Neighbors 2: Sorority Rising\n",
            "6 . The Sitter\n",
            "7 . Hop\n",
            "8 . Superbad\n",
            "9 . Puss in Boots\n",
            "10 . This Is Where I Leave You\n",
            "11 . Grand Theft Parsons\n",
            "12 . Walk Hard: The Dewey Cox Story\n",
            "13 . Top Five\n",
            "14 . The Scorpion King\n",
            "15 . The Longest Yard\n",
            "16 . The Italian Job\n",
            "17 . 2016: Obama's America\n",
            "18 . Little Women\n",
            "19 . Y tu mamá también\n",
            "20 . Gremlins\n",
            "21 . Laws of Attraction\n",
            "22 . Strange Wilderness\n",
            "23 . The Internship\n",
            "24 . Despicable Me\n",
            "25 . The Watch\n",
            "26 . Creature\n",
            "27 . Moneyball\n",
            "28 . Katy Perry: Part of Me\n",
            "29 . The Mask\n",
            "30 . College\n"
          ]
        }
      ]
    },
    {
      "cell_type": "markdown",
      "source": [
        "**Top 10 Movie Recommendation System**"
      ],
      "metadata": {
        "id": "EjyWOWXT2GSE"
      }
    },
    {
      "cell_type": "code",
      "source": [
        "Movie_Name = input('Enter your Favourite movie name : ')\n",
        "list_of_all_titles=df['Movie_Title'].tolist()\n",
        "find_close_match=difflib.get_close_matches(Movie_Name, list_of_all_titles)\n",
        "Close_Match = find_close_match[0]\n",
        "Index_of_Movie = df[df.Movie_Title == Close_Match]['Movie_ID'].values[0]\n",
        "Recommendation_Score = list(enumerate(Similarity_Score[Index_of_Movie]))\n",
        "Sorted_Similar_Movies = sorted(Recommendation_Score, key=lambda x:x[1],reverse = True)\n",
        "print('Top 10 MoviesSuggested For You ; \\n')\n",
        "i=1\n",
        "for movie in Sorted_Similar_Movies:\n",
        "  index=movie[0]\n",
        "  title_from_index = df[df.index==index]['Movie_Title'].values[0]\n",
        "  if (i<11):\n",
        "    print(i,'.',title_from_index)\n",
        "    i+=1\n"
      ],
      "metadata": {
        "id": "WBJOzBWJwWQR",
        "outputId": "ef7c3e50-0885-407c-b106-4926e3845f57",
        "colab": {
          "base_uri": "https://localhost:8080/"
        }
      },
      "execution_count": 36,
      "outputs": [
        {
          "output_type": "stream",
          "name": "stdout",
          "text": [
            "Enter your Favourite movie name : krish\n",
            "Top 10 MoviesSuggested For You ; \n",
            "\n",
            "1 . Get Him to the Greek\n",
            "2 . Forgetting Sarah Marshall\n",
            "3 . The Next Three Days\n",
            "4 . Neighbors\n",
            "5 . Neighbors 2: Sorority Rising\n",
            "6 . The Sitter\n",
            "7 . Hop\n",
            "8 . Superbad\n",
            "9 . Puss in Boots\n",
            "10 . This Is Where I Leave You\n"
          ]
        }
      ]
    }
  ]
}